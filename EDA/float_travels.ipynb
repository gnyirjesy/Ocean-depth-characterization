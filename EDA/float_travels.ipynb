{
 "cells": [
  {
   "cell_type": "code",
   "execution_count": 26,
   "metadata": {},
   "outputs": [],
   "source": [
    "import pandas as pd\n",
    "import numpy as np\n",
    "import matplotlib.pyplot as plt\n",
    "import seaborn as sns"
   ]
  },
  {
   "cell_type": "code",
   "execution_count": 27,
   "metadata": {},
   "outputs": [],
   "source": [
    "floats_df = pd.read_csv('/Users/elijahflomen/Desktop/Capstone/data/profileData.csv')\n",
    "\n",
    "\n",
    "\n",
    "sat_df = pd.read_csv('/Users/elijahflomen/Desktop/Capstone/data/satData.csv')\n",
    "josie_df = pd.read_csv('/Users/elijahflomen/Desktop/Capstone/data/floatLocData.csv')\n",
    "\n",
    "merged_df = sat_df.merge(floats_df, on=['float', \"cycleNumber\", \"date\"], how='inner')"
   ]
  },
  {
   "cell_type": "code",
   "execution_count": 32,
   "metadata": {},
   "outputs": [
    {
     "data": {
      "text/html": [
       "<div>\n",
       "<style scoped>\n",
       "    .dataframe tbody tr th:only-of-type {\n",
       "        vertical-align: middle;\n",
       "    }\n",
       "\n",
       "    .dataframe tbody tr th {\n",
       "        vertical-align: top;\n",
       "    }\n",
       "\n",
       "    .dataframe thead th {\n",
       "        text-align: right;\n",
       "    }\n",
       "</style>\n",
       "<table border=\"1\" class=\"dataframe\">\n",
       "  <thead>\n",
       "    <tr style=\"text-align: right;\">\n",
       "      <th></th>\n",
       "      <th>float</th>\n",
       "      <th>max_lat</th>\n",
       "      <th>max_long</th>\n",
       "      <th>min_lat</th>\n",
       "      <th>min_long</th>\n",
       "    </tr>\n",
       "  </thead>\n",
       "  <tbody>\n",
       "    <tr>\n",
       "      <th>0</th>\n",
       "      <td>1902303</td>\n",
       "      <td>49.236000</td>\n",
       "      <td>-14.494000</td>\n",
       "      <td>41.515000</td>\n",
       "      <td>-18.788000</td>\n",
       "    </tr>\n",
       "    <tr>\n",
       "      <th>1</th>\n",
       "      <td>1902304</td>\n",
       "      <td>49.137000</td>\n",
       "      <td>-14.260000</td>\n",
       "      <td>46.579000</td>\n",
       "      <td>-17.493000</td>\n",
       "    </tr>\n",
       "    <tr>\n",
       "      <th>2</th>\n",
       "      <td>1902380</td>\n",
       "      <td>18.624000</td>\n",
       "      <td>-36.940000</td>\n",
       "      <td>17.318000</td>\n",
       "      <td>-38.048000</td>\n",
       "    </tr>\n",
       "    <tr>\n",
       "      <th>3</th>\n",
       "      <td>1902381</td>\n",
       "      <td>17.346000</td>\n",
       "      <td>-32.990000</td>\n",
       "      <td>15.186000</td>\n",
       "      <td>-34.353000</td>\n",
       "    </tr>\n",
       "    <tr>\n",
       "      <th>4</th>\n",
       "      <td>1902382</td>\n",
       "      <td>18.213000</td>\n",
       "      <td>-28.684000</td>\n",
       "      <td>16.645000</td>\n",
       "      <td>-30.500000</td>\n",
       "    </tr>\n",
       "    <tr>\n",
       "      <th>...</th>\n",
       "      <td>...</td>\n",
       "      <td>...</td>\n",
       "      <td>...</td>\n",
       "      <td>...</td>\n",
       "      <td>...</td>\n",
       "    </tr>\n",
       "    <tr>\n",
       "      <th>564</th>\n",
       "      <td>7900583</td>\n",
       "      <td>-38.797190</td>\n",
       "      <td>165.206910</td>\n",
       "      <td>-39.667270</td>\n",
       "      <td>164.902770</td>\n",
       "    </tr>\n",
       "    <tr>\n",
       "      <th>565</th>\n",
       "      <td>7900585</td>\n",
       "      <td>51.468780</td>\n",
       "      <td>-34.579940</td>\n",
       "      <td>49.306480</td>\n",
       "      <td>-39.905310</td>\n",
       "    </tr>\n",
       "    <tr>\n",
       "      <th>566</th>\n",
       "      <td>7900588</td>\n",
       "      <td>51.945904</td>\n",
       "      <td>-30.255620</td>\n",
       "      <td>49.401650</td>\n",
       "      <td>-39.023710</td>\n",
       "    </tr>\n",
       "    <tr>\n",
       "      <th>567</th>\n",
       "      <td>7900589</td>\n",
       "      <td>57.180080</td>\n",
       "      <td>-45.479260</td>\n",
       "      <td>53.349830</td>\n",
       "      <td>-50.259880</td>\n",
       "    </tr>\n",
       "    <tr>\n",
       "      <th>568</th>\n",
       "      <td>7901001</td>\n",
       "      <td>17.330405</td>\n",
       "      <td>-23.270532</td>\n",
       "      <td>16.461475</td>\n",
       "      <td>-24.560187</td>\n",
       "    </tr>\n",
       "  </tbody>\n",
       "</table>\n",
       "<p>569 rows × 5 columns</p>\n",
       "</div>"
      ],
      "text/plain": [
       "       float    max_lat    max_long    min_lat    min_long\n",
       "0    1902303  49.236000  -14.494000  41.515000  -18.788000\n",
       "1    1902304  49.137000  -14.260000  46.579000  -17.493000\n",
       "2    1902380  18.624000  -36.940000  17.318000  -38.048000\n",
       "3    1902381  17.346000  -32.990000  15.186000  -34.353000\n",
       "4    1902382  18.213000  -28.684000  16.645000  -30.500000\n",
       "..       ...        ...         ...        ...         ...\n",
       "564  7900583 -38.797190  165.206910 -39.667270  164.902770\n",
       "565  7900585  51.468780  -34.579940  49.306480  -39.905310\n",
       "566  7900588  51.945904  -30.255620  49.401650  -39.023710\n",
       "567  7900589  57.180080  -45.479260  53.349830  -50.259880\n",
       "568  7901001  17.330405  -23.270532  16.461475  -24.560187\n",
       "\n",
       "[569 rows x 5 columns]"
      ]
     },
     "execution_count": 32,
     "metadata": {},
     "output_type": "execute_result"
    }
   ],
   "source": [
    "# for each float, get min lat, max lat, min long max long -- this will give us a rough idea of the range of motion each float has\n",
    "max_lat_long = merged_df.groupby(by='float').max().reset_index()[[\"float\", \"latitude\", \"longitude\"]].rename(columns={'latitude': 'max_lat', 'longitude': 'max_long'})\n",
    "min_lat_long = merged_df.groupby(by='float').min().reset_index()[[\"float\", \"latitude\", \"longitude\"]].rename(columns={'latitude': 'min_lat', 'longitude': 'min_long'})\n",
    "float_distances = max_lat_long.merge(min_lat_long, on='float', how='inner')\n",
    "float_distances"
   ]
  },
  {
   "cell_type": "code",
   "execution_count": 29,
   "metadata": {},
   "outputs": [
    {
     "data": {
      "text/html": [
       "<div>\n",
       "<style scoped>\n",
       "    .dataframe tbody tr th:only-of-type {\n",
       "        vertical-align: middle;\n",
       "    }\n",
       "\n",
       "    .dataframe tbody tr th {\n",
       "        vertical-align: top;\n",
       "    }\n",
       "\n",
       "    .dataframe thead th {\n",
       "        text-align: right;\n",
       "    }\n",
       "</style>\n",
       "<table border=\"1\" class=\"dataframe\">\n",
       "  <thead>\n",
       "    <tr style=\"text-align: right;\">\n",
       "      <th></th>\n",
       "      <th>float</th>\n",
       "      <th>lat_dist_km</th>\n",
       "      <th>long_dist_km</th>\n",
       "      <th>total_dist</th>\n",
       "    </tr>\n",
       "  </thead>\n",
       "  <tbody>\n",
       "    <tr>\n",
       "      <th>0</th>\n",
       "      <td>1902303</td>\n",
       "      <td>853.741854</td>\n",
       "      <td>474.804756</td>\n",
       "      <td>1328.546610</td>\n",
       "    </tr>\n",
       "    <tr>\n",
       "      <th>1</th>\n",
       "      <td>1902304</td>\n",
       "      <td>282.848292</td>\n",
       "      <td>357.485742</td>\n",
       "      <td>640.334034</td>\n",
       "    </tr>\n",
       "    <tr>\n",
       "      <th>2</th>\n",
       "      <td>1902380</td>\n",
       "      <td>144.409644</td>\n",
       "      <td>122.515992</td>\n",
       "      <td>266.925636</td>\n",
       "    </tr>\n",
       "    <tr>\n",
       "      <th>3</th>\n",
       "      <td>1902381</td>\n",
       "      <td>238.839840</td>\n",
       "      <td>150.712362</td>\n",
       "      <td>389.552202</td>\n",
       "    </tr>\n",
       "    <tr>\n",
       "      <th>4</th>\n",
       "      <td>1902382</td>\n",
       "      <td>173.380032</td>\n",
       "      <td>200.802384</td>\n",
       "      <td>374.182416</td>\n",
       "    </tr>\n",
       "    <tr>\n",
       "      <th>...</th>\n",
       "      <td>...</td>\n",
       "      <td>...</td>\n",
       "      <td>...</td>\n",
       "      <td>...</td>\n",
       "    </tr>\n",
       "    <tr>\n",
       "      <th>564</th>\n",
       "      <td>7900583</td>\n",
       "      <td>96.208226</td>\n",
       "      <td>33.629976</td>\n",
       "      <td>129.838202</td>\n",
       "    </tr>\n",
       "    <tr>\n",
       "      <th>565</th>\n",
       "      <td>7900585</td>\n",
       "      <td>239.094160</td>\n",
       "      <td>588.847462</td>\n",
       "      <td>827.941623</td>\n",
       "    </tr>\n",
       "    <tr>\n",
       "      <th>566</th>\n",
       "      <td>7900588</td>\n",
       "      <td>281.328342</td>\n",
       "      <td>969.522784</td>\n",
       "      <td>1250.851125</td>\n",
       "    </tr>\n",
       "    <tr>\n",
       "      <th>567</th>\n",
       "      <td>7900589</td>\n",
       "      <td>423.526063</td>\n",
       "      <td>528.612276</td>\n",
       "      <td>952.138339</td>\n",
       "    </tr>\n",
       "    <tr>\n",
       "      <th>568</th>\n",
       "      <td>7901001</td>\n",
       "      <td>96.081066</td>\n",
       "      <td>142.602312</td>\n",
       "      <td>238.683378</td>\n",
       "    </tr>\n",
       "  </tbody>\n",
       "</table>\n",
       "<p>569 rows × 4 columns</p>\n",
       "</div>"
      ],
      "text/plain": [
       "       float  lat_dist_km  long_dist_km   total_dist\n",
       "0    1902303   853.741854    474.804756  1328.546610\n",
       "1    1902304   282.848292    357.485742   640.334034\n",
       "2    1902380   144.409644    122.515992   266.925636\n",
       "3    1902381   238.839840    150.712362   389.552202\n",
       "4    1902382   173.380032    200.802384   374.182416\n",
       "..       ...          ...           ...          ...\n",
       "564  7900583    96.208226     33.629976   129.838202\n",
       "565  7900585   239.094160    588.847462   827.941623\n",
       "566  7900588   281.328342    969.522784  1250.851125\n",
       "567  7900589   423.526063    528.612276   952.138339\n",
       "568  7901001    96.081066    142.602312   238.683378\n",
       "\n",
       "[569 rows x 4 columns]"
      ]
     },
     "execution_count": 29,
     "metadata": {},
     "output_type": "execute_result"
    }
   ],
   "source": [
    "float_distances[\"lat_dist_km\"] = np.abs(float_distances[\"max_lat\"] - float_distances[\"min_lat\"])*110.574\n",
    "float_distances[\"long_dist_km\"] = np.abs(float_distances[\"max_long\"] - float_distances[\"min_long\"])*110.574\n",
    "float_distances = float_distances.drop(columns=[\"max_lat\", \"max_long\", \"min_lat\", \"min_long\"])\n",
    "float_distances[\"total_dist\"] = float_distances[\"lat_dist_km\"] + float_distances[\"long_dist_km\"]\n",
    "float_distances"
   ]
  },
  {
   "cell_type": "code",
   "execution_count": 31,
   "metadata": {},
   "outputs": [
    {
     "name": "stdout",
     "output_type": "stream",
     "text": [
      "The average float travels  4235.5599857007355\n"
     ]
    }
   ],
   "source": [
    "print(\"The average float travels \", float_distances['total_dist'].mean())"
   ]
  },
  {
   "cell_type": "code",
   "execution_count": 30,
   "metadata": {},
   "outputs": [
    {
     "data": {
      "text/plain": [
       "<AxesSubplot:xlabel='total_dist', ylabel='Count'>"
      ]
     },
     "execution_count": 30,
     "metadata": {},
     "output_type": "execute_result"
    },
    {
     "data": {
      "image/png": "[encoded data removed]",
      "text/plain": [
       "<Figure size 432x288 with 1 Axes>"
      ]
     },
     "metadata": {
      "needs_background": "light"
     },
     "output_type": "display_data"
    }
   ],
   "source": [
    "sns.histplot(data=float_distances, x='total_dist', bins=20)"
   ]
  }
 ],
 "metadata": {
  "kernelspec": {
   "display_name": "Python 3.9.7",
   "language": "python",
   "name": "python3"
  },
  "language_info": {
   "codemirror_mode": {
    "name": "ipython",
    "version": 3
   },
   "file_extension": ".py",
   "mimetype": "text/x-python",
   "name": "python",
   "nbconvert_exporter": "python",
   "pygments_lexer": "ipython3",
   "version": "3.9.7"
  },
  "orig_nbformat": 4,
  "vscode": {
   "interpreter": {
    "hash": "e876919fc5c3e66711ba6d537c9b85fa7db18633fa5b08df3a2ed870f4a0b619"
   }
  }
 },
 "nbformat": 4,
 "nbformat_minor": 2
}

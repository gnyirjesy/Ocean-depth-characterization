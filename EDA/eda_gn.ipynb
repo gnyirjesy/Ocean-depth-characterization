{
 "cells": [
  {
   "cell_type": "markdown",
   "metadata": {},
   "source": [
    "# Exploratory Data Analysis - Gabrielle Nyirjesy\n",
    "## Data Import and Initial Analysis"
   ]
  },
  {
   "cell_type": "code",
   "execution_count": 20,
   "metadata": {},
   "outputs": [],
   "source": [
    "# Read in packages\n",
    "import pandas as pd\n",
    "import numpy as np\n",
    "import matplotlib.pyplot as plt\n",
    "from datetime import datetime"
   ]
  },
  {
   "cell_type": "code",
   "execution_count": 4,
   "metadata": {},
   "outputs": [
    {
     "data": {
      "text/html": [
       "<div>\n",
       "<style scoped>\n",
       "    .dataframe tbody tr th:only-of-type {\n",
       "        vertical-align: middle;\n",
       "    }\n",
       "\n",
       "    .dataframe tbody tr th {\n",
       "        vertical-align: top;\n",
       "    }\n",
       "\n",
       "    .dataframe thead th {\n",
       "        text-align: right;\n",
       "    }\n",
       "</style>\n",
       "<table border=\"1\" class=\"dataframe\">\n",
       "  <thead>\n",
       "    <tr style=\"text-align: right;\">\n",
       "      <th></th>\n",
       "      <th>float</th>\n",
       "      <th>cycleNumber</th>\n",
       "      <th>date</th>\n",
       "      <th>PRES</th>\n",
       "      <th>PSAL</th>\n",
       "      <th>TEMP</th>\n",
       "      <th>BBP700</th>\n",
       "      <th>CHLA</th>\n",
       "    </tr>\n",
       "  </thead>\n",
       "  <tbody>\n",
       "    <tr>\n",
       "      <th>0</th>\n",
       "      <td>1902303</td>\n",
       "      <td>1</td>\n",
       "      <td>2021-05-06 02:03:16</td>\n",
       "      <td>3</td>\n",
       "      <td>35.539001</td>\n",
       "      <td>12.378333</td>\n",
       "      <td>0.001788</td>\n",
       "      <td>0.695875</td>\n",
       "    </tr>\n",
       "    <tr>\n",
       "      <th>1</th>\n",
       "      <td>1902303</td>\n",
       "      <td>1</td>\n",
       "      <td>2021-05-06 02:03:16</td>\n",
       "      <td>4</td>\n",
       "      <td>35.539001</td>\n",
       "      <td>12.378333</td>\n",
       "      <td>0.001788</td>\n",
       "      <td>0.695875</td>\n",
       "    </tr>\n",
       "    <tr>\n",
       "      <th>2</th>\n",
       "      <td>1902303</td>\n",
       "      <td>1</td>\n",
       "      <td>2021-05-06 02:03:16</td>\n",
       "      <td>6</td>\n",
       "      <td>35.539001</td>\n",
       "      <td>12.378667</td>\n",
       "      <td>0.001788</td>\n",
       "      <td>0.696499</td>\n",
       "    </tr>\n",
       "    <tr>\n",
       "      <th>3</th>\n",
       "      <td>1902303</td>\n",
       "      <td>1</td>\n",
       "      <td>2021-05-06 02:03:16</td>\n",
       "      <td>8</td>\n",
       "      <td>35.539001</td>\n",
       "      <td>12.379000</td>\n",
       "      <td>0.001789</td>\n",
       "      <td>0.716489</td>\n",
       "    </tr>\n",
       "    <tr>\n",
       "      <th>4</th>\n",
       "      <td>1902303</td>\n",
       "      <td>1</td>\n",
       "      <td>2021-05-06 02:03:16</td>\n",
       "      <td>10</td>\n",
       "      <td>35.539001</td>\n",
       "      <td>12.379000</td>\n",
       "      <td>0.001790</td>\n",
       "      <td>0.715552</td>\n",
       "    </tr>\n",
       "  </tbody>\n",
       "</table>\n",
       "</div>"
      ],
      "text/plain": [
       "     float  cycleNumber                 date  PRES       PSAL       TEMP  \\\n",
       "0  1902303            1  2021-05-06 02:03:16     3  35.539001  12.378333   \n",
       "1  1902303            1  2021-05-06 02:03:16     4  35.539001  12.378333   \n",
       "2  1902303            1  2021-05-06 02:03:16     6  35.539001  12.378667   \n",
       "3  1902303            1  2021-05-06 02:03:16     8  35.539001  12.379000   \n",
       "4  1902303            1  2021-05-06 02:03:16    10  35.539001  12.379000   \n",
       "\n",
       "     BBP700      CHLA  \n",
       "0  0.001788  0.695875  \n",
       "1  0.001788  0.695875  \n",
       "2  0.001788  0.696499  \n",
       "3  0.001789  0.716489  \n",
       "4  0.001790  0.715552  "
      ]
     },
     "execution_count": 4,
     "metadata": {},
     "output_type": "execute_result"
    }
   ],
   "source": [
    "#Read in data\n",
    "profile = pd.read_csv(\"../../data/profileData.csv\")\n",
    "profile.head()"
   ]
  },
  {
   "cell_type": "code",
   "execution_count": 5,
   "metadata": {},
   "outputs": [
    {
     "data": {
      "text/html": [
       "<div>\n",
       "<style scoped>\n",
       "    .dataframe tbody tr th:only-of-type {\n",
       "        vertical-align: middle;\n",
       "    }\n",
       "\n",
       "    .dataframe tbody tr th {\n",
       "        vertical-align: top;\n",
       "    }\n",
       "\n",
       "    .dataframe thead th {\n",
       "        text-align: right;\n",
       "    }\n",
       "</style>\n",
       "<table border=\"1\" class=\"dataframe\">\n",
       "  <thead>\n",
       "    <tr style=\"text-align: right;\">\n",
       "      <th></th>\n",
       "      <th>float</th>\n",
       "      <th>cycleNumber</th>\n",
       "      <th>date</th>\n",
       "      <th>latitude</th>\n",
       "      <th>longitude</th>\n",
       "      <th>elevation</th>\n",
       "      <th>MO_SAT_SST</th>\n",
       "      <th>MO_SAT_CHL</th>\n",
       "      <th>MO_SAT_BBP</th>\n",
       "      <th>LT_SAT_SST_SD</th>\n",
       "      <th>LT_SAT_SST_MED</th>\n",
       "      <th>LT_SAT_CHL_SD</th>\n",
       "      <th>LT_SAT_CHL_MED</th>\n",
       "      <th>LT_SAT_BBP_SD</th>\n",
       "      <th>LT_SAT_BBP_MED</th>\n",
       "    </tr>\n",
       "  </thead>\n",
       "  <tbody>\n",
       "    <tr>\n",
       "      <th>0</th>\n",
       "      <td>1902303</td>\n",
       "      <td>1</td>\n",
       "      <td>2021-05-06 02:03:16</td>\n",
       "      <td>49.236</td>\n",
       "      <td>-14.742</td>\n",
       "      <td>-4539.0</td>\n",
       "      <td>12.451869</td>\n",
       "      <td>0.435093</td>\n",
       "      <td>0.003340</td>\n",
       "      <td>2.156995</td>\n",
       "      <td>12.796509</td>\n",
       "      <td>0.253809</td>\n",
       "      <td>0.401662</td>\n",
       "      <td>0.000819</td>\n",
       "      <td>0.002213</td>\n",
       "    </tr>\n",
       "    <tr>\n",
       "      <th>1</th>\n",
       "      <td>1902303</td>\n",
       "      <td>2</td>\n",
       "      <td>2021-05-06 19:32:57</td>\n",
       "      <td>49.096</td>\n",
       "      <td>-14.617</td>\n",
       "      <td>-4612.0</td>\n",
       "      <td>12.466026</td>\n",
       "      <td>0.782180</td>\n",
       "      <td>0.003081</td>\n",
       "      <td>2.214400</td>\n",
       "      <td>12.673785</td>\n",
       "      <td>0.222806</td>\n",
       "      <td>0.398969</td>\n",
       "      <td>0.000793</td>\n",
       "      <td>0.002114</td>\n",
       "    </tr>\n",
       "    <tr>\n",
       "      <th>2</th>\n",
       "      <td>1902303</td>\n",
       "      <td>3</td>\n",
       "      <td>2021-05-07 20:05:38</td>\n",
       "      <td>48.914</td>\n",
       "      <td>-14.606</td>\n",
       "      <td>-4700.0</td>\n",
       "      <td>12.424099</td>\n",
       "      <td>0.458020</td>\n",
       "      <td>0.003185</td>\n",
       "      <td>2.211703</td>\n",
       "      <td>12.808284</td>\n",
       "      <td>0.279028</td>\n",
       "      <td>0.428079</td>\n",
       "      <td>0.000752</td>\n",
       "      <td>0.002105</td>\n",
       "    </tr>\n",
       "    <tr>\n",
       "      <th>3</th>\n",
       "      <td>1902303</td>\n",
       "      <td>4</td>\n",
       "      <td>2021-05-08 22:42:52</td>\n",
       "      <td>48.794</td>\n",
       "      <td>-14.689</td>\n",
       "      <td>-4753.0</td>\n",
       "      <td>12.374519</td>\n",
       "      <td>0.378064</td>\n",
       "      <td>0.001767</td>\n",
       "      <td>2.200517</td>\n",
       "      <td>13.010804</td>\n",
       "      <td>0.278832</td>\n",
       "      <td>0.422287</td>\n",
       "      <td>0.000679</td>\n",
       "      <td>0.002087</td>\n",
       "    </tr>\n",
       "    <tr>\n",
       "      <th>4</th>\n",
       "      <td>1902303</td>\n",
       "      <td>5</td>\n",
       "      <td>2021-05-09 20:29:00</td>\n",
       "      <td>48.719</td>\n",
       "      <td>-14.795</td>\n",
       "      <td>-4765.0</td>\n",
       "      <td>12.204494</td>\n",
       "      <td>0.411479</td>\n",
       "      <td>0.001677</td>\n",
       "      <td>2.232417</td>\n",
       "      <td>12.931680</td>\n",
       "      <td>0.334429</td>\n",
       "      <td>0.419105</td>\n",
       "      <td>0.000776</td>\n",
       "      <td>0.002090</td>\n",
       "    </tr>\n",
       "  </tbody>\n",
       "</table>\n",
       "</div>"
      ],
      "text/plain": [
       "     float  cycleNumber                 date  latitude  longitude  elevation  \\\n",
       "0  1902303            1  2021-05-06 02:03:16    49.236    -14.742    -4539.0   \n",
       "1  1902303            2  2021-05-06 19:32:57    49.096    -14.617    -4612.0   \n",
       "2  1902303            3  2021-05-07 20:05:38    48.914    -14.606    -4700.0   \n",
       "3  1902303            4  2021-05-08 22:42:52    48.794    -14.689    -4753.0   \n",
       "4  1902303            5  2021-05-09 20:29:00    48.719    -14.795    -4765.0   \n",
       "\n",
       "   MO_SAT_SST  MO_SAT_CHL  MO_SAT_BBP  LT_SAT_SST_SD  LT_SAT_SST_MED  \\\n",
       "0   12.451869    0.435093    0.003340       2.156995       12.796509   \n",
       "1   12.466026    0.782180    0.003081       2.214400       12.673785   \n",
       "2   12.424099    0.458020    0.003185       2.211703       12.808284   \n",
       "3   12.374519    0.378064    0.001767       2.200517       13.010804   \n",
       "4   12.204494    0.411479    0.001677       2.232417       12.931680   \n",
       "\n",
       "   LT_SAT_CHL_SD  LT_SAT_CHL_MED  LT_SAT_BBP_SD  LT_SAT_BBP_MED  \n",
       "0       0.253809        0.401662       0.000819        0.002213  \n",
       "1       0.222806        0.398969       0.000793        0.002114  \n",
       "2       0.279028        0.428079       0.000752        0.002105  \n",
       "3       0.278832        0.422287       0.000679        0.002087  \n",
       "4       0.334429        0.419105       0.000776        0.002090  "
      ]
     },
     "execution_count": 5,
     "metadata": {},
     "output_type": "execute_result"
    }
   ],
   "source": [
    "satData = pd.read_csv(\"../../data/satData.csv\")\n",
    "satData.head()"
   ]
  },
  {
   "cell_type": "code",
   "execution_count": 6,
   "metadata": {},
   "outputs": [
    {
     "data": {
      "text/html": [
       "<div>\n",
       "<style scoped>\n",
       "    .dataframe tbody tr th:only-of-type {\n",
       "        vertical-align: middle;\n",
       "    }\n",
       "\n",
       "    .dataframe tbody tr th {\n",
       "        vertical-align: top;\n",
       "    }\n",
       "\n",
       "    .dataframe thead th {\n",
       "        text-align: right;\n",
       "    }\n",
       "</style>\n",
       "<table border=\"1\" class=\"dataframe\">\n",
       "  <thead>\n",
       "    <tr style=\"text-align: right;\">\n",
       "      <th></th>\n",
       "      <th>float</th>\n",
       "      <th>date</th>\n",
       "      <th>latitude</th>\n",
       "      <th>longitude</th>\n",
       "    </tr>\n",
       "  </thead>\n",
       "  <tbody>\n",
       "    <tr>\n",
       "      <th>0</th>\n",
       "      <td>1902303</td>\n",
       "      <td>2021-05-06 02:03:16</td>\n",
       "      <td>49.236</td>\n",
       "      <td>-14.742</td>\n",
       "    </tr>\n",
       "    <tr>\n",
       "      <th>1</th>\n",
       "      <td>1902303</td>\n",
       "      <td>2021-05-06 19:32:57</td>\n",
       "      <td>49.096</td>\n",
       "      <td>-14.617</td>\n",
       "    </tr>\n",
       "    <tr>\n",
       "      <th>2</th>\n",
       "      <td>1902303</td>\n",
       "      <td>2021-05-07 20:05:38</td>\n",
       "      <td>48.914</td>\n",
       "      <td>-14.606</td>\n",
       "    </tr>\n",
       "    <tr>\n",
       "      <th>3</th>\n",
       "      <td>1902303</td>\n",
       "      <td>2021-05-08 22:42:52</td>\n",
       "      <td>48.794</td>\n",
       "      <td>-14.689</td>\n",
       "    </tr>\n",
       "    <tr>\n",
       "      <th>4</th>\n",
       "      <td>1902303</td>\n",
       "      <td>2021-05-09 20:29:00</td>\n",
       "      <td>48.719</td>\n",
       "      <td>-14.795</td>\n",
       "    </tr>\n",
       "  </tbody>\n",
       "</table>\n",
       "</div>"
      ],
      "text/plain": [
       "     float                 date  latitude  longitude\n",
       "0  1902303  2021-05-06 02:03:16    49.236    -14.742\n",
       "1  1902303  2021-05-06 19:32:57    49.096    -14.617\n",
       "2  1902303  2021-05-07 20:05:38    48.914    -14.606\n",
       "3  1902303  2021-05-08 22:42:52    48.794    -14.689\n",
       "4  1902303  2021-05-09 20:29:00    48.719    -14.795"
      ]
     },
     "execution_count": 6,
     "metadata": {},
     "output_type": "execute_result"
    }
   ],
   "source": [
    "globalFloatData = pd.read_csv(\"../../data/globalFloatData.csv\")\n",
    "globalFloatData.head()"
   ]
  },
  {
   "cell_type": "code",
   "execution_count": 7,
   "metadata": {},
   "outputs": [
    {
     "data": {
      "text/html": [
       "<div>\n",
       "<style scoped>\n",
       "    .dataframe tbody tr th:only-of-type {\n",
       "        vertical-align: middle;\n",
       "    }\n",
       "\n",
       "    .dataframe tbody tr th {\n",
       "        vertical-align: top;\n",
       "    }\n",
       "\n",
       "    .dataframe thead th {\n",
       "        text-align: right;\n",
       "    }\n",
       "</style>\n",
       "<table border=\"1\" class=\"dataframe\">\n",
       "  <thead>\n",
       "    <tr style=\"text-align: right;\">\n",
       "      <th></th>\n",
       "      <th>date</th>\n",
       "      <th>date_adj</th>\n",
       "      <th>basin</th>\n",
       "      <th>float</th>\n",
       "      <th>cycleNumber</th>\n",
       "      <th>longitude</th>\n",
       "      <th>latitude</th>\n",
       "      <th>elevation</th>\n",
       "      <th>shift</th>\n",
       "      <th>PRES</th>\n",
       "      <th>...</th>\n",
       "      <th>DOXY</th>\n",
       "      <th>PSAL</th>\n",
       "      <th>TEMP</th>\n",
       "      <th>jDay</th>\n",
       "      <th>timeseries</th>\n",
       "      <th>floatID</th>\n",
       "      <th>minJday</th>\n",
       "      <th>maxJday</th>\n",
       "      <th>maxDiff</th>\n",
       "      <th>perCoastal</th>\n",
       "    </tr>\n",
       "  </thead>\n",
       "  <tbody>\n",
       "    <tr>\n",
       "      <th>0</th>\n",
       "      <td>2014-03-10 11:25:00</td>\n",
       "      <td>2014-03-10 11:25:00</td>\n",
       "      <td>Arabian</td>\n",
       "      <td>2902120</td>\n",
       "      <td>1</td>\n",
       "      <td>67.574073</td>\n",
       "      <td>14.979008</td>\n",
       "      <td>-3953</td>\n",
       "      <td>0</td>\n",
       "      <td>1</td>\n",
       "      <td>...</td>\n",
       "      <td>204.074387</td>\n",
       "      <td>36.477667</td>\n",
       "      <td>27.612666</td>\n",
       "      <td>69</td>\n",
       "      <td>1</td>\n",
       "      <td>2902120_1</td>\n",
       "      <td>69</td>\n",
       "      <td>359</td>\n",
       "      <td>10</td>\n",
       "      <td>0</td>\n",
       "    </tr>\n",
       "    <tr>\n",
       "      <th>1</th>\n",
       "      <td>2014-03-10 11:25:00</td>\n",
       "      <td>2014-03-10 11:25:00</td>\n",
       "      <td>Arabian</td>\n",
       "      <td>2902120</td>\n",
       "      <td>1</td>\n",
       "      <td>67.574073</td>\n",
       "      <td>14.979008</td>\n",
       "      <td>-3953</td>\n",
       "      <td>0</td>\n",
       "      <td>10</td>\n",
       "      <td>...</td>\n",
       "      <td>204.189794</td>\n",
       "      <td>36.485334</td>\n",
       "      <td>27.246667</td>\n",
       "      <td>69</td>\n",
       "      <td>1</td>\n",
       "      <td>2902120_1</td>\n",
       "      <td>69</td>\n",
       "      <td>359</td>\n",
       "      <td>10</td>\n",
       "      <td>0</td>\n",
       "    </tr>\n",
       "    <tr>\n",
       "      <th>2</th>\n",
       "      <td>2014-03-10 11:25:00</td>\n",
       "      <td>2014-03-10 11:25:00</td>\n",
       "      <td>Arabian</td>\n",
       "      <td>2902120</td>\n",
       "      <td>1</td>\n",
       "      <td>67.574073</td>\n",
       "      <td>14.979008</td>\n",
       "      <td>-3953</td>\n",
       "      <td>0</td>\n",
       "      <td>102</td>\n",
       "      <td>...</td>\n",
       "      <td>33.288569</td>\n",
       "      <td>35.854167</td>\n",
       "      <td>23.052499</td>\n",
       "      <td>69</td>\n",
       "      <td>1</td>\n",
       "      <td>2902120_1</td>\n",
       "      <td>69</td>\n",
       "      <td>359</td>\n",
       "      <td>10</td>\n",
       "      <td>0</td>\n",
       "    </tr>\n",
       "    <tr>\n",
       "      <th>3</th>\n",
       "      <td>2014-03-10 11:25:00</td>\n",
       "      <td>2014-03-10 11:25:00</td>\n",
       "      <td>Arabian</td>\n",
       "      <td>2902120</td>\n",
       "      <td>1</td>\n",
       "      <td>67.574073</td>\n",
       "      <td>14.979008</td>\n",
       "      <td>-3953</td>\n",
       "      <td>0</td>\n",
       "      <td>103</td>\n",
       "      <td>...</td>\n",
       "      <td>28.155571</td>\n",
       "      <td>35.837334</td>\n",
       "      <td>22.889666</td>\n",
       "      <td>69</td>\n",
       "      <td>1</td>\n",
       "      <td>2902120_1</td>\n",
       "      <td>69</td>\n",
       "      <td>359</td>\n",
       "      <td>10</td>\n",
       "      <td>0</td>\n",
       "    </tr>\n",
       "    <tr>\n",
       "      <th>4</th>\n",
       "      <td>2014-03-10 11:25:00</td>\n",
       "      <td>2014-03-10 11:25:00</td>\n",
       "      <td>Arabian</td>\n",
       "      <td>2902120</td>\n",
       "      <td>1</td>\n",
       "      <td>67.574073</td>\n",
       "      <td>14.979008</td>\n",
       "      <td>-3953</td>\n",
       "      <td>0</td>\n",
       "      <td>108</td>\n",
       "      <td>...</td>\n",
       "      <td>23.022574</td>\n",
       "      <td>35.773333</td>\n",
       "      <td>22.395333</td>\n",
       "      <td>69</td>\n",
       "      <td>1</td>\n",
       "      <td>2902120_1</td>\n",
       "      <td>69</td>\n",
       "      <td>359</td>\n",
       "      <td>10</td>\n",
       "      <td>0</td>\n",
       "    </tr>\n",
       "  </tbody>\n",
       "</table>\n",
       "<p>5 rows × 28 columns</p>\n",
       "</div>"
      ],
      "text/plain": [
       "                  date             date_adj    basin    float  cycleNumber  \\\n",
       "0  2014-03-10 11:25:00  2014-03-10 11:25:00  Arabian  2902120            1   \n",
       "1  2014-03-10 11:25:00  2014-03-10 11:25:00  Arabian  2902120            1   \n",
       "2  2014-03-10 11:25:00  2014-03-10 11:25:00  Arabian  2902120            1   \n",
       "3  2014-03-10 11:25:00  2014-03-10 11:25:00  Arabian  2902120            1   \n",
       "4  2014-03-10 11:25:00  2014-03-10 11:25:00  Arabian  2902120            1   \n",
       "\n",
       "   longitude   latitude  elevation  shift  PRES  ...        DOXY       PSAL  \\\n",
       "0  67.574073  14.979008      -3953      0     1  ...  204.074387  36.477667   \n",
       "1  67.574073  14.979008      -3953      0    10  ...  204.189794  36.485334   \n",
       "2  67.574073  14.979008      -3953      0   102  ...   33.288569  35.854167   \n",
       "3  67.574073  14.979008      -3953      0   103  ...   28.155571  35.837334   \n",
       "4  67.574073  14.979008      -3953      0   108  ...   23.022574  35.773333   \n",
       "\n",
       "        TEMP  jDay  timeseries    floatID  minJday  maxJday  maxDiff  \\\n",
       "0  27.612666    69           1  2902120_1       69      359       10   \n",
       "1  27.246667    69           1  2902120_1       69      359       10   \n",
       "2  23.052499    69           1  2902120_1       69      359       10   \n",
       "3  22.889666    69           1  2902120_1       69      359       10   \n",
       "4  22.395333    69           1  2902120_1       69      359       10   \n",
       "\n",
       "   perCoastal  \n",
       "0           0  \n",
       "1           0  \n",
       "2           0  \n",
       "3           0  \n",
       "4           0  \n",
       "\n",
       "[5 rows x 28 columns]"
      ]
     },
     "execution_count": 7,
     "metadata": {},
     "output_type": "execute_result"
    }
   ],
   "source": [
    "df_2902120 = pd.read_csv(\"../../data/2902120.csv\")\n",
    "df_2902120.head()\n"
   ]
  },
  {
   "cell_type": "code",
   "execution_count": 8,
   "metadata": {},
   "outputs": [
    {
     "data": {
      "text/html": [
       "<div>\n",
       "<style scoped>\n",
       "    .dataframe tbody tr th:only-of-type {\n",
       "        vertical-align: middle;\n",
       "    }\n",
       "\n",
       "    .dataframe tbody tr th {\n",
       "        vertical-align: top;\n",
       "    }\n",
       "\n",
       "    .dataframe thead th {\n",
       "        text-align: right;\n",
       "    }\n",
       "</style>\n",
       "<table border=\"1\" class=\"dataframe\">\n",
       "  <thead>\n",
       "    <tr style=\"text-align: right;\">\n",
       "      <th></th>\n",
       "      <th>jDay</th>\n",
       "      <th>PRES</th>\n",
       "      <th>CHLA</th>\n",
       "    </tr>\n",
       "  </thead>\n",
       "  <tbody>\n",
       "    <tr>\n",
       "      <th>0</th>\n",
       "      <td>1</td>\n",
       "      <td>0</td>\n",
       "      <td>0.546405</td>\n",
       "    </tr>\n",
       "    <tr>\n",
       "      <th>1</th>\n",
       "      <td>1</td>\n",
       "      <td>1</td>\n",
       "      <td>0.546405</td>\n",
       "    </tr>\n",
       "    <tr>\n",
       "      <th>2</th>\n",
       "      <td>1</td>\n",
       "      <td>2</td>\n",
       "      <td>0.546405</td>\n",
       "    </tr>\n",
       "    <tr>\n",
       "      <th>3</th>\n",
       "      <td>1</td>\n",
       "      <td>3</td>\n",
       "      <td>0.546405</td>\n",
       "    </tr>\n",
       "    <tr>\n",
       "      <th>4</th>\n",
       "      <td>1</td>\n",
       "      <td>4</td>\n",
       "      <td>0.546405</td>\n",
       "    </tr>\n",
       "  </tbody>\n",
       "</table>\n",
       "</div>"
      ],
      "text/plain": [
       "   jDay  PRES      CHLA\n",
       "0     1     0  0.546405\n",
       "1     1     1  0.546405\n",
       "2     1     2  0.546405\n",
       "3     1     3  0.546405\n",
       "4     1     4  0.546405"
      ]
     },
     "execution_count": 8,
     "metadata": {},
     "output_type": "execute_result"
    }
   ],
   "source": [
    "df_2902120_interp = pd.read_csv(\"../../data/2902120_interp.csv\")\n",
    "df_2902120_interp.head()"
   ]
  },
  {
   "cell_type": "markdown",
   "metadata": {},
   "source": [
    "### Connections"
   ]
  },
  {
   "cell_type": "code",
   "execution_count": 9,
   "metadata": {},
   "outputs": [
    {
     "data": {
      "text/plain": [
       "(29540, 28)"
      ]
     },
     "execution_count": 9,
     "metadata": {},
     "output_type": "execute_result"
    }
   ],
   "source": [
    "df_2902120.shape"
   ]
  },
  {
   "cell_type": "code",
   "execution_count": 10,
   "metadata": {},
   "outputs": [
    {
     "data": {
      "text/plain": [
       "(37469410, 8)"
      ]
     },
     "execution_count": 10,
     "metadata": {},
     "output_type": "execute_result"
    }
   ],
   "source": [
    "profile.shape"
   ]
  },
  {
   "cell_type": "code",
   "execution_count": 11,
   "metadata": {},
   "outputs": [
    {
     "data": {
      "text/plain": [
       "29540"
      ]
     },
     "execution_count": 11,
     "metadata": {},
     "output_type": "execute_result"
    }
   ],
   "source": [
    "profile['float'].value_counts()[2902120]\n",
    "#The 2902120 dataset is a subset of the float profiles dataset"
   ]
  },
  {
   "cell_type": "markdown",
   "metadata": {},
   "source": [
    "### Examine profiles data"
   ]
  },
  {
   "cell_type": "code",
   "execution_count": 12,
   "metadata": {},
   "outputs": [
    {
     "data": {
      "text/plain": [
       "569"
      ]
     },
     "execution_count": 12,
     "metadata": {},
     "output_type": "execute_result"
    }
   ],
   "source": [
    "#Find the number of floats\n",
    "profile['float'].nunique()"
   ]
  },
  {
   "cell_type": "code",
   "execution_count": 13,
   "metadata": {},
   "outputs": [
    {
     "name": "stdout",
     "output_type": "stream",
     "text": [
      "2010-06-01 16:28:06\n",
      "2022-05-23 11:34:00\n"
     ]
    }
   ],
   "source": [
    "# Does each float encompass the whole time period\n",
    "print(profile['date'].min())\n",
    "print(profile['date'].max())"
   ]
  },
  {
   "cell_type": "code",
   "execution_count": 14,
   "metadata": {},
   "outputs": [
    {
     "data": {
      "text/plain": [
       "65851.33567662566"
      ]
     },
     "execution_count": 14,
     "metadata": {},
     "output_type": "execute_result"
    }
   ],
   "source": [
    "profile['float'].value_counts().mean()\n",
    "#On average, there are 65851 measurements for each flot"
   ]
  },
  {
   "cell_type": "code",
   "execution_count": 15,
   "metadata": {},
   "outputs": [
    {
     "data": {
      "text/plain": [
       "float            int64\n",
       "cycleNumber      int64\n",
       "date            object\n",
       "PRES             int64\n",
       "PSAL           float64\n",
       "TEMP           float64\n",
       "BBP700         float64\n",
       "CHLA           float64\n",
       "dtype: object"
      ]
     },
     "execution_count": 15,
     "metadata": {},
     "output_type": "execute_result"
    }
   ],
   "source": [
    "profile.dtypes"
   ]
  },
  {
   "cell_type": "code",
   "execution_count": 22,
   "metadata": {},
   "outputs": [],
   "source": [
    "#convert date column to datetime object\n",
    "profile['date'] = pd.to_datetime(profile['date'])"
   ]
  },
  {
   "cell_type": "code",
   "execution_count": 23,
   "metadata": {},
   "outputs": [
    {
     "data": {
      "text/plain": [
       "float                   int64\n",
       "cycleNumber             int64\n",
       "date           datetime64[ns]\n",
       "PRES                    int64\n",
       "PSAL                  float64\n",
       "TEMP                  float64\n",
       "BBP700                float64\n",
       "CHLA                  float64\n",
       "dtype: object"
      ]
     },
     "execution_count": 23,
     "metadata": {},
     "output_type": "execute_result"
    }
   ],
   "source": [
    "profile.dtypes"
   ]
  },
  {
   "cell_type": "code",
   "execution_count": 28,
   "metadata": {},
   "outputs": [],
   "source": [
    "profile['year'] = pd.DatetimeIndex(profile['date']).year"
   ]
  },
  {
   "cell_type": "code",
   "execution_count": 66,
   "metadata": {},
   "outputs": [
    {
     "data": {
      "image/png": "[encoded data removed]",
      "text/plain": [
       "<Figure size 640x480 with 1 Axes>"
      ]
     },
     "metadata": {},
     "output_type": "display_data"
    }
   ],
   "source": [
    "#How many floats have measurements each year?\n",
    "year_count = profile[['year','float']].groupby('year').nunique()\n",
    "year_count.plot(kind='bar', legend=None)\n",
    "_ = plt.xlabel('Year')\n",
    "_ = plt.ylabel('Number of Floats')\n",
    "_ = plt.title('Number of Floats with Measurements each Year')\n",
    "plt.show()"
   ]
  },
  {
   "cell_type": "code",
   "execution_count": 74,
   "metadata": {},
   "outputs": [
    {
     "data": {
      "text/plain": [
       "3901498    329728\n",
       "6901183    328520\n",
       "6902735    323890\n",
       "6901492    323848\n",
       "3901531    311602\n",
       "            ...  \n",
       "5904764       508\n",
       "2902113       497\n",
       "5905074       488\n",
       "2902161       281\n",
       "6900877        51\n",
       "Name: float, Length: 569, dtype: int64"
      ]
     },
     "execution_count": 74,
     "metadata": {},
     "output_type": "execute_result"
    }
   ],
   "source": [
    "profile['float'].value_counts()"
   ]
  },
  {
   "cell_type": "code",
   "execution_count": 75,
   "metadata": {},
   "outputs": [
    {
     "data": {
      "text/plain": [
       "<matplotlib.collections.PathCollection at 0x167851bd0>"
      ]
     },
     "execution_count": 75,
     "metadata": {},
     "output_type": "execute_result"
    },
    {
     "data": {
      "image/png": "[encoded data removed]",
      "text/plain": [
       "<Figure size 640x480 with 1 Axes>"
      ]
     },
     "metadata": {},
     "output_type": "display_data"
    }
   ],
   "source": [
    "plt.scatter(profile['date'],profile['CHLA'])"
   ]
  },
  {
   "cell_type": "code",
   "execution_count": 94,
   "metadata": {},
   "outputs": [],
   "source": [
    "profile_subset = profile[profile['float'].isin(list(profile['float'].value_counts().reset_index()['index'][0:1]))]"
   ]
  },
  {
   "cell_type": "code",
   "execution_count": 98,
   "metadata": {},
   "outputs": [
    {
     "data": {
      "text/plain": [
       "[<matplotlib.lines.Line2D at 0x16bc32e60>]"
      ]
     },
     "execution_count": 98,
     "metadata": {},
     "output_type": "execute_result"
    },
    {
     "data": {
      "image/png": "[encoded data removed]",
      "text/plain": [
       "<Figure size 640x480 with 1 Axes>"
      ]
     },
     "metadata": {},
     "output_type": "display_data"
    }
   ],
   "source": [
    "plt.plot(profile_subset['date'],profile_subset['CHLA'])"
   ]
  },
  {
   "cell_type": "markdown",
   "metadata": {},
   "source": [
    "## Seasonality & Time Series"
   ]
  },
  {
   "cell_type": "markdown",
   "metadata": {},
   "source": []
  }
 ],
 "metadata": {
  "interpreter": {
   "hash": "f82d4ec2f4e1a7949fc551b5039d8b80c5fc6c2b366144cfac1fa6211cdc80ab"
  },
  "kernelspec": {
   "display_name": "Python 3.10.6 ('capstone')",
   "language": "python",
   "name": "python3"
  },
  "language_info": {
   "codemirror_mode": {
    "name": "ipython",
    "version": 3
   },
   "file_extension": ".py",
   "mimetype": "text/x-python",
   "name": "python",
   "nbconvert_exporter": "python",
   "pygments_lexer": "ipython3",
   "version": "3.10.6"
  },
  "orig_nbformat": 4
 },
 "nbformat": 4,
 "nbformat_minor": 2
}

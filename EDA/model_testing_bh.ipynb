{
 "cells": [
  {
   "cell_type": "code",
   "execution_count": 36,
   "metadata": {},
   "outputs": [
    {
     "data": {
      "text/plain": [
       "'c:\\\\Users\\\\johnc\\\\Documents\\\\Python Scripts\\\\ocean-depth-characterization\\\\EDA'"
      ]
     },
     "execution_count": 36,
     "metadata": {},
     "output_type": "execute_result"
    }
   ],
   "source": [
    "import os\n",
    "import numpy as np\n",
    "import pandas as pd\n",
    "import matplotlib.pyplot as plt\n",
    "import seaborn as sns\n",
    "\n",
    "import sklearn\n",
    "from sklearn.linear_model import RidgeCV\n",
    "from sklearn.ensemble import GradientBoostingRegressor\n",
    "from sklearn.model_selection import train_test_split, GridSearchCV, cross_validate\n",
    "from sklearn.metrics import mean_absolute_error\n",
    "from sklearn.cluster import KMeans\n",
    "from sklearn.preprocessing import StandardScaler, Normalizer\n",
    "import xgboost as xgb\n",
    "\n",
    "\n",
    "os.getcwd()"
   ]
  },
  {
   "cell_type": "code",
   "execution_count": 3,
   "metadata": {},
   "outputs": [],
   "source": [
    "PROFILE_DATA_PATH = \"../data/profileData.csv\"\n",
    "SAT_DATA_PATH = \"../data/satData.csv\"\n",
    "drop_cols = ['LT_SAT_SST_SD', 'LT_SAT_SST_MED', 'LT_SAT_CHL_SD', 'LT_SAT_CHL_MED', 'LT_SAT_BBP_SD', 'LT_SAT_BBP_MED']\n",
    "\n",
    "profile_df = pd.read_csv(PROFILE_DATA_PATH)\n",
    "sat_df = pd.read_csv(SAT_DATA_PATH)\n",
    "\n",
    "out = pd.cut(profile_df.PRES, bins=50, labels=[i for i in range(50)])\n",
    "profile_df['depth_bin'] = out\n",
    "\n",
    "depth_profiles = profile_df[['float', 'cycleNumber', 'depth_bin', 'CHLA', 'BBP700']] \\\n",
    "    .groupby(['float', 'cycleNumber', 'depth_bin']).mean().reset_index().dropna()\n",
    "\n",
    "df_depth = depth_profiles.merge(sat_df, on=['float', 'cycleNumber']).drop(drop_cols, axis=1).dropna()\n",
    "df_depth['date'] = pd.to_datetime(df_depth.date, format='%Y-%m-%d %H:%M:%S')"
   ]
  },
  {
   "cell_type": "code",
   "execution_count": 15,
   "metadata": {},
   "outputs": [],
   "source": [
    "def model_scoring(model, X, y, argument_dict=None, cv=5):\n",
    "    # for sklearn API compatible gradient boosting models\n",
    "    \n",
    "    if not argument_dict:\n",
    "        # train vanilla model\n",
    "        cv_results = cross_validate(model, X, y, cv=cv,\n",
    "                                    scoring=['neg_root_mean_squared_error', 'r2', 'neg_mean_absolute_percentage_error', 'neg_mean_absolute_error'],\n",
    "                                    return_estimator=True,\n",
    "                                    return_train_score=True)\n",
    "        return cv_results\n",
    "    else:\n",
    "        # do a grid search\n",
    "        gs_results = GridSearchCV(model,\n",
    "                                  param_grid = [argument_dict], cv=cv,\n",
    "                                  scoring=['neg_root_mean_squared_error', 'r2', 'neg_mean_absolute_percentage_error', 'neg_mean_absolute_error'],\n",
    "                                  refit='neg_root_mean_squared_error',\n",
    "                                  return_train_score=True)\n",
    "        gs_results.fit(X, y)\n",
    "        return gs_results"
   ]
  },
  {
   "cell_type": "markdown",
   "metadata": {},
   "source": [
    "### Preprocessing"
   ]
  },
  {
   "cell_type": "code",
   "execution_count": 11,
   "metadata": {},
   "outputs": [],
   "source": [
    "bins_to_use = [0, 2, 4, 6, 8, 10]\n",
    "df = df_depth[df_depth.depth_bin.isin(bins_to_use)]"
   ]
  },
  {
   "cell_type": "code",
   "execution_count": 12,
   "metadata": {},
   "outputs": [
    {
     "name": "stderr",
     "output_type": "stream",
     "text": [
      "C:\\Users\\johnc\\AppData\\Local\\Temp\\ipykernel_49168\\982968678.py:2: SettingWithCopyWarning: \n",
      "A value is trying to be set on a copy of a slice from a DataFrame.\n",
      "Try using .loc[row_indexer,col_indexer] = value instead\n",
      "\n",
      "See the caveats in the documentation: https://pandas.pydata.org/pandas-docs/stable/user_guide/indexing.html#returning-a-view-versus-a-copy\n",
      "  df['date_doy'] = df['date'].apply(lambda x: pd.Period(x, freq='D').day_of_year)\n",
      "C:\\Users\\johnc\\AppData\\Local\\Temp\\ipykernel_49168\\982968678.py:3: SettingWithCopyWarning: \n",
      "A value is trying to be set on a copy of a slice from a DataFrame.\n",
      "Try using .loc[row_indexer,col_indexer] = value instead\n",
      "\n",
      "See the caveats in the documentation: https://pandas.pydata.org/pandas-docs/stable/user_guide/indexing.html#returning-a-view-versus-a-copy\n",
      "  df['date_doy_rad'] = df['date_doy'] * (np.pi /182.625)\n"
     ]
    }
   ],
   "source": [
    "# turn date into radians\n",
    "df['date_doy'] = df['date'].apply(lambda x: pd.Period(x, freq='D').day_of_year)\n",
    "df['date_doy_rad'] = df['date_doy'] * (np.pi /182.625)"
   ]
  },
  {
   "cell_type": "code",
   "execution_count": 6,
   "metadata": {},
   "outputs": [],
   "source": [
    "score = list()"
   ]
  },
  {
   "cell_type": "code",
   "execution_count": 18,
   "metadata": {},
   "outputs": [],
   "source": [
    "Xc_boost = df[[\"latitude\", \"longitude\", \"date_doy_rad\", \"depth_bin\", \"MO_SAT_CHL\", \"MO_SAT_BBP\", \"MO_SAT_SST\"]]\n",
    "yc_boost = df[\"CHLA\"]\n",
    "\n",
    "X_tr, X_te, y_tr, y_te = train_test_split(Xc_boost, yc_boost, test_size=0.15, random_state=23)"
   ]
  },
  {
   "cell_type": "code",
   "execution_count": null,
   "metadata": {},
   "outputs": [],
   "source": [
    "gbr = GradientBoostingRegressor()\n",
    "\n",
    "gbr_scoring = model_scoring(gbr, X_tr, y_tr)"
   ]
  },
  {
   "cell_type": "code",
   "execution_count": 41,
   "metadata": {},
   "outputs": [],
   "source": [
    "xgbr = xgb.XGBRegressor()\n",
    "\n",
    "xgbr_scoring = model_scoring(xgbr, X_tr.to_numpy(), y_tr.to_numpy())"
   ]
  },
  {
   "cell_type": "code",
   "execution_count": 43,
   "metadata": {},
   "outputs": [
    {
     "data": {
      "text/plain": [
       "array([0.7030797 , 0.68809621, 0.69670025, 0.66998076, 0.69835647])"
      ]
     },
     "execution_count": 43,
     "metadata": {},
     "output_type": "execute_result"
    }
   ],
   "source": [
    "xgbr_scoring[\"test_r2\"]"
   ]
  },
  {
   "cell_type": "code",
   "execution_count": null,
   "metadata": {},
   "outputs": [],
   "source": []
  }
 ],
 "metadata": {
  "kernelspec": {
   "display_name": "Python 3.9.12 ('tf-gpu')",
   "language": "python",
   "name": "python3"
  },
  "language_info": {
   "codemirror_mode": {
    "name": "ipython",
    "version": 3
   },
   "file_extension": ".py",
   "mimetype": "text/x-python",
   "name": "python",
   "nbconvert_exporter": "python",
   "pygments_lexer": "ipython3",
   "version": "3.9.12"
  },
  "orig_nbformat": 4,
  "vscode": {
   "interpreter": {
    "hash": "1c9ece6d5e3a61ef188a80f993fe2bc31561efaaa1bfc5da7794f01208afce4e"
   }
  }
 },
 "nbformat": 4,
 "nbformat_minor": 2
}

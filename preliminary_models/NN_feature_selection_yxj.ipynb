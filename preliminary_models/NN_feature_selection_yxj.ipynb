{
 "cells": [
  {
   "attachments": {},
   "cell_type": "markdown",
   "id": "95bd4827",
   "metadata": {},
   "source": [
    "# Neural Net | with feature selection and normalized data\n",
    "\n",
    "**XGBRegressor**\n",
    "\n",
    "Yo Jeremijenkoko-Conley (based on work by Josie Donnelly)\n",
    "\n",
    "*Last updated 11.14.22*"
   ]
  },
  {
   "cell_type": "code",
   "execution_count": 1,
   "id": "a687abc0",
   "metadata": {},
   "outputs": [],
   "source": [
    "import numpy as np\n",
    "import pandas as pd\n",
    "#import geopandas as gpd\n",
    "from statistics import mode\n",
    "from datetime import datetime\n",
    "from time import time\n",
    "import random\n",
    "import pickle\n",
    "import os\n",
    "\n",
    "import matplotlib.pyplot as plt\n",
    "%matplotlib inline\n",
    "\n",
    "from sklearn.model_selection import train_test_split, cross_validate\n",
    "from sklearn.preprocessing import StandardScaler\n",
    "from sklearn.metrics import mean_squared_error, r2_score\n",
    "\n",
    "from xgboost import XGBRegressor\n",
    "# importing the libraries\n",
    "from keras.models import Sequential\n",
    "from keras.layers import Dense\n",
    "from tensorflow.keras.layers import Dropout\n",
    "\n",
    "\n"
   ]
  },
  {
   "cell_type": "code",
   "execution_count": 2,
   "id": "585b005e",
   "metadata": {},
   "outputs": [],
   "source": [
    "#!pip install xgboost"
   ]
  },
  {
   "cell_type": "code",
   "execution_count": 3,
   "id": "dbdfdb61",
   "metadata": {},
   "outputs": [
    {
     "data": {
      "text/plain": [
       "'/Users/yojeremijenko-conel/Dropbox/Mac (3)/Documents/ocean-depth-characterization/preliminary_models'"
      ]
     },
     "execution_count": 3,
     "metadata": {},
     "output_type": "execute_result"
    }
   ],
   "source": [
    "os.getcwd()"
   ]
  },
  {
   "cell_type": "markdown",
   "id": "6d137c5f",
   "metadata": {},
   "source": [
    "## Preprocessing"
   ]
  },
  {
   "cell_type": "code",
   "execution_count": 4,
   "id": "87b8e98c",
   "metadata": {},
   "outputs": [
    {
     "name": "stdout",
     "output_type": "stream",
     "text": [
      "Shape: (7679754, 31)\n"
     ]
    },
    {
     "data": {
      "text/html": [
       "<div>\n",
       "<style scoped>\n",
       "    .dataframe tbody tr th:only-of-type {\n",
       "        vertical-align: middle;\n",
       "    }\n",
       "\n",
       "    .dataframe tbody tr th {\n",
       "        vertical-align: top;\n",
       "    }\n",
       "\n",
       "    .dataframe thead th {\n",
       "        text-align: right;\n",
       "    }\n",
       "</style>\n",
       "<table border=\"1\" class=\"dataframe\">\n",
       "  <thead>\n",
       "    <tr style=\"text-align: right;\">\n",
       "      <th></th>\n",
       "      <th>float</th>\n",
       "      <th>latitude</th>\n",
       "      <th>longitude</th>\n",
       "      <th>cycleNumber</th>\n",
       "      <th>date</th>\n",
       "      <th>day_of_year_rad</th>\n",
       "      <th>PRES</th>\n",
       "      <th>PSAL</th>\n",
       "      <th>TEMP</th>\n",
       "      <th>BBP700</th>\n",
       "      <th>...</th>\n",
       "      <th>sat_Rrs_678</th>\n",
       "      <th>sat_aph_443</th>\n",
       "      <th>sat_par</th>\n",
       "      <th>sat_angstrom</th>\n",
       "      <th>sat_bb_678</th>\n",
       "      <th>sat_adg_443</th>\n",
       "      <th>sat_aot_869</th>\n",
       "      <th>normalized_depth</th>\n",
       "      <th>sat_adg_s</th>\n",
       "      <th>sat_bbp_s</th>\n",
       "    </tr>\n",
       "  </thead>\n",
       "  <tbody>\n",
       "    <tr>\n",
       "      <th>0</th>\n",
       "      <td>1902303</td>\n",
       "      <td>49.236</td>\n",
       "      <td>-14.742</td>\n",
       "      <td>1</td>\n",
       "      <td>2021-05-06 02:03:16</td>\n",
       "      <td>2.167505</td>\n",
       "      <td>3</td>\n",
       "      <td>35.539001</td>\n",
       "      <td>12.378333</td>\n",
       "      <td>0.001788</td>\n",
       "      <td>...</td>\n",
       "      <td>0.000354</td>\n",
       "      <td>0.0357</td>\n",
       "      <td>27.891998</td>\n",
       "      <td>1.1175</td>\n",
       "      <td>0.001995</td>\n",
       "      <td>0.0083</td>\n",
       "      <td>0.0951</td>\n",
       "      <td>0.012931</td>\n",
       "      <td>0.018</td>\n",
       "      <td>1.600373</td>\n",
       "    </tr>\n",
       "    <tr>\n",
       "      <th>1</th>\n",
       "      <td>1902303</td>\n",
       "      <td>49.236</td>\n",
       "      <td>-14.742</td>\n",
       "      <td>1</td>\n",
       "      <td>2021-05-06 02:03:16</td>\n",
       "      <td>2.167505</td>\n",
       "      <td>4</td>\n",
       "      <td>35.539001</td>\n",
       "      <td>12.378333</td>\n",
       "      <td>0.001788</td>\n",
       "      <td>...</td>\n",
       "      <td>0.000354</td>\n",
       "      <td>0.0357</td>\n",
       "      <td>27.891998</td>\n",
       "      <td>1.1175</td>\n",
       "      <td>0.001995</td>\n",
       "      <td>0.0083</td>\n",
       "      <td>0.0951</td>\n",
       "      <td>0.017241</td>\n",
       "      <td>0.018</td>\n",
       "      <td>1.600373</td>\n",
       "    </tr>\n",
       "    <tr>\n",
       "      <th>2</th>\n",
       "      <td>1902303</td>\n",
       "      <td>49.236</td>\n",
       "      <td>-14.742</td>\n",
       "      <td>1</td>\n",
       "      <td>2021-05-06 02:03:16</td>\n",
       "      <td>2.167505</td>\n",
       "      <td>6</td>\n",
       "      <td>35.539001</td>\n",
       "      <td>12.378667</td>\n",
       "      <td>0.001788</td>\n",
       "      <td>...</td>\n",
       "      <td>0.000354</td>\n",
       "      <td>0.0357</td>\n",
       "      <td>27.891998</td>\n",
       "      <td>1.1175</td>\n",
       "      <td>0.001995</td>\n",
       "      <td>0.0083</td>\n",
       "      <td>0.0951</td>\n",
       "      <td>0.025862</td>\n",
       "      <td>0.018</td>\n",
       "      <td>1.600373</td>\n",
       "    </tr>\n",
       "    <tr>\n",
       "      <th>3</th>\n",
       "      <td>1902303</td>\n",
       "      <td>49.236</td>\n",
       "      <td>-14.742</td>\n",
       "      <td>1</td>\n",
       "      <td>2021-05-06 02:03:16</td>\n",
       "      <td>2.167505</td>\n",
       "      <td>8</td>\n",
       "      <td>35.539001</td>\n",
       "      <td>12.379000</td>\n",
       "      <td>0.001789</td>\n",
       "      <td>...</td>\n",
       "      <td>0.000354</td>\n",
       "      <td>0.0357</td>\n",
       "      <td>27.891998</td>\n",
       "      <td>1.1175</td>\n",
       "      <td>0.001995</td>\n",
       "      <td>0.0083</td>\n",
       "      <td>0.0951</td>\n",
       "      <td>0.034483</td>\n",
       "      <td>0.018</td>\n",
       "      <td>1.600373</td>\n",
       "    </tr>\n",
       "    <tr>\n",
       "      <th>4</th>\n",
       "      <td>1902303</td>\n",
       "      <td>49.236</td>\n",
       "      <td>-14.742</td>\n",
       "      <td>1</td>\n",
       "      <td>2021-05-06 02:03:16</td>\n",
       "      <td>2.167505</td>\n",
       "      <td>10</td>\n",
       "      <td>35.539001</td>\n",
       "      <td>12.379000</td>\n",
       "      <td>0.001790</td>\n",
       "      <td>...</td>\n",
       "      <td>0.000354</td>\n",
       "      <td>0.0357</td>\n",
       "      <td>27.891998</td>\n",
       "      <td>1.1175</td>\n",
       "      <td>0.001995</td>\n",
       "      <td>0.0083</td>\n",
       "      <td>0.0951</td>\n",
       "      <td>0.043103</td>\n",
       "      <td>0.018</td>\n",
       "      <td>1.600373</td>\n",
       "    </tr>\n",
       "  </tbody>\n",
       "</table>\n",
       "<p>5 rows × 31 columns</p>\n",
       "</div>"
      ],
      "text/plain": [
       "     float  latitude  longitude  cycleNumber                date  \\\n",
       "0  1902303    49.236    -14.742            1 2021-05-06 02:03:16   \n",
       "1  1902303    49.236    -14.742            1 2021-05-06 02:03:16   \n",
       "2  1902303    49.236    -14.742            1 2021-05-06 02:03:16   \n",
       "3  1902303    49.236    -14.742            1 2021-05-06 02:03:16   \n",
       "4  1902303    49.236    -14.742            1 2021-05-06 02:03:16   \n",
       "\n",
       "   day_of_year_rad  PRES       PSAL       TEMP    BBP700  ...  sat_Rrs_678  \\\n",
       "0         2.167505     3  35.539001  12.378333  0.001788  ...     0.000354   \n",
       "1         2.167505     4  35.539001  12.378333  0.001788  ...     0.000354   \n",
       "2         2.167505     6  35.539001  12.378667  0.001788  ...     0.000354   \n",
       "3         2.167505     8  35.539001  12.379000  0.001789  ...     0.000354   \n",
       "4         2.167505    10  35.539001  12.379000  0.001790  ...     0.000354   \n",
       "\n",
       "  sat_aph_443    sat_par  sat_angstrom  sat_bb_678  sat_adg_443  sat_aot_869  \\\n",
       "0      0.0357  27.891998        1.1175    0.001995       0.0083       0.0951   \n",
       "1      0.0357  27.891998        1.1175    0.001995       0.0083       0.0951   \n",
       "2      0.0357  27.891998        1.1175    0.001995       0.0083       0.0951   \n",
       "3      0.0357  27.891998        1.1175    0.001995       0.0083       0.0951   \n",
       "4      0.0357  27.891998        1.1175    0.001995       0.0083       0.0951   \n",
       "\n",
       "   normalized_depth  sat_adg_s  sat_bbp_s  \n",
       "0          0.012931      0.018   1.600373  \n",
       "1          0.017241      0.018   1.600373  \n",
       "2          0.025862      0.018   1.600373  \n",
       "3          0.034483      0.018   1.600373  \n",
       "4          0.043103      0.018   1.600373  \n",
       "\n",
       "[5 rows x 31 columns]"
      ]
     },
     "execution_count": 4,
     "metadata": {},
     "output_type": "execute_result"
    }
   ],
   "source": [
    "# load merged dataset\n",
    "path = '../../DSI_bgcArgoProject/data/'\n",
    "file = 'float_sat_normalized_depth.csv'\n",
    "\n",
    "date_parser = lambda x: datetime.strptime(x, '%Y-%m-%d %H:%M:%S')\n",
    "df_orig = pd.read_csv(path + file, parse_dates=['date'], date_parser=date_parser)\n",
    "print(f'Shape: {df_orig.shape}')\n",
    "df_orig.head()\n"
   ]
  },
  {
   "cell_type": "code",
   "execution_count": 5,
   "id": "20fd4491",
   "metadata": {},
   "outputs": [
    {
     "name": "stdout",
     "output_type": "stream",
     "text": [
      "['float', 'cycle', 'latitude', 'longitude', 'date', 'day_of_year_rad', 'sat_chl', 'sat_sst', 'sat_pic', 'sat_par', 'sat_aph_443', 'PRES', 'normalized_depth', 'CHLA']\n"
     ]
    }
   ],
   "source": [
    "df = df_orig[['float', 'cycleNumber', 'latitude', 'longitude', 'date', 'day_of_year_rad', 'sat_chl', 'sat_sst', 'sat_pic', 'sat_par', 'sat_aph_443', 'PRES', 'normalized_depth', 'CHLA']]\n",
    "df = df.rename(columns={'cycleNumber': 'cycle'})\n",
    "# sat_chl: chlorophyll-a concentration\n",
    "# sat_sst: sea surface temperature\n",
    "# sat_pic: calcite concentration\n",
    "# sat_par: photosynthetically available radiation\n",
    "# sat_aph_443: absorption due to phytoplankton (443 nm)\n",
    "\n",
    "print(list(df.columns))\n"
   ]
  },
  {
   "cell_type": "code",
   "execution_count": 6,
   "id": "e6d3b440",
   "metadata": {},
   "outputs": [
    {
     "name": "stdout",
     "output_type": "stream",
     "text": [
      "Shape: (7679754, 14)\n"
     ]
    },
    {
     "data": {
      "text/html": [
       "<div>\n",
       "<style scoped>\n",
       "    .dataframe tbody tr th:only-of-type {\n",
       "        vertical-align: middle;\n",
       "    }\n",
       "\n",
       "    .dataframe tbody tr th {\n",
       "        vertical-align: top;\n",
       "    }\n",
       "\n",
       "    .dataframe thead th {\n",
       "        text-align: right;\n",
       "    }\n",
       "</style>\n",
       "<table border=\"1\" class=\"dataframe\">\n",
       "  <thead>\n",
       "    <tr style=\"text-align: right;\">\n",
       "      <th></th>\n",
       "      <th>float</th>\n",
       "      <th>cycle</th>\n",
       "      <th>latitude</th>\n",
       "      <th>longitude</th>\n",
       "      <th>date</th>\n",
       "      <th>day_of_year_rad</th>\n",
       "      <th>sat_chl</th>\n",
       "      <th>sat_sst</th>\n",
       "      <th>sat_pic</th>\n",
       "      <th>sat_par</th>\n",
       "      <th>sat_aph_443</th>\n",
       "      <th>PRES</th>\n",
       "      <th>normalized_depth</th>\n",
       "      <th>CHLA</th>\n",
       "    </tr>\n",
       "  </thead>\n",
       "  <tbody>\n",
       "    <tr>\n",
       "      <th>0</th>\n",
       "      <td>1902303</td>\n",
       "      <td>1</td>\n",
       "      <td>49.236</td>\n",
       "      <td>-14.742</td>\n",
       "      <td>2021-05-06 02:03:16</td>\n",
       "      <td>2.167505</td>\n",
       "      <td>0.370203</td>\n",
       "      <td>12.61</td>\n",
       "      <td>0.000306</td>\n",
       "      <td>27.891998</td>\n",
       "      <td>0.0357</td>\n",
       "      <td>3</td>\n",
       "      <td>0.012931</td>\n",
       "      <td>0.695875</td>\n",
       "    </tr>\n",
       "    <tr>\n",
       "      <th>1</th>\n",
       "      <td>1902303</td>\n",
       "      <td>1</td>\n",
       "      <td>49.236</td>\n",
       "      <td>-14.742</td>\n",
       "      <td>2021-05-06 02:03:16</td>\n",
       "      <td>2.167505</td>\n",
       "      <td>0.370203</td>\n",
       "      <td>12.61</td>\n",
       "      <td>0.000306</td>\n",
       "      <td>27.891998</td>\n",
       "      <td>0.0357</td>\n",
       "      <td>4</td>\n",
       "      <td>0.017241</td>\n",
       "      <td>0.695875</td>\n",
       "    </tr>\n",
       "    <tr>\n",
       "      <th>2</th>\n",
       "      <td>1902303</td>\n",
       "      <td>1</td>\n",
       "      <td>49.236</td>\n",
       "      <td>-14.742</td>\n",
       "      <td>2021-05-06 02:03:16</td>\n",
       "      <td>2.167505</td>\n",
       "      <td>0.370203</td>\n",
       "      <td>12.61</td>\n",
       "      <td>0.000306</td>\n",
       "      <td>27.891998</td>\n",
       "      <td>0.0357</td>\n",
       "      <td>6</td>\n",
       "      <td>0.025862</td>\n",
       "      <td>0.696499</td>\n",
       "    </tr>\n",
       "    <tr>\n",
       "      <th>3</th>\n",
       "      <td>1902303</td>\n",
       "      <td>1</td>\n",
       "      <td>49.236</td>\n",
       "      <td>-14.742</td>\n",
       "      <td>2021-05-06 02:03:16</td>\n",
       "      <td>2.167505</td>\n",
       "      <td>0.370203</td>\n",
       "      <td>12.61</td>\n",
       "      <td>0.000306</td>\n",
       "      <td>27.891998</td>\n",
       "      <td>0.0357</td>\n",
       "      <td>8</td>\n",
       "      <td>0.034483</td>\n",
       "      <td>0.716489</td>\n",
       "    </tr>\n",
       "    <tr>\n",
       "      <th>4</th>\n",
       "      <td>1902303</td>\n",
       "      <td>1</td>\n",
       "      <td>49.236</td>\n",
       "      <td>-14.742</td>\n",
       "      <td>2021-05-06 02:03:16</td>\n",
       "      <td>2.167505</td>\n",
       "      <td>0.370203</td>\n",
       "      <td>12.61</td>\n",
       "      <td>0.000306</td>\n",
       "      <td>27.891998</td>\n",
       "      <td>0.0357</td>\n",
       "      <td>10</td>\n",
       "      <td>0.043103</td>\n",
       "      <td>0.715552</td>\n",
       "    </tr>\n",
       "  </tbody>\n",
       "</table>\n",
       "</div>"
      ],
      "text/plain": [
       "     float  cycle  latitude  longitude                date  day_of_year_rad  \\\n",
       "0  1902303      1    49.236    -14.742 2021-05-06 02:03:16         2.167505   \n",
       "1  1902303      1    49.236    -14.742 2021-05-06 02:03:16         2.167505   \n",
       "2  1902303      1    49.236    -14.742 2021-05-06 02:03:16         2.167505   \n",
       "3  1902303      1    49.236    -14.742 2021-05-06 02:03:16         2.167505   \n",
       "4  1902303      1    49.236    -14.742 2021-05-06 02:03:16         2.167505   \n",
       "\n",
       "    sat_chl  sat_sst   sat_pic    sat_par  sat_aph_443  PRES  \\\n",
       "0  0.370203    12.61  0.000306  27.891998       0.0357     3   \n",
       "1  0.370203    12.61  0.000306  27.891998       0.0357     4   \n",
       "2  0.370203    12.61  0.000306  27.891998       0.0357     6   \n",
       "3  0.370203    12.61  0.000306  27.891998       0.0357     8   \n",
       "4  0.370203    12.61  0.000306  27.891998       0.0357    10   \n",
       "\n",
       "   normalized_depth      CHLA  \n",
       "0          0.012931  0.695875  \n",
       "1          0.017241  0.695875  \n",
       "2          0.025862  0.696499  \n",
       "3          0.034483  0.716489  \n",
       "4          0.043103  0.715552  "
      ]
     },
     "execution_count": 6,
     "metadata": {},
     "output_type": "execute_result"
    }
   ],
   "source": [
    "# consider only the cycles for which the euphotic floor is within the desired bounds\n",
    "up_lim = 75\n",
    "lo_lim = 300\n",
    "out_of_bounds_df = df[(df['normalized_depth']==1.0) & ((df['PRES']<up_lim) | (df['PRES']>lo_lim))].reset_index(drop=True)\n",
    "out_of_bounds_df = out_of_bounds_df[['float', 'cycle']]\n",
    "df = df.merge(right=out_of_bounds_df, how='left', on=['float', 'cycle'], copy=False, indicator='valid')\n",
    "df = df[df['valid']=='left_only'].drop(columns='valid')\n",
    "print(f'Shape: {df.shape}')\n",
    "df.head(5)\n"
   ]
  },
  {
   "cell_type": "code",
   "execution_count": 7,
   "id": "c56d62bf",
   "metadata": {},
   "outputs": [
    {
     "name": "stdout",
     "output_type": "stream",
     "text": [
      "Raw depth range represented: 0m to 300m\n",
      "Shape: (6590282, 14)\n"
     ]
    },
    {
     "data": {
      "text/html": [
       "<div>\n",
       "<style scoped>\n",
       "    .dataframe tbody tr th:only-of-type {\n",
       "        vertical-align: middle;\n",
       "    }\n",
       "\n",
       "    .dataframe tbody tr th {\n",
       "        vertical-align: top;\n",
       "    }\n",
       "\n",
       "    .dataframe thead th {\n",
       "        text-align: right;\n",
       "    }\n",
       "</style>\n",
       "<table border=\"1\" class=\"dataframe\">\n",
       "  <thead>\n",
       "    <tr style=\"text-align: right;\">\n",
       "      <th></th>\n",
       "      <th>float</th>\n",
       "      <th>cycle</th>\n",
       "      <th>latitude</th>\n",
       "      <th>longitude</th>\n",
       "      <th>date</th>\n",
       "      <th>day_of_year_rad</th>\n",
       "      <th>sat_chl</th>\n",
       "      <th>sat_sst</th>\n",
       "      <th>sat_pic</th>\n",
       "      <th>sat_par</th>\n",
       "      <th>sat_aph_443</th>\n",
       "      <th>PRES</th>\n",
       "      <th>normalized_depth</th>\n",
       "      <th>CHLA</th>\n",
       "    </tr>\n",
       "  </thead>\n",
       "  <tbody>\n",
       "    <tr>\n",
       "      <th>0</th>\n",
       "      <td>1902303</td>\n",
       "      <td>1</td>\n",
       "      <td>49.236</td>\n",
       "      <td>-14.742</td>\n",
       "      <td>2021-05-06 02:03:16</td>\n",
       "      <td>2.167505</td>\n",
       "      <td>0.370203</td>\n",
       "      <td>12.61</td>\n",
       "      <td>0.000306</td>\n",
       "      <td>27.891998</td>\n",
       "      <td>0.0357</td>\n",
       "      <td>3</td>\n",
       "      <td>0.012931</td>\n",
       "      <td>0.695875</td>\n",
       "    </tr>\n",
       "    <tr>\n",
       "      <th>1</th>\n",
       "      <td>1902303</td>\n",
       "      <td>1</td>\n",
       "      <td>49.236</td>\n",
       "      <td>-14.742</td>\n",
       "      <td>2021-05-06 02:03:16</td>\n",
       "      <td>2.167505</td>\n",
       "      <td>0.370203</td>\n",
       "      <td>12.61</td>\n",
       "      <td>0.000306</td>\n",
       "      <td>27.891998</td>\n",
       "      <td>0.0357</td>\n",
       "      <td>4</td>\n",
       "      <td>0.017241</td>\n",
       "      <td>0.695875</td>\n",
       "    </tr>\n",
       "    <tr>\n",
       "      <th>2</th>\n",
       "      <td>1902303</td>\n",
       "      <td>1</td>\n",
       "      <td>49.236</td>\n",
       "      <td>-14.742</td>\n",
       "      <td>2021-05-06 02:03:16</td>\n",
       "      <td>2.167505</td>\n",
       "      <td>0.370203</td>\n",
       "      <td>12.61</td>\n",
       "      <td>0.000306</td>\n",
       "      <td>27.891998</td>\n",
       "      <td>0.0357</td>\n",
       "      <td>6</td>\n",
       "      <td>0.025862</td>\n",
       "      <td>0.696499</td>\n",
       "    </tr>\n",
       "    <tr>\n",
       "      <th>3</th>\n",
       "      <td>1902303</td>\n",
       "      <td>1</td>\n",
       "      <td>49.236</td>\n",
       "      <td>-14.742</td>\n",
       "      <td>2021-05-06 02:03:16</td>\n",
       "      <td>2.167505</td>\n",
       "      <td>0.370203</td>\n",
       "      <td>12.61</td>\n",
       "      <td>0.000306</td>\n",
       "      <td>27.891998</td>\n",
       "      <td>0.0357</td>\n",
       "      <td>8</td>\n",
       "      <td>0.034483</td>\n",
       "      <td>0.716489</td>\n",
       "    </tr>\n",
       "    <tr>\n",
       "      <th>4</th>\n",
       "      <td>1902303</td>\n",
       "      <td>1</td>\n",
       "      <td>49.236</td>\n",
       "      <td>-14.742</td>\n",
       "      <td>2021-05-06 02:03:16</td>\n",
       "      <td>2.167505</td>\n",
       "      <td>0.370203</td>\n",
       "      <td>12.61</td>\n",
       "      <td>0.000306</td>\n",
       "      <td>27.891998</td>\n",
       "      <td>0.0357</td>\n",
       "      <td>10</td>\n",
       "      <td>0.043103</td>\n",
       "      <td>0.715552</td>\n",
       "    </tr>\n",
       "  </tbody>\n",
       "</table>\n",
       "</div>"
      ],
      "text/plain": [
       "     float  cycle  latitude  longitude                date  day_of_year_rad  \\\n",
       "0  1902303      1    49.236    -14.742 2021-05-06 02:03:16         2.167505   \n",
       "1  1902303      1    49.236    -14.742 2021-05-06 02:03:16         2.167505   \n",
       "2  1902303      1    49.236    -14.742 2021-05-06 02:03:16         2.167505   \n",
       "3  1902303      1    49.236    -14.742 2021-05-06 02:03:16         2.167505   \n",
       "4  1902303      1    49.236    -14.742 2021-05-06 02:03:16         2.167505   \n",
       "\n",
       "    sat_chl  sat_sst   sat_pic    sat_par  sat_aph_443  PRES  \\\n",
       "0  0.370203    12.61  0.000306  27.891998       0.0357     3   \n",
       "1  0.370203    12.61  0.000306  27.891998       0.0357     4   \n",
       "2  0.370203    12.61  0.000306  27.891998       0.0357     6   \n",
       "3  0.370203    12.61  0.000306  27.891998       0.0357     8   \n",
       "4  0.370203    12.61  0.000306  27.891998       0.0357    10   \n",
       "\n",
       "   normalized_depth      CHLA  \n",
       "0          0.012931  0.695875  \n",
       "1          0.017241  0.695875  \n",
       "2          0.025862  0.696499  \n",
       "3          0.034483  0.716489  \n",
       "4          0.043103  0.715552  "
      ]
     },
     "execution_count": 7,
     "metadata": {},
     "output_type": "execute_result"
    }
   ],
   "source": [
    "# drop any example for which there is more than one missing satellite value\n",
    "sat_feats = ['sat_chl', 'sat_sst', 'sat_pic', 'sat_par', 'sat_aph_443']\n",
    "df = df.dropna(axis=0, thresh=len(sat_feats)-1, subset=sat_feats).reset_index(drop=True)\n",
    "\n",
    "print(f'Raw depth range represented: {min(df[\"PRES\"])}m to {max(df[\"PRES\"])}m')\n",
    "print(f'Shape: {df.shape}')\n",
    "df.head(5)\n"
   ]
  },
  {
   "cell_type": "code",
   "execution_count": 8,
   "id": "9db2de4a",
   "metadata": {},
   "outputs": [
    {
     "name": "stdout",
     "output_type": "stream",
     "text": [
      "Number of examples for which normalized_depth is missing: 0\n"
     ]
    },
    {
     "data": {
      "text/plain": [
       "float                   0\n",
       "cycle                   0\n",
       "latitude                0\n",
       "longitude               0\n",
       "date                    0\n",
       "day_of_year_rad         0\n",
       "sat_chl                 0\n",
       "sat_sst             36865\n",
       "sat_pic             60285\n",
       "sat_par              1509\n",
       "sat_aph_443          4251\n",
       "PRES                    0\n",
       "normalized_depth        0\n",
       "CHLA                    0\n",
       "dtype: int64"
      ]
     },
     "execution_count": 8,
     "metadata": {},
     "output_type": "execute_result"
    }
   ],
   "source": [
    "print(f'Number of examples for which normalized_depth is missing: {df[df[\"normalized_depth\"].isna()].shape[0]}')\n",
    "# ensure normalized_depth and CHLA are not NA for any observations\n",
    "df.isna().sum()\n"
   ]
  },
  {
   "cell_type": "code",
   "execution_count": 9,
   "id": "baa2fcfb",
   "metadata": {},
   "outputs": [
    {
     "data": {
      "text/plain": [
       "True"
      ]
     },
     "execution_count": 9,
     "metadata": {},
     "output_type": "execute_result"
    }
   ],
   "source": [
    "# ensure the rows of the dataframe are unique\n",
    "df.shape[0] == df.drop_duplicates().shape[0]\n"
   ]
  },
  {
   "cell_type": "markdown",
   "id": "75ccdf2f",
   "metadata": {},
   "source": [
    "## Visualize euphotic floor estimates on map"
   ]
  },
  {
   "cell_type": "code",
   "execution_count": 10,
   "id": "7e23e94a",
   "metadata": {},
   "outputs": [],
   "source": [
    "# # function to plot a path of a float cycle on a map, colored by raw depth (PRES) by default\n",
    "# def plot_on_map(tmp_df, color_by='PRES', cmap='plasma_r', figsize=(10,4), title=None):\n",
    "#     land = gpd.read_file(gpd.datasets.get_path(\"naturalearth_lowres\"))\n",
    "#     land.plot(color='lightgray', figsize=figsize)\n",
    "#     plt.scatter(tmp_df['longitude'], tmp_df['latitude'], c=tmp_df[color_by], cmap=cmap, s=1, alpha=0.7)\n",
    "#     cbar = plt.colorbar(label=color_by)\n",
    "#     cbar.ax.invert_yaxis()\n",
    "#     if title is None:\n",
    "#         plt.title(f'Cycle {tmp_df.loc[0,\"cycleNumber\"]} of Float {tmp_df.loc[0,\"float\"]}')\n",
    "#     else:\n",
    "#         plt.title(title)\n",
    "#     plt.xlabel('longitude')\n",
    "#     plt.ylabel('latitude')\n",
    "    \n",
    "#     plt.show()\n",
    "    \n",
    "# # display the observations colored by the depth of the euphotic floor\n",
    "# euphotic_floor_df = df[df['normalized_depth']==1.0].reset_index(drop=True)\n",
    "# plot_on_map(euphotic_floor_df, color_by='PRES', title='Euphotic Floor Estimates\\nColored by Raw Depth')\n"
   ]
  },
  {
   "cell_type": "markdown",
   "id": "509b9526",
   "metadata": {},
   "source": [
    "## Train-test split"
   ]
  },
  {
   "cell_type": "code",
   "execution_count": 11,
   "id": "fccd4303",
   "metadata": {},
   "outputs": [
    {
     "data": {
      "text/html": [
       "<div>\n",
       "<style scoped>\n",
       "    .dataframe tbody tr th:only-of-type {\n",
       "        vertical-align: middle;\n",
       "    }\n",
       "\n",
       "    .dataframe tbody tr th {\n",
       "        vertical-align: top;\n",
       "    }\n",
       "\n",
       "    .dataframe thead th {\n",
       "        text-align: right;\n",
       "    }\n",
       "</style>\n",
       "<table border=\"1\" class=\"dataframe\">\n",
       "  <thead>\n",
       "    <tr style=\"text-align: right;\">\n",
       "      <th></th>\n",
       "      <th>float</th>\n",
       "      <th>cycle</th>\n",
       "      <th>train</th>\n",
       "    </tr>\n",
       "  </thead>\n",
       "  <tbody>\n",
       "    <tr>\n",
       "      <th>0</th>\n",
       "      <td>5904858</td>\n",
       "      <td>176</td>\n",
       "      <td>0</td>\n",
       "    </tr>\n",
       "    <tr>\n",
       "      <th>1</th>\n",
       "      <td>5904857</td>\n",
       "      <td>76</td>\n",
       "      <td>0</td>\n",
       "    </tr>\n",
       "    <tr>\n",
       "      <th>2</th>\n",
       "      <td>5904857</td>\n",
       "      <td>82</td>\n",
       "      <td>0</td>\n",
       "    </tr>\n",
       "    <tr>\n",
       "      <th>3</th>\n",
       "      <td>5904672</td>\n",
       "      <td>8</td>\n",
       "      <td>0</td>\n",
       "    </tr>\n",
       "    <tr>\n",
       "      <th>4</th>\n",
       "      <td>5905372</td>\n",
       "      <td>64</td>\n",
       "      <td>0</td>\n",
       "    </tr>\n",
       "    <tr>\n",
       "      <th>...</th>\n",
       "      <td>...</td>\n",
       "      <td>...</td>\n",
       "      <td>...</td>\n",
       "    </tr>\n",
       "    <tr>\n",
       "      <th>58445</th>\n",
       "      <td>7901001</td>\n",
       "      <td>24</td>\n",
       "      <td>1</td>\n",
       "    </tr>\n",
       "    <tr>\n",
       "      <th>58446</th>\n",
       "      <td>7901001</td>\n",
       "      <td>25</td>\n",
       "      <td>1</td>\n",
       "    </tr>\n",
       "    <tr>\n",
       "      <th>58447</th>\n",
       "      <td>7901001</td>\n",
       "      <td>26</td>\n",
       "      <td>1</td>\n",
       "    </tr>\n",
       "    <tr>\n",
       "      <th>58448</th>\n",
       "      <td>7901001</td>\n",
       "      <td>27</td>\n",
       "      <td>1</td>\n",
       "    </tr>\n",
       "    <tr>\n",
       "      <th>58449</th>\n",
       "      <td>7901001</td>\n",
       "      <td>28</td>\n",
       "      <td>1</td>\n",
       "    </tr>\n",
       "  </tbody>\n",
       "</table>\n",
       "<p>58450 rows × 3 columns</p>\n",
       "</div>"
      ],
      "text/plain": [
       "         float  cycle  train\n",
       "0      5904858    176      0\n",
       "1      5904857     76      0\n",
       "2      5904857     82      0\n",
       "3      5904672      8      0\n",
       "4      5905372     64      0\n",
       "...        ...    ...    ...\n",
       "58445  7901001     24      1\n",
       "58446  7901001     25      1\n",
       "58447  7901001     26      1\n",
       "58448  7901001     27      1\n",
       "58449  7901001     28      1\n",
       "\n",
       "[58450 rows x 3 columns]"
      ]
     },
     "execution_count": 11,
     "metadata": {},
     "output_type": "execute_result"
    }
   ],
   "source": [
    "# read in pre-determined train-test-split\n",
    "path = '../../DSI_bgcArgoProject/'\n",
    "file = 'train_test_split.csv'\n",
    "train_test_split_df = pd.read_csv(path + file)\n",
    "train_test_split_df = train_test_split_df[['float', 'cycle', 'train']]\n",
    "train_test_split_df\n",
    "\n",
    "# # create train-test-split grouped by float and cycle\n",
    "# df.insert(loc=list(df.columns).index('cycleNumber')+1, column='float_cycle_id', value=[f'{df.loc[i,\"float\"]}_{df.loc[i,\"cycleNumber\"]}'for i in range(df.shape[0])])\n",
    "# print(f'Number of float-cycle pairs: {len(np.unique(df[\"float_cycle_id\"]))}')\n",
    "\n",
    "# split data indices into train and test dataframes grouped by float_cycle_id\n",
    "# from sklearn.model_selection import GroupShuffleSplit\n",
    "# splitter = GroupShuffleSplit(test_size=0.2, n_splits=1, random_state=42)\n",
    "# split = splitter.split(df, groups=df['float_cycle_id'])\n",
    "# train_inds, test_inds = next(split)\n",
    "\n",
    "# print(f'Number of train observations: {len(train_inds)}')\n",
    "# print(f'Number of float-cycle observations: {len(test_inds)}')\n",
    "\n",
    "# # obtain train and test dataframes\n",
    "# train_df = df.loc[train_inds]\n",
    "# test_df = df.loc[test_inds]\n",
    "\n",
    "# # ensure that the train and test float cycles are distinct\n",
    "# train_float_cycles = np.unique(train_df['float_cycle_id'])\n",
    "# test_float_cycles = np.unique(test_df['float_cycle_id'])\n",
    "# print(f'\\nNumber of unique train float-cycles: {len(np.unique(train_float_cycles))}')\n",
    "# print(f'Number of unique test float-cycles: {len(np.unique(test_float_cycles))}')\n",
    "# print(f'Number of float-cycle pairs in both train and test sets: {len(np.intersect1d(train_float_cycles, test_float_cycles))}')\n"
   ]
  },
  {
   "cell_type": "code",
   "execution_count": 12,
   "id": "8c9de3aa",
   "metadata": {},
   "outputs": [
    {
     "name": "stdout",
     "output_type": "stream",
     "text": [
      "Number of floats in features df: 556\n",
      "Number of floats in train-test-split df: 565\n",
      "\n",
      "Number of floats in merged df: 556\n",
      "\n",
      "Shape: (6590282, 15)\n"
     ]
    },
    {
     "data": {
      "text/html": [
       "<div>\n",
       "<style scoped>\n",
       "    .dataframe tbody tr th:only-of-type {\n",
       "        vertical-align: middle;\n",
       "    }\n",
       "\n",
       "    .dataframe tbody tr th {\n",
       "        vertical-align: top;\n",
       "    }\n",
       "\n",
       "    .dataframe thead th {\n",
       "        text-align: right;\n",
       "    }\n",
       "</style>\n",
       "<table border=\"1\" class=\"dataframe\">\n",
       "  <thead>\n",
       "    <tr style=\"text-align: right;\">\n",
       "      <th></th>\n",
       "      <th>float</th>\n",
       "      <th>cycle</th>\n",
       "      <th>latitude</th>\n",
       "      <th>longitude</th>\n",
       "      <th>date</th>\n",
       "      <th>day_of_year_rad</th>\n",
       "      <th>sat_chl</th>\n",
       "      <th>sat_sst</th>\n",
       "      <th>sat_pic</th>\n",
       "      <th>sat_par</th>\n",
       "      <th>sat_aph_443</th>\n",
       "      <th>PRES</th>\n",
       "      <th>normalized_depth</th>\n",
       "      <th>CHLA</th>\n",
       "      <th>train</th>\n",
       "    </tr>\n",
       "  </thead>\n",
       "  <tbody>\n",
       "    <tr>\n",
       "      <th>0</th>\n",
       "      <td>1902303</td>\n",
       "      <td>1</td>\n",
       "      <td>49.236</td>\n",
       "      <td>-14.742</td>\n",
       "      <td>2021-05-06 02:03:16</td>\n",
       "      <td>2.167505</td>\n",
       "      <td>0.370203</td>\n",
       "      <td>12.610</td>\n",
       "      <td>0.000306</td>\n",
       "      <td>27.891998</td>\n",
       "      <td>0.0357</td>\n",
       "      <td>3</td>\n",
       "      <td>0.012931</td>\n",
       "      <td>0.695875</td>\n",
       "      <td>0</td>\n",
       "    </tr>\n",
       "    <tr>\n",
       "      <th>1</th>\n",
       "      <td>1902303</td>\n",
       "      <td>1</td>\n",
       "      <td>49.236</td>\n",
       "      <td>-14.742</td>\n",
       "      <td>2021-05-06 02:03:16</td>\n",
       "      <td>2.167505</td>\n",
       "      <td>0.370203</td>\n",
       "      <td>12.610</td>\n",
       "      <td>0.000306</td>\n",
       "      <td>27.891998</td>\n",
       "      <td>0.0357</td>\n",
       "      <td>4</td>\n",
       "      <td>0.017241</td>\n",
       "      <td>0.695875</td>\n",
       "      <td>0</td>\n",
       "    </tr>\n",
       "    <tr>\n",
       "      <th>2</th>\n",
       "      <td>1902303</td>\n",
       "      <td>1</td>\n",
       "      <td>49.236</td>\n",
       "      <td>-14.742</td>\n",
       "      <td>2021-05-06 02:03:16</td>\n",
       "      <td>2.167505</td>\n",
       "      <td>0.370203</td>\n",
       "      <td>12.610</td>\n",
       "      <td>0.000306</td>\n",
       "      <td>27.891998</td>\n",
       "      <td>0.0357</td>\n",
       "      <td>6</td>\n",
       "      <td>0.025862</td>\n",
       "      <td>0.696499</td>\n",
       "      <td>0</td>\n",
       "    </tr>\n",
       "    <tr>\n",
       "      <th>3</th>\n",
       "      <td>1902303</td>\n",
       "      <td>1</td>\n",
       "      <td>49.236</td>\n",
       "      <td>-14.742</td>\n",
       "      <td>2021-05-06 02:03:16</td>\n",
       "      <td>2.167505</td>\n",
       "      <td>0.370203</td>\n",
       "      <td>12.610</td>\n",
       "      <td>0.000306</td>\n",
       "      <td>27.891998</td>\n",
       "      <td>0.0357</td>\n",
       "      <td>8</td>\n",
       "      <td>0.034483</td>\n",
       "      <td>0.716489</td>\n",
       "      <td>0</td>\n",
       "    </tr>\n",
       "    <tr>\n",
       "      <th>4</th>\n",
       "      <td>1902303</td>\n",
       "      <td>1</td>\n",
       "      <td>49.236</td>\n",
       "      <td>-14.742</td>\n",
       "      <td>2021-05-06 02:03:16</td>\n",
       "      <td>2.167505</td>\n",
       "      <td>0.370203</td>\n",
       "      <td>12.610</td>\n",
       "      <td>0.000306</td>\n",
       "      <td>27.891998</td>\n",
       "      <td>0.0357</td>\n",
       "      <td>10</td>\n",
       "      <td>0.043103</td>\n",
       "      <td>0.715552</td>\n",
       "      <td>0</td>\n",
       "    </tr>\n",
       "    <tr>\n",
       "      <th>...</th>\n",
       "      <td>...</td>\n",
       "      <td>...</td>\n",
       "      <td>...</td>\n",
       "      <td>...</td>\n",
       "      <td>...</td>\n",
       "      <td>...</td>\n",
       "      <td>...</td>\n",
       "      <td>...</td>\n",
       "      <td>...</td>\n",
       "      <td>...</td>\n",
       "      <td>...</td>\n",
       "      <td>...</td>\n",
       "      <td>...</td>\n",
       "      <td>...</td>\n",
       "      <td>...</td>\n",
       "    </tr>\n",
       "    <tr>\n",
       "      <th>6590277</th>\n",
       "      <td>7901001</td>\n",
       "      <td>28</td>\n",
       "      <td>17.330</td>\n",
       "      <td>-23.271</td>\n",
       "      <td>2022-05-23 11:34:00</td>\n",
       "      <td>2.459947</td>\n",
       "      <td>0.117684</td>\n",
       "      <td>23.705</td>\n",
       "      <td>0.000142</td>\n",
       "      <td>59.995998</td>\n",
       "      <td>0.0122</td>\n",
       "      <td>156</td>\n",
       "      <td>0.975000</td>\n",
       "      <td>0.013557</td>\n",
       "      <td>1</td>\n",
       "    </tr>\n",
       "    <tr>\n",
       "      <th>6590278</th>\n",
       "      <td>7901001</td>\n",
       "      <td>28</td>\n",
       "      <td>17.330</td>\n",
       "      <td>-23.271</td>\n",
       "      <td>2022-05-23 11:34:00</td>\n",
       "      <td>2.459947</td>\n",
       "      <td>0.117684</td>\n",
       "      <td>23.705</td>\n",
       "      <td>0.000142</td>\n",
       "      <td>59.995998</td>\n",
       "      <td>0.0122</td>\n",
       "      <td>157</td>\n",
       "      <td>0.981250</td>\n",
       "      <td>0.012949</td>\n",
       "      <td>1</td>\n",
       "    </tr>\n",
       "    <tr>\n",
       "      <th>6590279</th>\n",
       "      <td>7901001</td>\n",
       "      <td>28</td>\n",
       "      <td>17.330</td>\n",
       "      <td>-23.271</td>\n",
       "      <td>2022-05-23 11:34:00</td>\n",
       "      <td>2.459947</td>\n",
       "      <td>0.117684</td>\n",
       "      <td>23.705</td>\n",
       "      <td>0.000142</td>\n",
       "      <td>59.995998</td>\n",
       "      <td>0.0122</td>\n",
       "      <td>158</td>\n",
       "      <td>0.987500</td>\n",
       "      <td>0.012340</td>\n",
       "      <td>1</td>\n",
       "    </tr>\n",
       "    <tr>\n",
       "      <th>6590280</th>\n",
       "      <td>7901001</td>\n",
       "      <td>28</td>\n",
       "      <td>17.330</td>\n",
       "      <td>-23.271</td>\n",
       "      <td>2022-05-23 11:34:00</td>\n",
       "      <td>2.459947</td>\n",
       "      <td>0.117684</td>\n",
       "      <td>23.705</td>\n",
       "      <td>0.000142</td>\n",
       "      <td>59.995998</td>\n",
       "      <td>0.0122</td>\n",
       "      <td>159</td>\n",
       "      <td>0.993750</td>\n",
       "      <td>0.011124</td>\n",
       "      <td>1</td>\n",
       "    </tr>\n",
       "    <tr>\n",
       "      <th>6590281</th>\n",
       "      <td>7901001</td>\n",
       "      <td>28</td>\n",
       "      <td>17.330</td>\n",
       "      <td>-23.271</td>\n",
       "      <td>2022-05-23 11:34:00</td>\n",
       "      <td>2.459947</td>\n",
       "      <td>0.117684</td>\n",
       "      <td>23.705</td>\n",
       "      <td>0.000142</td>\n",
       "      <td>59.995998</td>\n",
       "      <td>0.0122</td>\n",
       "      <td>160</td>\n",
       "      <td>1.000000</td>\n",
       "      <td>0.010950</td>\n",
       "      <td>1</td>\n",
       "    </tr>\n",
       "  </tbody>\n",
       "</table>\n",
       "<p>6590282 rows × 15 columns</p>\n",
       "</div>"
      ],
      "text/plain": [
       "           float  cycle  latitude  longitude                date  \\\n",
       "0        1902303      1    49.236    -14.742 2021-05-06 02:03:16   \n",
       "1        1902303      1    49.236    -14.742 2021-05-06 02:03:16   \n",
       "2        1902303      1    49.236    -14.742 2021-05-06 02:03:16   \n",
       "3        1902303      1    49.236    -14.742 2021-05-06 02:03:16   \n",
       "4        1902303      1    49.236    -14.742 2021-05-06 02:03:16   \n",
       "...          ...    ...       ...        ...                 ...   \n",
       "6590277  7901001     28    17.330    -23.271 2022-05-23 11:34:00   \n",
       "6590278  7901001     28    17.330    -23.271 2022-05-23 11:34:00   \n",
       "6590279  7901001     28    17.330    -23.271 2022-05-23 11:34:00   \n",
       "6590280  7901001     28    17.330    -23.271 2022-05-23 11:34:00   \n",
       "6590281  7901001     28    17.330    -23.271 2022-05-23 11:34:00   \n",
       "\n",
       "         day_of_year_rad   sat_chl  sat_sst   sat_pic    sat_par  sat_aph_443  \\\n",
       "0               2.167505  0.370203   12.610  0.000306  27.891998       0.0357   \n",
       "1               2.167505  0.370203   12.610  0.000306  27.891998       0.0357   \n",
       "2               2.167505  0.370203   12.610  0.000306  27.891998       0.0357   \n",
       "3               2.167505  0.370203   12.610  0.000306  27.891998       0.0357   \n",
       "4               2.167505  0.370203   12.610  0.000306  27.891998       0.0357   \n",
       "...                  ...       ...      ...       ...        ...          ...   \n",
       "6590277         2.459947  0.117684   23.705  0.000142  59.995998       0.0122   \n",
       "6590278         2.459947  0.117684   23.705  0.000142  59.995998       0.0122   \n",
       "6590279         2.459947  0.117684   23.705  0.000142  59.995998       0.0122   \n",
       "6590280         2.459947  0.117684   23.705  0.000142  59.995998       0.0122   \n",
       "6590281         2.459947  0.117684   23.705  0.000142  59.995998       0.0122   \n",
       "\n",
       "         PRES  normalized_depth      CHLA  train  \n",
       "0           3          0.012931  0.695875      0  \n",
       "1           4          0.017241  0.695875      0  \n",
       "2           6          0.025862  0.696499      0  \n",
       "3           8          0.034483  0.716489      0  \n",
       "4          10          0.043103  0.715552      0  \n",
       "...       ...               ...       ...    ...  \n",
       "6590277   156          0.975000  0.013557      1  \n",
       "6590278   157          0.981250  0.012949      1  \n",
       "6590279   158          0.987500  0.012340      1  \n",
       "6590280   159          0.993750  0.011124      1  \n",
       "6590281   160          1.000000  0.010950      1  \n",
       "\n",
       "[6590282 rows x 15 columns]"
      ]
     },
     "execution_count": 12,
     "metadata": {},
     "output_type": "execute_result"
    }
   ],
   "source": [
    "# notice that different floats may be mentioned in each dataframes\n",
    "print(f'Number of floats in features df: {len(np.unique(df[\"float\"]))}')\n",
    "print(f'Number of floats in train-test-split df: {len(np.unique(train_test_split_df[\"float\"]))}')\n",
    "\n",
    "# merge the two dataframes\n",
    "df_with_label = df.merge(right=train_test_split_df, how='inner', on=['float', 'cycle'], copy=False)\n",
    "print(f'\\nNumber of floats in merged df: {len(np.unique(df_with_label[\"float\"]))}')\n",
    "\n",
    "print(f'\\nShape: {df_with_label.shape}')\n",
    "df_with_label\n"
   ]
  },
  {
   "cell_type": "code",
   "execution_count": 13,
   "id": "6a69f66f",
   "metadata": {},
   "outputs": [
    {
     "data": {
      "text/plain": [
       "True"
      ]
     },
     "execution_count": 13,
     "metadata": {},
     "output_type": "execute_result"
    }
   ],
   "source": [
    "# ensure the rows of the dataframe are unique, including between train and test\n",
    "df_with_label.shape[0] == df_with_label.drop(columns='train').drop_duplicates().shape[0]\n"
   ]
  },
  {
   "cell_type": "code",
   "execution_count": 14,
   "id": "35aa9904",
   "metadata": {},
   "outputs": [
    {
     "name": "stdout",
     "output_type": "stream",
     "text": [
      "Number of train observations: 5303476\n",
      "Number of test observations: 1286806\n",
      "\n",
      "Number of unique train float-cycles: 36830\n",
      "Number of unique test float-cycles: 8953\n",
      "Number of float-cycle pairs in both train and test sets: 0\n"
     ]
    }
   ],
   "source": [
    "# obtain train and test dataframes\n",
    "train_df = df_with_label[df_with_label['train']==1].reset_index(drop=True).drop(columns='train')\n",
    "test_df = df_with_label[df_with_label['train']==0].reset_index(drop=True).drop(columns='train')\n",
    "\n",
    "print(f'Number of train observations: {train_df.shape[0]}')\n",
    "print(f'Number of test observations: {test_df.shape[0]}')\n",
    "\n",
    "# ensure that the train and test float cycles are distinct\n",
    "train_float_cycles = np.unique([f'{f}_{c}' for f,c in zip(list(train_df['float']), list(train_df['cycle']))])\n",
    "test_float_cycles = np.unique([f'{f}_{c}' for f,c in zip(list(test_df['float']), list(test_df['cycle']))])\n",
    "print(f'\\nNumber of unique train float-cycles: {len(np.unique(train_float_cycles))}')\n",
    "print(f'Number of unique test float-cycles: {len(np.unique(test_float_cycles))}')\n",
    "print(f'Number of float-cycle pairs in both train and test sets: {len(np.intersect1d(train_float_cycles, test_float_cycles))}')\n"
   ]
  },
  {
   "cell_type": "markdown",
   "id": "94b57aa3",
   "metadata": {},
   "source": [
    "## Define functions"
   ]
  },
  {
   "cell_type": "code",
   "execution_count": 15,
   "id": "a53ddce7",
   "metadata": {},
   "outputs": [],
   "source": [
    "# function to join CHLA data onto satellite information based on lat, long, and date\n",
    "def get_data_by_depth(group_df, features, depth_bin):\n",
    "    group_data_df = group_df[group_df['depth_bin'] == depth_bin]\n",
    "    if 'normalized_depth' in group_data_df.columns:\n",
    "        id_df = group_data_df[['depth_bin', 'float', 'cycle', 'date', 'PRES', 'normalized_depth', 'CHLA']].rename(columns={'CHLA': 'true_CHLA'})\n",
    "    else:\n",
    "        id_df = group_data_df[['depth_bin', 'float', 'cycle', 'date', 'PRES', 'CHLA']].rename(columns={'CHLA': 'true_CHLA'})\n",
    "    \n",
    "    group_data_df = group_data_df[features]\n",
    "    \n",
    "    return group_data_df, id_df\n"
   ]
  },
  {
   "cell_type": "code",
   "execution_count": 16,
   "id": "6bbcb414",
   "metadata": {},
   "outputs": [],
   "source": [
    "def standardize(train_data_df, test_data_df, return_scaler=False):\n",
    "    X_train = train_data_df.drop(columns='CHLA')\n",
    "    y_train = train_data_df['CHLA']\n",
    "    X_test = test_data_df.drop(columns='CHLA')\n",
    "    y_test = test_data_df['CHLA']\n",
    "\n",
    "    # perform (training) mean inputation for missing values by column\n",
    "    for c in X_train.columns:\n",
    "        c_train_mean = np.mean(X_train[c])\n",
    "        X_train[c].fillna(value=c_train_mean, inplace=True)\n",
    "        X_test[c].fillna(value=c_train_mean, inplace=True)\n",
    "      \n",
    "    ss = StandardScaler()\n",
    "    X_train[X_train.columns] = ss.fit_transform(X_train[X_train.columns])\n",
    "    X_test[X_test.columns] = ss.transform(X_test[X_test.columns])\n",
    "    \n",
    "    if return_scaler:\n",
    "        return X_train, X_test, y_train, y_test, ss\n",
    "    return X_train, X_test, y_train, y_test\n",
    "          "
   ]
  },
  {
   "cell_type": "code",
   "execution_count": 17,
   "id": "1bbb1c38",
   "metadata": {},
   "outputs": [],
   "source": [
    "# function to fit model on training and testing data\n",
    "# returns predictions on train and test data\n",
    "def fit_predict(model, X_train, y_train, X_test, y_test):\n",
    "    model.fit(X_train, y_train)\n",
    "    train_preds = model.predict(X_train)\n",
    "    test_preds = model.predict(X_test)\n",
    "    \n",
    "    return train_preds, test_preds\n",
    "    "
   ]
  },
  {
   "cell_type": "code",
   "execution_count": 18,
   "id": "6ceb3104",
   "metadata": {},
   "outputs": [],
   "source": [
    "# display the results of the regression as scatter plots: predicted value vs. target\n",
    "def plot(depth_idx, bins, y_train, train_preds, y_test, test_preds, normalized=False, plt_n_cols=5, single_plot=False):  \n",
    "    if not single_plot:\n",
    "        plt.subplot((len(bins)//plt_n_cols)+1,plt_n_cols,depth_idx+1)\n",
    "    plt.scatter(y_train, train_preds, label=f'train (r2 = {r2_score(y_train, train_preds):.2f})', alpha=0.7)\n",
    "    plt.scatter(y_test, test_preds, label=f'test (r2 = {r2_score(y_test, test_preds):.2f})', alpha=0.7)\n",
    "    if normalized:\n",
    "        plt.title(f'{int(bins[depth_idx]*100)}% to {int(bins[depth_idx+1]*100)}%', fontsize='x-large')\n",
    "    else:\n",
    "        plt.title(f'{bins[depth_idx]}m to {bins[depth_idx+1]}m', fontsize='x-large')\n",
    "    plt.xlabel('true CHLA')\n",
    "    plt.ylabel('predicted CHLA')\n",
    "    plt.legend(loc='lower right')\n",
    "    "
   ]
  },
  {
   "attachments": {},
   "cell_type": "markdown",
   "id": "3f1cc104",
   "metadata": {},
   "source": [
    "## Neural Net Regressor regressor at varying depths"
   ]
  },
  {
   "cell_type": "code",
   "execution_count": 19,
   "id": "c5b2ff21",
   "metadata": {},
   "outputs": [],
   "source": [
    "# define depth bins\n",
    "interval = 0.1\n",
    "bins = np.arange(0, 1+interval, interval)\n",
    "bins\n",
    "depth_bins = pd.cut(df['normalized_depth'], bins=bins, right=True, labels=False, retbins=False, include_lowest=True)\n",
    "\n",
    "try:\n",
    "    train_df = train_df.drop(columns='depth_bin')\n",
    "except:\n",
    "    pass\n",
    "train_df.insert(loc=list(train_df.columns).index('normalized_depth')+1, column='depth_bin', value=depth_bins)\n",
    "\n",
    "try:\n",
    "    test_df = test_df.drop(columns='depth_bin')\n",
    "except:\n",
    "    pass\n",
    "test_df.insert(loc=list(test_df.columns).index('normalized_depth')+1, column='depth_bin', value=depth_bins)\n"
   ]
  },
  {
   "cell_type": "code",
   "execution_count": 20,
   "id": "46a2e2ad",
   "metadata": {},
   "outputs": [],
   "source": [
    "# xgb_feature_train = train_preds\n",
    "# xgb_feature_test =  test_preds"
   ]
  },
  {
   "cell_type": "code",
   "execution_count": 21,
   "id": "d7701d4b",
   "metadata": {},
   "outputs": [],
   "source": [
    "#len(xgb_feature_train)"
   ]
  },
  {
   "cell_type": "code",
   "execution_count": 22,
   "id": "f035fa9a",
   "metadata": {},
   "outputs": [],
   "source": [
    "#train_data_df.shape"
   ]
  },
  {
   "cell_type": "code",
   "execution_count": 31,
   "id": "9ab6d8ee",
   "metadata": {},
   "outputs": [],
   "source": [
    "# function to fit model on training and testing data\n",
    "# returns predictions on train and test data\n",
    "def fit_predict(model, X_train, y_train, X_test, y_test, xgb_train, xgb_test):\n",
    "    X_train['xgb'] = xgb_train\n",
    "    X_test['xgb'] = xgb_test\n",
    "    model.fit(X_train, y_train, batch_size = 256, epochs = 12, verbose=1)\n",
    "    train_preds = model.predict(X_train)\n",
    "    test_preds = model.predict(X_test)\n",
    "    \n",
    "    return train_preds, test_preds\n",
    "    "
   ]
  },
  {
   "cell_type": "code",
   "execution_count": 32,
   "id": "3c63b21f",
   "metadata": {},
   "outputs": [],
   "source": [
    "# function to fit model on training and testing data\n",
    "# returns predictions on train and test data\n",
    "def fit_predict_xgbr(model, X_train, y_train, X_test, y_test):\n",
    "    model.fit(X_train, y_train)\n",
    "    train_preds = model.predict(X_train)\n",
    "    test_preds = model.predict(X_test)\n",
    "    \n",
    "    return train_preds, test_preds"
   ]
  },
  {
   "cell_type": "code",
   "execution_count": 33,
   "id": "c5a476f0",
   "metadata": {},
   "outputs": [],
   "source": [
    "def createNueralNetwork():\n",
    "    # create ANN model\n",
    "    model = Sequential()\n",
    "\n",
    "    # Defining the Input layer and FIRST hidden layer, both are same!\n",
    "    model.add(Dense(units=10, input_dim=10, kernel_initializer='normal', activation='relu'))\n",
    "\n",
    "    model.add(Dropout(0.2))\n",
    "    # Defining the Second layer of the model\n",
    "    # after the first layer we don't have to specify input_dim as keras configure it automatically\n",
    "    model.add(Dense(units=20, kernel_initializer='normal', activation='relu'))\n",
    "\n",
    "    model.add(Dropout(0.2))\n",
    "    # The output neuron is a single fully connected node \n",
    "    # Since we will be predicting a single number\n",
    "    model.add(Dense(1, kernel_initializer='normal'))\n",
    "\n",
    "    # Compiling the model\n",
    "    model.compile(loss='mean_squared_error', optimizer='adam')\n",
    "    return model"
   ]
  },
  {
   "cell_type": "code",
   "execution_count": 34,
   "id": "ae295207",
   "metadata": {},
   "outputs": [],
   "source": [
    "# initialize dataframes to store results and predictions\n",
    "results_df = pd.DataFrame(columns=['depth_bin', 'depth_interval', 'num_observations', 'train_mse', 'train_r2', 'test_mse', 'test_r2'])\n",
    "train_predictions_df = pd.DataFrame(columns=['depth_bin', 'depth_interval', 'float', 'cycle', 'date', 'PRES', 'normalized_depth', 'true_CHLA', 'pred_CHLA'])\n",
    "test_predictions_df = pd.DataFrame(columns=['depth_bin', 'depth_interval', 'float', 'cycle', 'date', 'PRES', 'normalized_depth', 'true_CHLA', 'pred_CHLA'])\n",
    "\n",
    "train_features = ['latitude', 'longitude', 'day_of_year_rad', 'sat_chl', 'sat_sst', 'sat_pic', 'sat_par', 'sat_aph_443', 'PRES', 'CHLA']\n",
    "# train_features = ['latitude', 'longitude', 'day_of_year_rad', 'PRES', 'CHLA']\n"
   ]
  },
  {
   "cell_type": "code",
   "execution_count": 35,
   "id": "5efb5941",
   "metadata": {},
   "outputs": [],
   "source": [
    "# X_train['xgb'] = xgb_feature_train\n",
    "# X_test['xgb'] = xgb_feature_test"
   ]
  },
  {
   "cell_type": "code",
   "execution_count": null,
   "id": "f8739c25",
   "metadata": {},
   "outputs": [],
   "source": []
  },
  {
   "cell_type": "code",
   "execution_count": 36,
   "id": "b68acc85",
   "metadata": {},
   "outputs": [
    {
     "name": "stdout",
     "output_type": "stream",
     "text": [
      "DEPTH 0: 0% to 10% of the euphotic zone\n",
      "(515718, 10)\n",
      "(134231, 10)\n",
      "(515718, 9)\n",
      "(134231, 9)\n",
      "\tNum train samples: 515718  |  Num test samples: 134231\n",
      "Epoch 1/12\n",
      "   9/2015 [..............................] - ETA: 13s - loss: 0.2261 "
     ]
    },
    {
     "name": "stderr",
     "output_type": "stream",
     "text": [
      "2022-11-30 13:46:14.257355: I tensorflow/core/grappler/optimizers/custom_graph_optimizer_registry.cc:112] Plugin optimizer for device_type GPU is enabled.\n"
     ]
    },
    {
     "name": "stdout",
     "output_type": "stream",
     "text": [
      "2015/2015 [==============================] - 13s 6ms/step - loss: 0.0322\n",
      "Epoch 2/12\n",
      "2015/2015 [==============================] - 12s 6ms/step - loss: 0.0154\n",
      "Epoch 3/12\n",
      "2015/2015 [==============================] - 12s 6ms/step - loss: 0.0135\n",
      "Epoch 4/12\n",
      "2015/2015 [==============================] - 11s 6ms/step - loss: 0.0117\n",
      "Epoch 5/12\n",
      "2015/2015 [==============================] - 12s 6ms/step - loss: 0.0109\n",
      "Epoch 6/12\n",
      "2015/2015 [==============================] - 12s 6ms/step - loss: 0.0103\n",
      "Epoch 7/12\n",
      "2015/2015 [==============================] - 14s 7ms/step - loss: 0.0100\n",
      "Epoch 8/12\n",
      "2015/2015 [==============================] - 13s 7ms/step - loss: 0.0098\n",
      "Epoch 9/12\n",
      "2015/2015 [==============================] - 12s 6ms/step - loss: 0.0094\n",
      "Epoch 10/12\n",
      "2015/2015 [==============================] - 12s 6ms/step - loss: 0.0093\n",
      "Epoch 11/12\n",
      "2015/2015 [==============================] - 13s 6ms/step - loss: 0.0091\n",
      "Epoch 12/12\n",
      "2015/2015 [==============================] - 12s 6ms/step - loss: 0.0089\n"
     ]
    },
    {
     "name": "stderr",
     "output_type": "stream",
     "text": [
      "2022-11-30 13:48:44.008506: I tensorflow/core/grappler/optimizers/custom_graph_optimizer_registry.cc:112] Plugin optimizer for device_type GPU is enabled.\n"
     ]
    },
    {
     "name": "stdout",
     "output_type": "stream",
     "text": [
      "\tTrain MSE: 0.0194  |  Train r2: 0.9028\n",
      "\tTest MSE: 0.0720   |  Test r2: 0.5842\n",
      "INFO:tensorflow:Assets written to: ram://34e76c12-41b3-4d14-a518-bd33f4c52824/assets\n"
     ]
    },
    {
     "name": "stderr",
     "output_type": "stream",
     "text": [
      "2022-11-30 13:49:26.124455: W tensorflow/python/util/util.cc:368] Sets are not currently considered sequences, but this may change in the future, so consider avoiding using them.\n"
     ]
    },
    {
     "name": "stdout",
     "output_type": "stream",
     "text": [
      "\n",
      "DEPTH 1: 10% to 20% of the euphotic zone\n",
      "(544309, 10)\n",
      "(129610, 10)\n",
      "(544309, 9)\n",
      "(129610, 9)\n",
      "\tNum train samples: 544309  |  Num test samples: 129610\n",
      "Epoch 1/12\n",
      "   1/2127 [..............................] - ETA: 9:32 - loss: 0.2489"
     ]
    },
    {
     "name": "stderr",
     "output_type": "stream",
     "text": [
      "2022-11-30 13:49:38.027676: I tensorflow/core/grappler/optimizers/custom_graph_optimizer_registry.cc:112] Plugin optimizer for device_type GPU is enabled.\n"
     ]
    },
    {
     "name": "stdout",
     "output_type": "stream",
     "text": [
      "2127/2127 [==============================] - 14s 6ms/step - loss: 0.0337\n",
      "Epoch 2/12\n",
      "2127/2127 [==============================] - 14s 7ms/step - loss: 0.0163\n",
      "Epoch 3/12\n",
      "2127/2127 [==============================] - 13s 6ms/step - loss: 0.0161\n",
      "Epoch 4/12\n",
      "2127/2127 [==============================] - 13s 6ms/step - loss: 0.0155\n",
      "Epoch 5/12\n",
      "2127/2127 [==============================] - 13s 6ms/step - loss: 0.0145\n",
      "Epoch 6/12\n",
      "2127/2127 [==============================] - 13s 6ms/step - loss: 0.0133\n",
      "Epoch 7/12\n",
      "2127/2127 [==============================] - 12s 6ms/step - loss: 0.0117\n",
      "Epoch 8/12\n",
      "2127/2127 [==============================] - 13s 6ms/step - loss: 0.0109\n",
      "Epoch 9/12\n",
      "2127/2127 [==============================] - 12s 6ms/step - loss: 0.0106\n",
      "Epoch 10/12\n",
      "2127/2127 [==============================] - 13s 6ms/step - loss: 0.0099\n",
      "Epoch 11/12\n",
      "2127/2127 [==============================] - 12s 5ms/step - loss: 0.0100\n",
      "Epoch 12/12\n",
      "2127/2127 [==============================] - 12s 6ms/step - loss: 0.0100\n"
     ]
    },
    {
     "name": "stderr",
     "output_type": "stream",
     "text": [
      "2022-11-30 13:52:12.262323: I tensorflow/core/grappler/optimizers/custom_graph_optimizer_registry.cc:112] Plugin optimizer for device_type GPU is enabled.\n"
     ]
    },
    {
     "name": "stdout",
     "output_type": "stream",
     "text": [
      "\tTrain MSE: 0.0151  |  Train r2: 0.9297\n",
      "\tTest MSE: 0.0827   |  Test r2: 0.5928\n",
      "INFO:tensorflow:Assets written to: ram://c903240d-6496-4cae-8997-fb04f555e1f5/assets\n",
      "\n",
      "DEPTH 2: 20% to 30% of the euphotic zone\n",
      "(540137, 10)\n",
      "(128754, 10)\n",
      "(540137, 9)\n",
      "(128754, 9)\n",
      "\tNum train samples: 540137  |  Num test samples: 128754\n",
      "Epoch 1/12\n",
      "   9/2110 [..............................] - ETA: 14s - loss: 0.2562 "
     ]
    },
    {
     "name": "stderr",
     "output_type": "stream",
     "text": [
      "2022-11-30 13:53:00.874878: I tensorflow/core/grappler/optimizers/custom_graph_optimizer_registry.cc:112] Plugin optimizer for device_type GPU is enabled.\n"
     ]
    },
    {
     "name": "stdout",
     "output_type": "stream",
     "text": [
      "2110/2110 [==============================] - 12s 6ms/step - loss: 0.0294\n",
      "Epoch 2/12\n",
      "2110/2110 [==============================] - 13s 6ms/step - loss: 0.0146\n",
      "Epoch 3/12\n",
      "2110/2110 [==============================] - 12s 6ms/step - loss: 0.0135\n",
      "Epoch 4/12\n",
      "2110/2110 [==============================] - 12s 6ms/step - loss: 0.0114\n",
      "Epoch 5/12\n",
      "2110/2110 [==============================] - 13s 6ms/step - loss: 0.0102\n",
      "Epoch 6/12\n",
      "2110/2110 [==============================] - 13s 6ms/step - loss: 0.0096\n",
      "Epoch 7/12\n",
      "2110/2110 [==============================] - 14s 7ms/step - loss: 0.0090\n",
      "Epoch 8/12\n",
      "1322/2110 [=================>............] - ETA: 4s - loss: 0.0086"
     ]
    },
    {
     "ename": "KeyboardInterrupt",
     "evalue": "",
     "output_type": "error",
     "traceback": [
      "\u001b[0;31m---------------------------------------------------------------------------\u001b[0m",
      "\u001b[0;31mKeyboardInterrupt\u001b[0m                         Traceback (most recent call last)",
      "\u001b[0;32m/var/folders/2s/dqvyr8r92_v2nfvgky0vvxbc0000gn/T/ipykernel_77627/3933603502.py\u001b[0m in \u001b[0;36m<module>\u001b[0;34m\u001b[0m\n\u001b[1;32m     34\u001b[0m     \u001b[0;31m# train, predict, and get scores for XGBoosting regressor\u001b[0m\u001b[0;34m\u001b[0m\u001b[0;34m\u001b[0m\u001b[0;34m\u001b[0m\u001b[0m\n\u001b[1;32m     35\u001b[0m     \u001b[0mnnr\u001b[0m \u001b[0;34m=\u001b[0m \u001b[0mcreateNueralNetwork\u001b[0m\u001b[0;34m(\u001b[0m\u001b[0;34m)\u001b[0m \u001b[0;31m#XGBRegressor(n_estimators=20, max_depth=12, colsample_bytree=0.8)     # grow_policy = 'depthwise' or 'lossguide'\u001b[0m\u001b[0;34m\u001b[0m\u001b[0;34m\u001b[0m\u001b[0m\n\u001b[0;32m---> 36\u001b[0;31m     \u001b[0mtrain_preds\u001b[0m\u001b[0;34m,\u001b[0m \u001b[0mtest_preds\u001b[0m \u001b[0;34m=\u001b[0m \u001b[0mfit_predict\u001b[0m\u001b[0;34m(\u001b[0m\u001b[0mnnr\u001b[0m\u001b[0;34m,\u001b[0m \u001b[0mX_train\u001b[0m\u001b[0;34m,\u001b[0m \u001b[0my_train\u001b[0m\u001b[0;34m,\u001b[0m \u001b[0mX_test\u001b[0m\u001b[0;34m,\u001b[0m \u001b[0my_test\u001b[0m\u001b[0;34m,\u001b[0m \u001b[0mxgb_feature_train\u001b[0m\u001b[0;34m,\u001b[0m \u001b[0mxgb_feature_test\u001b[0m\u001b[0;34m)\u001b[0m\u001b[0;34m\u001b[0m\u001b[0;34m\u001b[0m\u001b[0m\n\u001b[0m\u001b[1;32m     37\u001b[0m \u001b[0;34m\u001b[0m\u001b[0m\n\u001b[1;32m     38\u001b[0m     \u001b[0;32mif\u001b[0m \u001b[0mverbose\u001b[0m \u001b[0;34m>\u001b[0m \u001b[0;36m0\u001b[0m\u001b[0;34m:\u001b[0m\u001b[0;34m\u001b[0m\u001b[0;34m\u001b[0m\u001b[0m\n",
      "\u001b[0;32m/var/folders/2s/dqvyr8r92_v2nfvgky0vvxbc0000gn/T/ipykernel_77627/3957849619.py\u001b[0m in \u001b[0;36mfit_predict\u001b[0;34m(model, X_train, y_train, X_test, y_test, xgb_train, xgb_test)\u001b[0m\n\u001b[1;32m      4\u001b[0m     \u001b[0mX_train\u001b[0m\u001b[0;34m[\u001b[0m\u001b[0;34m'xgb'\u001b[0m\u001b[0;34m]\u001b[0m \u001b[0;34m=\u001b[0m \u001b[0mxgb_train\u001b[0m\u001b[0;34m\u001b[0m\u001b[0;34m\u001b[0m\u001b[0m\n\u001b[1;32m      5\u001b[0m     \u001b[0mX_test\u001b[0m\u001b[0;34m[\u001b[0m\u001b[0;34m'xgb'\u001b[0m\u001b[0;34m]\u001b[0m \u001b[0;34m=\u001b[0m \u001b[0mxgb_test\u001b[0m\u001b[0;34m\u001b[0m\u001b[0;34m\u001b[0m\u001b[0m\n\u001b[0;32m----> 6\u001b[0;31m     \u001b[0mmodel\u001b[0m\u001b[0;34m.\u001b[0m\u001b[0mfit\u001b[0m\u001b[0;34m(\u001b[0m\u001b[0mX_train\u001b[0m\u001b[0;34m,\u001b[0m \u001b[0my_train\u001b[0m\u001b[0;34m,\u001b[0m \u001b[0mbatch_size\u001b[0m \u001b[0;34m=\u001b[0m \u001b[0;36m256\u001b[0m\u001b[0;34m,\u001b[0m \u001b[0mepochs\u001b[0m \u001b[0;34m=\u001b[0m \u001b[0;36m12\u001b[0m\u001b[0;34m,\u001b[0m \u001b[0mverbose\u001b[0m\u001b[0;34m=\u001b[0m\u001b[0;36m1\u001b[0m\u001b[0;34m)\u001b[0m\u001b[0;34m\u001b[0m\u001b[0;34m\u001b[0m\u001b[0m\n\u001b[0m\u001b[1;32m      7\u001b[0m     \u001b[0mtrain_preds\u001b[0m \u001b[0;34m=\u001b[0m \u001b[0mmodel\u001b[0m\u001b[0;34m.\u001b[0m\u001b[0mpredict\u001b[0m\u001b[0;34m(\u001b[0m\u001b[0mX_train\u001b[0m\u001b[0;34m)\u001b[0m\u001b[0;34m\u001b[0m\u001b[0;34m\u001b[0m\u001b[0m\n\u001b[1;32m      8\u001b[0m     \u001b[0mtest_preds\u001b[0m \u001b[0;34m=\u001b[0m \u001b[0mmodel\u001b[0m\u001b[0;34m.\u001b[0m\u001b[0mpredict\u001b[0m\u001b[0;34m(\u001b[0m\u001b[0mX_test\u001b[0m\u001b[0;34m)\u001b[0m\u001b[0;34m\u001b[0m\u001b[0;34m\u001b[0m\u001b[0m\n",
      "\u001b[0;32m~/miniforge3/envs/mlp/lib/python3.9/site-packages/keras/utils/traceback_utils.py\u001b[0m in \u001b[0;36merror_handler\u001b[0;34m(*args, **kwargs)\u001b[0m\n\u001b[1;32m     62\u001b[0m     \u001b[0mfiltered_tb\u001b[0m \u001b[0;34m=\u001b[0m \u001b[0;32mNone\u001b[0m\u001b[0;34m\u001b[0m\u001b[0;34m\u001b[0m\u001b[0m\n\u001b[1;32m     63\u001b[0m     \u001b[0;32mtry\u001b[0m\u001b[0;34m:\u001b[0m\u001b[0;34m\u001b[0m\u001b[0;34m\u001b[0m\u001b[0m\n\u001b[0;32m---> 64\u001b[0;31m       \u001b[0;32mreturn\u001b[0m \u001b[0mfn\u001b[0m\u001b[0;34m(\u001b[0m\u001b[0;34m*\u001b[0m\u001b[0margs\u001b[0m\u001b[0;34m,\u001b[0m \u001b[0;34m**\u001b[0m\u001b[0mkwargs\u001b[0m\u001b[0;34m)\u001b[0m\u001b[0;34m\u001b[0m\u001b[0;34m\u001b[0m\u001b[0m\n\u001b[0m\u001b[1;32m     65\u001b[0m     \u001b[0;32mexcept\u001b[0m \u001b[0mException\u001b[0m \u001b[0;32mas\u001b[0m \u001b[0me\u001b[0m\u001b[0;34m:\u001b[0m  \u001b[0;31m# pylint: disable=broad-except\u001b[0m\u001b[0;34m\u001b[0m\u001b[0;34m\u001b[0m\u001b[0m\n\u001b[1;32m     66\u001b[0m       \u001b[0mfiltered_tb\u001b[0m \u001b[0;34m=\u001b[0m \u001b[0m_process_traceback_frames\u001b[0m\u001b[0;34m(\u001b[0m\u001b[0me\u001b[0m\u001b[0;34m.\u001b[0m\u001b[0m__traceback__\u001b[0m\u001b[0;34m)\u001b[0m\u001b[0;34m\u001b[0m\u001b[0;34m\u001b[0m\u001b[0m\n",
      "\u001b[0;32m~/miniforge3/envs/mlp/lib/python3.9/site-packages/keras/engine/training.py\u001b[0m in \u001b[0;36mfit\u001b[0;34m(self, x, y, batch_size, epochs, verbose, callbacks, validation_split, validation_data, shuffle, class_weight, sample_weight, initial_epoch, steps_per_epoch, validation_steps, validation_batch_size, validation_freq, max_queue_size, workers, use_multiprocessing)\u001b[0m\n\u001b[1;32m   1214\u001b[0m                 _r=1):\n\u001b[1;32m   1215\u001b[0m               \u001b[0mcallbacks\u001b[0m\u001b[0;34m.\u001b[0m\u001b[0mon_train_batch_begin\u001b[0m\u001b[0;34m(\u001b[0m\u001b[0mstep\u001b[0m\u001b[0;34m)\u001b[0m\u001b[0;34m\u001b[0m\u001b[0;34m\u001b[0m\u001b[0m\n\u001b[0;32m-> 1216\u001b[0;31m               \u001b[0mtmp_logs\u001b[0m \u001b[0;34m=\u001b[0m \u001b[0mself\u001b[0m\u001b[0;34m.\u001b[0m\u001b[0mtrain_function\u001b[0m\u001b[0;34m(\u001b[0m\u001b[0miterator\u001b[0m\u001b[0;34m)\u001b[0m\u001b[0;34m\u001b[0m\u001b[0;34m\u001b[0m\u001b[0m\n\u001b[0m\u001b[1;32m   1217\u001b[0m               \u001b[0;32mif\u001b[0m \u001b[0mdata_handler\u001b[0m\u001b[0;34m.\u001b[0m\u001b[0mshould_sync\u001b[0m\u001b[0;34m:\u001b[0m\u001b[0;34m\u001b[0m\u001b[0;34m\u001b[0m\u001b[0m\n\u001b[1;32m   1218\u001b[0m                 \u001b[0mcontext\u001b[0m\u001b[0;34m.\u001b[0m\u001b[0masync_wait\u001b[0m\u001b[0;34m(\u001b[0m\u001b[0;34m)\u001b[0m\u001b[0;34m\u001b[0m\u001b[0;34m\u001b[0m\u001b[0m\n",
      "\u001b[0;32m~/miniforge3/envs/mlp/lib/python3.9/site-packages/tensorflow/python/util/traceback_utils.py\u001b[0m in \u001b[0;36merror_handler\u001b[0;34m(*args, **kwargs)\u001b[0m\n\u001b[1;32m    148\u001b[0m     \u001b[0mfiltered_tb\u001b[0m \u001b[0;34m=\u001b[0m \u001b[0;32mNone\u001b[0m\u001b[0;34m\u001b[0m\u001b[0;34m\u001b[0m\u001b[0m\n\u001b[1;32m    149\u001b[0m     \u001b[0;32mtry\u001b[0m\u001b[0;34m:\u001b[0m\u001b[0;34m\u001b[0m\u001b[0;34m\u001b[0m\u001b[0m\n\u001b[0;32m--> 150\u001b[0;31m       \u001b[0;32mreturn\u001b[0m \u001b[0mfn\u001b[0m\u001b[0;34m(\u001b[0m\u001b[0;34m*\u001b[0m\u001b[0margs\u001b[0m\u001b[0;34m,\u001b[0m \u001b[0;34m**\u001b[0m\u001b[0mkwargs\u001b[0m\u001b[0;34m)\u001b[0m\u001b[0;34m\u001b[0m\u001b[0;34m\u001b[0m\u001b[0m\n\u001b[0m\u001b[1;32m    151\u001b[0m     \u001b[0;32mexcept\u001b[0m \u001b[0mException\u001b[0m \u001b[0;32mas\u001b[0m \u001b[0me\u001b[0m\u001b[0;34m:\u001b[0m\u001b[0;34m\u001b[0m\u001b[0;34m\u001b[0m\u001b[0m\n\u001b[1;32m    152\u001b[0m       \u001b[0mfiltered_tb\u001b[0m \u001b[0;34m=\u001b[0m \u001b[0m_process_traceback_frames\u001b[0m\u001b[0;34m(\u001b[0m\u001b[0me\u001b[0m\u001b[0;34m.\u001b[0m\u001b[0m__traceback__\u001b[0m\u001b[0;34m)\u001b[0m\u001b[0;34m\u001b[0m\u001b[0;34m\u001b[0m\u001b[0m\n",
      "\u001b[0;32m~/miniforge3/envs/mlp/lib/python3.9/site-packages/tensorflow/python/eager/def_function.py\u001b[0m in \u001b[0;36m__call__\u001b[0;34m(self, *args, **kwds)\u001b[0m\n\u001b[1;32m    908\u001b[0m \u001b[0;34m\u001b[0m\u001b[0m\n\u001b[1;32m    909\u001b[0m       \u001b[0;32mwith\u001b[0m \u001b[0mOptionalXlaContext\u001b[0m\u001b[0;34m(\u001b[0m\u001b[0mself\u001b[0m\u001b[0;34m.\u001b[0m\u001b[0m_jit_compile\u001b[0m\u001b[0;34m)\u001b[0m\u001b[0;34m:\u001b[0m\u001b[0;34m\u001b[0m\u001b[0;34m\u001b[0m\u001b[0m\n\u001b[0;32m--> 910\u001b[0;31m         \u001b[0mresult\u001b[0m \u001b[0;34m=\u001b[0m \u001b[0mself\u001b[0m\u001b[0;34m.\u001b[0m\u001b[0m_call\u001b[0m\u001b[0;34m(\u001b[0m\u001b[0;34m*\u001b[0m\u001b[0margs\u001b[0m\u001b[0;34m,\u001b[0m \u001b[0;34m**\u001b[0m\u001b[0mkwds\u001b[0m\u001b[0;34m)\u001b[0m\u001b[0;34m\u001b[0m\u001b[0;34m\u001b[0m\u001b[0m\n\u001b[0m\u001b[1;32m    911\u001b[0m \u001b[0;34m\u001b[0m\u001b[0m\n\u001b[1;32m    912\u001b[0m       \u001b[0mnew_tracing_count\u001b[0m \u001b[0;34m=\u001b[0m \u001b[0mself\u001b[0m\u001b[0;34m.\u001b[0m\u001b[0mexperimental_get_tracing_count\u001b[0m\u001b[0;34m(\u001b[0m\u001b[0;34m)\u001b[0m\u001b[0;34m\u001b[0m\u001b[0;34m\u001b[0m\u001b[0m\n",
      "\u001b[0;32m~/miniforge3/envs/mlp/lib/python3.9/site-packages/tensorflow/python/eager/def_function.py\u001b[0m in \u001b[0;36m_call\u001b[0;34m(self, *args, **kwds)\u001b[0m\n\u001b[1;32m    940\u001b[0m       \u001b[0;31m# In this case we have created variables on the first call, so we run the\u001b[0m\u001b[0;34m\u001b[0m\u001b[0;34m\u001b[0m\u001b[0;34m\u001b[0m\u001b[0m\n\u001b[1;32m    941\u001b[0m       \u001b[0;31m# defunned version which is guaranteed to never create variables.\u001b[0m\u001b[0;34m\u001b[0m\u001b[0;34m\u001b[0m\u001b[0;34m\u001b[0m\u001b[0m\n\u001b[0;32m--> 942\u001b[0;31m       \u001b[0;32mreturn\u001b[0m \u001b[0mself\u001b[0m\u001b[0;34m.\u001b[0m\u001b[0m_stateless_fn\u001b[0m\u001b[0;34m(\u001b[0m\u001b[0;34m*\u001b[0m\u001b[0margs\u001b[0m\u001b[0;34m,\u001b[0m \u001b[0;34m**\u001b[0m\u001b[0mkwds\u001b[0m\u001b[0;34m)\u001b[0m  \u001b[0;31m# pylint: disable=not-callable\u001b[0m\u001b[0;34m\u001b[0m\u001b[0;34m\u001b[0m\u001b[0m\n\u001b[0m\u001b[1;32m    943\u001b[0m     \u001b[0;32melif\u001b[0m \u001b[0mself\u001b[0m\u001b[0;34m.\u001b[0m\u001b[0m_stateful_fn\u001b[0m \u001b[0;32mis\u001b[0m \u001b[0;32mnot\u001b[0m \u001b[0;32mNone\u001b[0m\u001b[0;34m:\u001b[0m\u001b[0;34m\u001b[0m\u001b[0;34m\u001b[0m\u001b[0m\n\u001b[1;32m    944\u001b[0m       \u001b[0;31m# Release the lock early so that multiple threads can perform the call\u001b[0m\u001b[0;34m\u001b[0m\u001b[0;34m\u001b[0m\u001b[0;34m\u001b[0m\u001b[0m\n",
      "\u001b[0;32m~/miniforge3/envs/mlp/lib/python3.9/site-packages/tensorflow/python/eager/function.py\u001b[0m in \u001b[0;36m__call__\u001b[0;34m(self, *args, **kwargs)\u001b[0m\n\u001b[1;32m   3128\u001b[0m       (graph_function,\n\u001b[1;32m   3129\u001b[0m        filtered_flat_args) = self._maybe_define_function(args, kwargs)\n\u001b[0;32m-> 3130\u001b[0;31m     return graph_function._call_flat(\n\u001b[0m\u001b[1;32m   3131\u001b[0m         filtered_flat_args, captured_inputs=graph_function.captured_inputs)  # pylint: disable=protected-access\n\u001b[1;32m   3132\u001b[0m \u001b[0;34m\u001b[0m\u001b[0m\n",
      "\u001b[0;32m~/miniforge3/envs/mlp/lib/python3.9/site-packages/tensorflow/python/eager/function.py\u001b[0m in \u001b[0;36m_call_flat\u001b[0;34m(self, args, captured_inputs, cancellation_manager)\u001b[0m\n\u001b[1;32m   1957\u001b[0m         and executing_eagerly):\n\u001b[1;32m   1958\u001b[0m       \u001b[0;31m# No tape is watching; skip to running the function.\u001b[0m\u001b[0;34m\u001b[0m\u001b[0;34m\u001b[0m\u001b[0;34m\u001b[0m\u001b[0m\n\u001b[0;32m-> 1959\u001b[0;31m       return self._build_call_outputs(self._inference_function.call(\n\u001b[0m\u001b[1;32m   1960\u001b[0m           ctx, args, cancellation_manager=cancellation_manager))\n\u001b[1;32m   1961\u001b[0m     forward_backward = self._select_forward_and_backward_functions(\n",
      "\u001b[0;32m~/miniforge3/envs/mlp/lib/python3.9/site-packages/tensorflow/python/eager/function.py\u001b[0m in \u001b[0;36mcall\u001b[0;34m(self, ctx, args, cancellation_manager)\u001b[0m\n\u001b[1;32m    596\u001b[0m       \u001b[0;32mwith\u001b[0m \u001b[0m_InterpolateFunctionError\u001b[0m\u001b[0;34m(\u001b[0m\u001b[0mself\u001b[0m\u001b[0;34m)\u001b[0m\u001b[0;34m:\u001b[0m\u001b[0;34m\u001b[0m\u001b[0;34m\u001b[0m\u001b[0m\n\u001b[1;32m    597\u001b[0m         \u001b[0;32mif\u001b[0m \u001b[0mcancellation_manager\u001b[0m \u001b[0;32mis\u001b[0m \u001b[0;32mNone\u001b[0m\u001b[0;34m:\u001b[0m\u001b[0;34m\u001b[0m\u001b[0;34m\u001b[0m\u001b[0m\n\u001b[0;32m--> 598\u001b[0;31m           outputs = execute.execute(\n\u001b[0m\u001b[1;32m    599\u001b[0m               \u001b[0mstr\u001b[0m\u001b[0;34m(\u001b[0m\u001b[0mself\u001b[0m\u001b[0;34m.\u001b[0m\u001b[0msignature\u001b[0m\u001b[0;34m.\u001b[0m\u001b[0mname\u001b[0m\u001b[0;34m)\u001b[0m\u001b[0;34m,\u001b[0m\u001b[0;34m\u001b[0m\u001b[0;34m\u001b[0m\u001b[0m\n\u001b[1;32m    600\u001b[0m               \u001b[0mnum_outputs\u001b[0m\u001b[0;34m=\u001b[0m\u001b[0mself\u001b[0m\u001b[0;34m.\u001b[0m\u001b[0m_num_outputs\u001b[0m\u001b[0;34m,\u001b[0m\u001b[0;34m\u001b[0m\u001b[0;34m\u001b[0m\u001b[0m\n",
      "\u001b[0;32m~/miniforge3/envs/mlp/lib/python3.9/site-packages/tensorflow/python/eager/execute.py\u001b[0m in \u001b[0;36mquick_execute\u001b[0;34m(op_name, num_outputs, inputs, attrs, ctx, name)\u001b[0m\n\u001b[1;32m     56\u001b[0m   \u001b[0;32mtry\u001b[0m\u001b[0;34m:\u001b[0m\u001b[0;34m\u001b[0m\u001b[0;34m\u001b[0m\u001b[0m\n\u001b[1;32m     57\u001b[0m     \u001b[0mctx\u001b[0m\u001b[0;34m.\u001b[0m\u001b[0mensure_initialized\u001b[0m\u001b[0;34m(\u001b[0m\u001b[0;34m)\u001b[0m\u001b[0;34m\u001b[0m\u001b[0;34m\u001b[0m\u001b[0m\n\u001b[0;32m---> 58\u001b[0;31m     tensors = pywrap_tfe.TFE_Py_Execute(ctx._handle, device_name, op_name,\n\u001b[0m\u001b[1;32m     59\u001b[0m                                         inputs, attrs, num_outputs)\n\u001b[1;32m     60\u001b[0m   \u001b[0;32mexcept\u001b[0m \u001b[0mcore\u001b[0m\u001b[0;34m.\u001b[0m\u001b[0m_NotOkStatusException\u001b[0m \u001b[0;32mas\u001b[0m \u001b[0me\u001b[0m\u001b[0;34m:\u001b[0m\u001b[0;34m\u001b[0m\u001b[0;34m\u001b[0m\u001b[0m\n",
      "\u001b[0;31mKeyboardInterrupt\u001b[0m: "
     ]
    },
    {
     "data": {
      "image/png": "[encoded data removed]",
      "text/plain": [
       "<Figure size 1152x720 with 2 Axes>"
      ]
     },
     "metadata": {
      "needs_background": "light"
     },
     "output_type": "display_data"
    }
   ],
   "source": [
    "# fit a Mixed model that uses XGBR as a feature for the ocean at different depth bins\n",
    "verbose = 1\n",
    "plt.figure(figsize=(16,len(bins)-1))\n",
    "plt.suptitle('Predicted vs. True CHLA from Nueral Network Regressor by Depth Bin\\n\\n', fontsize='xx-large')\n",
    "model_path =  '../nueral_net_models/'\n",
    "\n",
    "for depth_idx in range(len(bins)-1):\n",
    "    \n",
    "    if verbose > 0:\n",
    "        print(f'DEPTH {depth_idx}: {int(bins[depth_idx]*100)}% to {int(bins[depth_idx+1]*100)}% of the euphotic zone')\n",
    "    \n",
    "    # obtain train and test data for this bin\n",
    "    train_data_df, train_predictions_for_depth_df = get_data_by_depth(train_df, features=train_features, depth_bin=depth_idx)\n",
    "    test_data_df, test_predictions_for_depth_df = get_data_by_depth(test_df, features=train_features, depth_bin=depth_idx)\n",
    "    #train_data_df['xgb'] = xgb_feature_train\n",
    "    #test_data_df['xgb'] = xgb_feature_test\n",
    "    train_predictions_for_depth_df.insert(loc=list(train_predictions_for_depth_df.columns).index('depth_bin')+1, column='depth_interval', value=[(int(bins[depth_idx]*100), int(bins[depth_idx+1]*100)) for i in range(train_predictions_for_depth_df.shape[0])])\n",
    "    test_predictions_for_depth_df.insert(loc=list(test_predictions_for_depth_df.columns).index('depth_bin')+1, column='depth_interval', value=[(int(bins[depth_idx]*100), int(bins[depth_idx+1]*100)) for i in range(test_predictions_for_depth_df.shape[0])])\n",
    "    \n",
    "    print(train_data_df.shape)\n",
    "    print(test_data_df.shape)\n",
    "    # standardize features based on training data\n",
    "    X_train, X_test, y_train, y_test = standardize(train_data_df, test_data_df)\n",
    "    print(X_train.shape)\n",
    "    print(X_test.shape)\n",
    "    if verbose > 0:\n",
    "        print(f'\\tNum train samples: {X_train.shape[0]}', end='  |  ')\n",
    "        print(f'Num test samples: {X_test.shape[0]}')\n",
    "    \n",
    "\n",
    "    xgbr = XGBRegressor(n_estimators=20, max_depth=12, colsample_bytree=0.8)     # grow_policy = 'depthwise' or 'lossguide'\n",
    "    xgb_feature_train, xgb_feature_test = fit_predict_xgbr(xgbr, X_train, y_train, X_test, y_test)\n",
    "\n",
    "    # train, predict, and get scores for XGBoosting regressor\n",
    "    nnr = createNueralNetwork() #XGBRegressor(n_estimators=20, max_depth=12, colsample_bytree=0.8)     # grow_policy = 'depthwise' or 'lossguide'\n",
    "    train_preds, test_preds = fit_predict(nnr, X_train, y_train, X_test, y_test, xgb_feature_train, xgb_feature_test)\n",
    "    \n",
    "    if verbose > 0: \n",
    "        print(f'\\tTrain MSE: {mean_squared_error(y_train, train_preds):.4f}', end='  |  ')\n",
    "        print(f'Train r2: {r2_score(y_train, train_preds):.4f}')\n",
    "        print(f'\\tTest MSE: {mean_squared_error(y_test, test_preds):.4f}', end='   |  ')\n",
    "        print(f'Test r2: {r2_score(y_test, test_preds):.4f}')\n",
    "    \n",
    "    # plot predictions vs. true values\n",
    "    plot(depth_idx, bins, y_train, train_preds, y_test, test_preds, normalized=True, plt_n_cols=5)\n",
    "    \n",
    "    # add scores and predictions to respective dataframes\n",
    "    results_df.loc[results_df.shape[0]] = [depth_idx, (int(bins[depth_idx]*100), int(bins[depth_idx+1]*100)), train_data_df.shape[0] + test_data_df.shape[0]] + [mean_squared_error(y_train, train_preds), r2_score(y_train, train_preds), mean_squared_error(y_test, test_preds), r2_score(y_test, test_preds)]\n",
    "    train_predictions_for_depth_df['pred_CHLA'] = train_preds\n",
    "    train_predictions_df = pd.concat([train_predictions_df, train_predictions_for_depth_df])\n",
    "    test_predictions_for_depth_df['pred_CHLA'] = test_preds\n",
    "    test_predictions_df = pd.concat([test_predictions_df, test_predictions_for_depth_df])\n",
    "    \n",
    "    # save the model for this depth bin\n",
    "    model_file = 'nueral_net_model_depth_bin_{depth_idx}'\n",
    "    try:\n",
    "        pickle.dump(nnr, open(model_path + model_file, 'wb'))\n",
    "    except:\n",
    "        os.mkdir(model_path)\n",
    "        pickle.dump(nnr, open(model_path + model_file, 'wb'))\n",
    "    \n",
    "    if verbose > 0:\n",
    "        print()\n",
    "        \n",
    "plt.tight_layout()\n",
    "plt.show()\n"
   ]
  },
  {
   "cell_type": "code",
   "execution_count": null,
   "id": "643b3738",
   "metadata": {},
   "outputs": [
    {
     "ename": "NameError",
     "evalue": "name 'X_train' is not defined",
     "output_type": "error",
     "traceback": [
      "\u001b[0;31m---------------------------------------------------------------------------\u001b[0m",
      "\u001b[0;31mNameError\u001b[0m                                 Traceback (most recent call last)",
      "\u001b[0;32m/var/folders/2s/dqvyr8r92_v2nfvgky0vvxbc0000gn/T/ipykernel_48728/4225672638.py\u001b[0m in \u001b[0;36m<module>\u001b[0;34m\u001b[0m\n\u001b[0;32m----> 1\u001b[0;31m \u001b[0mX_train\u001b[0m\u001b[0;34m.\u001b[0m\u001b[0mshape\u001b[0m\u001b[0;34m\u001b[0m\u001b[0;34m\u001b[0m\u001b[0m\n\u001b[0m",
      "\u001b[0;31mNameError\u001b[0m: name 'X_train' is not defined"
     ]
    }
   ],
   "source": [
    "#X_train.shape"
   ]
  },
  {
   "cell_type": "code",
   "execution_count": null,
   "id": "2ab5b9d5",
   "metadata": {},
   "outputs": [
    {
     "data": {
      "text/plain": [
       "'\\nOutput exceeds the size limit. Open the full output data in a text editor\\nDEPTH 0: 0% to 10% of the euphotic zone\\n\\tNum train samples: 510879  |  Num test samples: 133206\\n\\tTrain MSE: 0.0069  |  Train r2: 0.9688\\n\\tTest MSE: 0.0737   |  Test r2: 0.6039\\n\\nDEPTH 1: 10% to 20% of the euphotic zone\\n\\tNum train samples: 539835  |  Num test samples: 128436\\n\\tTrain MSE: 0.0067  |  Train r2: 0.9689\\n\\tTest MSE: 0.0744   |  Test r2: 0.5560\\n\\nDEPTH 2: 20% to 30% of the euphotic zone\\n\\tNum train samples: 535847  |  Num test samples: 127666\\n\\tTrain MSE: 0.0073  |  Train r2: 0.9668\\n\\tTest MSE: 0.0844   |  Test r2: 0.5515\\n\\nDEPTH 3: 30% to 40% of the euphotic zone\\n\\tNum train samples: 538502  |  Num test samples: 128500\\n\\tTrain MSE: 0.0077  |  Train r2: 0.9639\\n\\tTest MSE: 0.0747   |  Test r2: 0.6034\\n\\nDEPTH 4: 40% to 50% of the euphotic zone\\n\\tNum train samples: 537904  |  Num test samples: 128830\\n\\tTrain MSE: 0.0078  |  Train r2: 0.9622\\n\\tTest MSE: 0.0764   |  Test r2: 0.5887\\n...\\n\\tNum train samples: 531118  |  Num test samples: 128970\\n\\tTrain MSE: 0.0074  |  Train r2: 0.9649\\n\\tTest MSE: 0.0921   |  Test r2: 0.5763\\n'"
      ]
     },
     "execution_count": 24,
     "metadata": {},
     "output_type": "execute_result"
    }
   ],
   "source": [
    "'''\n",
    "Output exceeds the size limit. Open the full output data in a text editor\n",
    "DEPTH 0: 0% to 10% of the euphotic zone\n",
    "\tNum train samples: 510879  |  Num test samples: 133206\n",
    "\tTrain MSE: 0.0069  |  Train r2: 0.9688\n",
    "\tTest MSE: 0.0737   |  Test r2: 0.6039\n",
    "\n",
    "DEPTH 1: 10% to 20% of the euphotic zone\n",
    "\tNum train samples: 539835  |  Num test samples: 128436\n",
    "\tTrain MSE: 0.0067  |  Train r2: 0.9689\n",
    "\tTest MSE: 0.0744   |  Test r2: 0.5560\n",
    "\n",
    "DEPTH 2: 20% to 30% of the euphotic zone\n",
    "\tNum train samples: 535847  |  Num test samples: 127666\n",
    "\tTrain MSE: 0.0073  |  Train r2: 0.9668\n",
    "\tTest MSE: 0.0844   |  Test r2: 0.5515\n",
    "\n",
    "DEPTH 3: 30% to 40% of the euphotic zone\n",
    "\tNum train samples: 538502  |  Num test samples: 128500\n",
    "\tTrain MSE: 0.0077  |  Train r2: 0.9639\n",
    "\tTest MSE: 0.0747   |  Test r2: 0.6034\n",
    "\n",
    "DEPTH 4: 40% to 50% of the euphotic zone\n",
    "\tNum train samples: 537904  |  Num test samples: 128830\n",
    "\tTrain MSE: 0.0078  |  Train r2: 0.9622\n",
    "\tTest MSE: 0.0764   |  Test r2: 0.5887\n",
    "...\n",
    "\tNum train samples: 531118  |  Num test samples: 128970\n",
    "\tTrain MSE: 0.0074  |  Train r2: 0.9649\n",
    "\tTest MSE: 0.0921   |  Test r2: 0.5763\n",
    "'''"
   ]
  },
  {
   "cell_type": "markdown",
   "id": "547c7dcb",
   "metadata": {},
   "source": [
    "## Display XGBoost regressor results"
   ]
  },
  {
   "cell_type": "code",
   "execution_count": null,
   "id": "1855e9f0",
   "metadata": {},
   "outputs": [
    {
     "ename": "NameError",
     "evalue": "name 'results_df' is not defined",
     "output_type": "error",
     "traceback": [
      "\u001b[0;31m---------------------------------------------------------------------------\u001b[0m",
      "\u001b[0;31mNameError\u001b[0m                                 Traceback (most recent call last)",
      "\u001b[0;32m/var/folders/2s/dqvyr8r92_v2nfvgky0vvxbc0000gn/T/ipykernel_48728/1352794212.py\u001b[0m in \u001b[0;36m<module>\u001b[0;34m\u001b[0m\n\u001b[1;32m      1\u001b[0m \u001b[0;31m# display the dataframe of results\u001b[0m\u001b[0;34m\u001b[0m\u001b[0;34m\u001b[0m\u001b[0;34m\u001b[0m\u001b[0m\n\u001b[0;32m----> 2\u001b[0;31m \u001b[0mprint\u001b[0m\u001b[0;34m(\u001b[0m\u001b[0;34mf'Average train r2: {np.mean(results_df[\"train_r2\"])}'\u001b[0m\u001b[0;34m)\u001b[0m\u001b[0;34m\u001b[0m\u001b[0;34m\u001b[0m\u001b[0m\n\u001b[0m\u001b[1;32m      3\u001b[0m \u001b[0mprint\u001b[0m\u001b[0;34m(\u001b[0m\u001b[0;34mf'Average test r2: {np.mean(results_df[\"test_r2\"])}'\u001b[0m\u001b[0;34m)\u001b[0m\u001b[0;34m\u001b[0m\u001b[0;34m\u001b[0m\u001b[0m\n\u001b[1;32m      4\u001b[0m \u001b[0mprint\u001b[0m\u001b[0;34m(\u001b[0m\u001b[0;34mf'\\nMaximum train r2: {np.max(results_df[\"train_r2\"])}'\u001b[0m\u001b[0;34m)\u001b[0m\u001b[0;34m\u001b[0m\u001b[0;34m\u001b[0m\u001b[0m\n\u001b[1;32m      5\u001b[0m \u001b[0mprint\u001b[0m\u001b[0;34m(\u001b[0m\u001b[0;34mf'Maximum test r2: {np.max(results_df[\"test_r2\"])}'\u001b[0m\u001b[0;34m)\u001b[0m\u001b[0;34m\u001b[0m\u001b[0;34m\u001b[0m\u001b[0m\n",
      "\u001b[0;31mNameError\u001b[0m: name 'results_df' is not defined"
     ]
    }
   ],
   "source": [
    "# display the dataframe of results\n",
    "print(f'Average train r2: {np.mean(results_df[\"train_r2\"])}')\n",
    "print(f'Average test r2: {np.mean(results_df[\"test_r2\"])}')\n",
    "print(f'\\nMaximum train r2: {np.max(results_df[\"train_r2\"])}')\n",
    "print(f'Maximum test r2: {np.max(results_df[\"test_r2\"])}')\n",
    "results_df\n"
   ]
  },
  {
   "attachments": {},
   "cell_type": "markdown",
   "id": "564b1faa",
   "metadata": {},
   "source": [
    "<!-- \n",
    "Average train r2: 0.5679939793256079\n",
    "Average test r2: 0.5257214364013001\n",
    "\n",
    "Maximum train r2: 0.6090744091005458\n",
    "Maximum test r2: 0.5924858693816069 -->\n"
   ]
  },
  {
   "cell_type": "code",
   "execution_count": null,
   "id": "3d265e78",
   "metadata": {},
   "outputs": [],
   "source": []
  },
  {
   "cell_type": "code",
   "execution_count": null,
   "id": "38b16df5",
   "metadata": {},
   "outputs": [],
   "source": [
    "# Average train r2: 0.9661335665416322\n",
    "# Average test r2: 0.5816735239615706\n",
    "\n",
    "# Maximum train r2: 0.9688580128792292\n",
    "# Maximum test r2: 0.607433290555819"
   ]
  },
  {
   "cell_type": "code",
   "execution_count": null,
   "id": "0d476afa",
   "metadata": {},
   "outputs": [
    {
     "data": {
      "image/png": "[encoded data removed]",
      "text/plain": [
       "<Figure size 1152x432 with 2 Axes>"
      ]
     },
     "metadata": {
      "needs_background": "light"
     },
     "output_type": "display_data"
    }
   ],
   "source": [
    "# plot metrics for different depths\n",
    "plt.figure(figsize=(16,6))\n",
    "plt.suptitle('Metrics of Neural Network Regressor over Depth Bins', fontsize='xx-large')\n",
    "\n",
    "plt.subplot(1,2,1)\n",
    "plt.plot(range(results_df.shape[0]), results_df['train_r2'], label='train')\n",
    "plt.plot(range(results_df.shape[0]), results_df['test_r2'], label='test')\n",
    "plt.title('r2 scores', fontsize='x-large')\n",
    "plt.xlabel('depth bin')\n",
    "plt.ylabel('r2')\n",
    "plt.legend()\n",
    "\n",
    "plt.subplot(1,2,2)\n",
    "plt.plot(range(results_df.shape[0]), results_df['train_mse'], label='train')\n",
    "plt.plot(range(results_df.shape[0]), results_df['test_mse'], label='test')\n",
    "plt.title('MSE scores', fontsize='x-large')\n",
    "plt.xlabel('depth bin')\n",
    "plt.ylabel('MSE')\n",
    "plt.legend()\n",
    "\n",
    "plt.tight_layout()\n",
    "plt.show()\n"
   ]
  },
  {
   "cell_type": "code",
   "execution_count": null,
   "id": "ec7cf8ec",
   "metadata": {},
   "outputs": [
    {
     "data": {
      "image/png": "[encoded data removed]",
      "text/plain": [
       "<Figure size 720x288 with 1 Axes>"
      ]
     },
     "metadata": {
      "needs_background": "light"
     },
     "output_type": "display_data"
    },
    {
     "data": {
      "image/png": "[encoded data removed]",
      "text/plain": [
       "<Figure size 720x288 with 1 Axes>"
      ]
     },
     "metadata": {
      "needs_background": "light"
     },
     "output_type": "display_data"
    },
    {
     "data": {
      "image/png": "[encoded data removed]",
      "text/plain": [
       "<Figure size 720x288 with 1 Axes>"
      ]
     },
     "metadata": {
      "needs_background": "light"
     },
     "output_type": "display_data"
    }
   ],
   "source": [
    "# display results for a few example float-cycles\n",
    "for f_c in random.choices(test_float_cycles, k=3):\n",
    "    f, c = f_c.split('_')\n",
    "    f, c = int(f), int(c)\n",
    "    tmp_df = test_predictions_df[(test_predictions_df['float'] == f) & (test_predictions_df['cycle'] == c)]\n",
    "    plt.figure(figsize=(10,4))\n",
    "    plt.scatter(tmp_df['normalized_depth'], tmp_df['true_CHLA'], alpha=0.7, marker='o', label='true CHLA')\n",
    "    plt.scatter(tmp_df['normalized_depth'], tmp_df['pred_CHLA'], alpha=0.7, marker='x', label='predicted CHLA')\n",
    "    plt.title(f'True and Predicted CHLA for Float-Cycle {f}-{c} by Normalized Depth')\n",
    "    plt.xlabel('normalized depth')\n",
    "    plt.ylabel('CHLA')\n",
    "    plt.legend()\n",
    "    plt.show()\n",
    "    "
   ]
  },
  {
   "cell_type": "code",
   "execution_count": null,
   "id": "a3b414c7",
   "metadata": {},
   "outputs": [],
   "source": [
    "# save results and predictions\n",
    "result_path = path + ''\n",
    "results_df.to_csv(result_path + 'results_NN_feature_selection_normalized_yxj.csv', index=False)\n",
    "train_predictions_df.to_csv(result_path + 'NN_train_preds.csv', index=False)\n",
    "test_predictions_df.to_csv(result_path + 'NN_test_preds.csv', index=False)\n"
   ]
  },
  {
   "attachments": {},
   "cell_type": "markdown",
   "id": "e461f1fd",
   "metadata": {},
   "source": [
    "## Repeat for one NN model over all depths"
   ]
  },
  {
   "cell_type": "code",
   "execution_count": 37,
   "id": "c5d900c3",
   "metadata": {},
   "outputs": [],
   "source": [
    "# define depth bins\n",
    "interval = 1\n",
    "bins = np.arange(0, 1+interval, interval)\n",
    "bins\n",
    "depth_bins = pd.cut(df['normalized_depth'], bins=bins, right=True, labels=False, retbins=False, include_lowest=True)\n",
    "\n",
    "try:\n",
    "    train_df = train_df.drop(columns='depth_bin')\n",
    "except:\n",
    "    pass\n",
    "train_df.insert(loc=list(train_df.columns).index('normalized_depth')+1, column='depth_bin', value=depth_bins)\n",
    "\n",
    "try:\n",
    "    test_df = test_df.drop(columns='depth_bin')\n",
    "except:\n",
    "    pass\n",
    "test_df.insert(loc=list(test_df.columns).index('normalized_depth')+1, column='depth_bin', value=depth_bins)\n"
   ]
  },
  {
   "cell_type": "code",
   "execution_count": 38,
   "id": "dfb8a46a",
   "metadata": {},
   "outputs": [],
   "source": [
    "# initialize dataframes to store results and predictions\n",
    "results_df = pd.DataFrame(columns=['depth_bin', 'depth_interval', 'num_observations', 'train_mse', 'train_r2', 'test_mse', 'test_r2'])\n",
    "train_predictions_df = pd.DataFrame(columns=['depth_bin', 'depth_interval', 'float', 'cycle', 'date', 'PRES', 'normalized_depth', 'true_CHLA', 'pred_CHLA'])\n",
    "test_predictions_df = pd.DataFrame(columns=['depth_bin', 'depth_interval', 'float', 'cycle', 'date', 'PRES', 'normalized_depth', 'true_CHLA', 'pred_CHLA'])\n",
    "\n",
    "train_features = ['latitude', 'longitude', 'day_of_year_rad', 'sat_chl', 'sat_sst', 'sat_pic', 'sat_par', 'sat_aph_443', 'PRES', 'CHLA']\n",
    "# train_features = ['latitude', 'longitude', 'day_of_year_rad', 'PRES', 'CHLA']\n"
   ]
  },
  {
   "cell_type": "code",
   "execution_count": null,
   "id": "ee0efb2f",
   "metadata": {},
   "outputs": [],
   "source": []
  },
  {
   "cell_type": "code",
   "execution_count": 39,
   "id": "168b39dc",
   "metadata": {
    "scrolled": false
   },
   "outputs": [
    {
     "name": "stdout",
     "output_type": "stream",
     "text": [
      "DEPTH 0: 0% to 100% of the euphotic zone\n",
      "\tNum train samples: 5303476  |  Num test samples: 1286806\n",
      "Epoch 1/12\n",
      "    1/20717 [..............................] - ETA: 1:32:46 - loss: 0.1554"
     ]
    },
    {
     "name": "stderr",
     "output_type": "stream",
     "text": [
      "2022-11-30 13:55:05.258316: I tensorflow/core/grappler/optimizers/custom_graph_optimizer_registry.cc:112] Plugin optimizer for device_type GPU is enabled.\n"
     ]
    },
    {
     "name": "stdout",
     "output_type": "stream",
     "text": [
      "20717/20717 [==============================] - 125s 6ms/step - loss: 0.0272\n",
      "Epoch 2/12\n",
      "20717/20717 [==============================] - 119s 6ms/step - loss: 0.0216\n",
      "Epoch 3/12\n",
      "20717/20717 [==============================] - 126s 6ms/step - loss: 0.0213\n",
      "Epoch 4/12\n",
      "20717/20717 [==============================] - 127s 6ms/step - loss: 0.0211\n",
      "Epoch 5/12\n",
      "20717/20717 [==============================] - 119s 6ms/step - loss: 0.0211\n",
      "Epoch 6/12\n",
      "20717/20717 [==============================] - 126s 6ms/step - loss: 0.0211\n",
      "Epoch 7/12\n",
      "20717/20717 [==============================] - 129s 6ms/step - loss: 0.0210\n",
      "Epoch 8/12\n",
      "20717/20717 [==============================] - 129s 6ms/step - loss: 0.0209\n",
      "Epoch 9/12\n",
      "20717/20717 [==============================] - 128s 6ms/step - loss: 0.0209\n",
      "Epoch 10/12\n",
      "20717/20717 [==============================] - 126s 6ms/step - loss: 0.0210\n",
      "Epoch 11/12\n",
      "20717/20717 [==============================] - 130s 6ms/step - loss: 0.0209\n",
      "Epoch 12/12\n",
      "20717/20717 [==============================] - 127s 6ms/step - loss: 0.0209\n"
     ]
    },
    {
     "name": "stderr",
     "output_type": "stream",
     "text": [
      "2022-11-30 14:20:15.703077: I tensorflow/core/grappler/optimizers/custom_graph_optimizer_registry.cc:112] Plugin optimizer for device_type GPU is enabled.\n"
     ]
    },
    {
     "name": "stdout",
     "output_type": "stream",
     "text": [
      "\tTrain MSE: 0.0306  |  Train r2: 0.8475\n",
      "\tTest MSE: 0.0733   |  Test r2: 0.6207\n",
      "INFO:tensorflow:Assets written to: ram://577f4296-f15d-404d-b746-b37449bd10e9/assets\n",
      "\n"
     ]
    },
    {
     "data": {
      "image/png": "[encoded data removed]",
      "text/plain": [
       "<Figure size 576x576 with 1 Axes>"
      ]
     },
     "metadata": {
      "needs_background": "light"
     },
     "output_type": "display_data"
    }
   ],
   "source": [
    "# fit a gradient booting regression model for the ocean at different depth bins\n",
    "verbose = 1\n",
    "plt.figure(figsize=(8,8))\n",
    "plt.suptitle('Predicted vs. True CHLA from Neural Net Regressor by Depth Bin\\n\\n', fontsize='large')\n",
    "model_path = path + 'NN_single_model/'\n",
    "\n",
    "depth_idx = 0\n",
    "\n",
    "if verbose > 0:\n",
    "    print(f'DEPTH {depth_idx}: {int(bins[depth_idx]*100)}% to {int(bins[depth_idx+1]*100)}% of the euphotic zone')\n",
    "\n",
    "# obtain train and test data for this bin\n",
    "train_data_df, train_predictions_for_depth_df = get_data_by_depth(train_df, features=train_features, depth_bin=depth_idx)\n",
    "test_data_df, test_predictions_for_depth_df = get_data_by_depth(test_df, features=train_features, depth_bin=depth_idx)\n",
    "\n",
    "train_predictions_for_depth_df.insert(loc=list(train_predictions_for_depth_df.columns).index('depth_bin')+1, column='depth_interval', value=[(int(bins[depth_idx]*100), int(bins[depth_idx+1]*100)) for i in range(train_predictions_for_depth_df.shape[0])])\n",
    "test_predictions_for_depth_df.insert(loc=list(test_predictions_for_depth_df.columns).index('depth_bin')+1, column='depth_interval', value=[(int(bins[depth_idx]*100), int(bins[depth_idx+1]*100)) for i in range(test_predictions_for_depth_df.shape[0])])\n",
    "\n",
    "# standardize features based on training data\n",
    "X_train, X_test, y_train, y_test, ss = standardize(train_data_df, test_data_df, return_scaler=True)\n",
    "\n",
    "if verbose > 0:\n",
    "    print(f'\\tNum train samples: {X_train.shape[0]}', end='  |  ')\n",
    "    print(f'Num test samples: {X_test.shape[0]}')\n",
    "\n",
    "# train, predict, and get scores for XGBoosting regressor\n",
    "\n",
    "xgbr = XGBRegressor(n_estimators=20, max_depth=12, colsample_bytree=0.8)     # grow_policy = 'depthwise' or 'lossguide'\n",
    "xgb_feature_train, xgb_feature_test = fit_predict_xgbr(xgbr, X_train, y_train, X_test, y_test)\n",
    "\n",
    "\n",
    "nnr = createNueralNetwork()#XGBRegressor(n_estimators=20, max_depth=10, colsample_bytree=0.8)     # grow_policy = 'depthwise' or 'lossguide'\n",
    "train_preds, test_preds = fit_predict(nnr, X_train, y_train, X_test, y_test, xgb_feature_train, xgb_feature_test)\n",
    "\n",
    "if verbose > 0: \n",
    "    print(f'\\tTrain MSE: {mean_squared_error(y_train, train_preds):.4f}', end='  |  ')\n",
    "    print(f'Train r2: {r2_score(y_train, train_preds):.4f}')\n",
    "    print(f'\\tTest MSE: {mean_squared_error(y_test, test_preds):.4f}', end='   |  ')\n",
    "    print(f'Test r2: {r2_score(y_test, test_preds):.4f}')\n",
    "\n",
    "# plot predictions vs. true values\n",
    "plot(depth_idx, bins, y_train, train_preds, y_test, test_preds, normalized=True, single_plot=True)\n",
    "\n",
    "# add scores and predictions to respective dataframes\n",
    "results_df.loc[results_df.shape[0]] = [depth_idx, (int(bins[depth_idx]*100), int(bins[depth_idx+1]*100)), train_data_df.shape[0] + test_data_df.shape[0]] + [mean_squared_error(y_train, train_preds), r2_score(y_train, train_preds), mean_squared_error(y_test, test_preds), r2_score(y_test, test_preds)]\n",
    "train_predictions_for_depth_df['pred_CHLA'] = train_preds\n",
    "train_predictions_df = pd.concat([train_predictions_df, train_predictions_for_depth_df])\n",
    "test_predictions_for_depth_df['pred_CHLA'] = test_preds\n",
    "test_predictions_df = pd.concat([test_predictions_df, test_predictions_for_depth_df])\n",
    "\n",
    "# save the model for this depth bin\n",
    "model_file = 'NN_model'\n",
    "try:\n",
    "    pickle.dump(nnr, open(model_path + model_file, 'wb'))\n",
    "except:\n",
    "    os.mkdir(model_path)\n",
    "    pickle.dump(nnr, open(model_path + model_file, 'wb'))\n",
    "\n",
    "if verbose > 0:\n",
    "    print()\n",
    "        \n",
    "plt.tight_layout()\n",
    "plt.show()\n"
   ]
  },
  {
   "cell_type": "code",
   "execution_count": null,
   "id": "1ee86f47",
   "metadata": {},
   "outputs": [],
   "source": [
    "# Train MSE: 0.0822  |  Train r2: 0.5897\n",
    "# \tTest MSE: 0.0847   |  Test r2: 0.5619"
   ]
  },
  {
   "cell_type": "code",
   "execution_count": 40,
   "id": "466c3960",
   "metadata": {},
   "outputs": [
    {
     "data": {
      "text/html": [
       "<div>\n",
       "<style scoped>\n",
       "    .dataframe tbody tr th:only-of-type {\n",
       "        vertical-align: middle;\n",
       "    }\n",
       "\n",
       "    .dataframe tbody tr th {\n",
       "        vertical-align: top;\n",
       "    }\n",
       "\n",
       "    .dataframe thead th {\n",
       "        text-align: right;\n",
       "    }\n",
       "</style>\n",
       "<table border=\"1\" class=\"dataframe\">\n",
       "  <thead>\n",
       "    <tr style=\"text-align: right;\">\n",
       "      <th></th>\n",
       "      <th>depth_bin</th>\n",
       "      <th>depth_interval</th>\n",
       "      <th>num_observations</th>\n",
       "      <th>train_mse</th>\n",
       "      <th>train_r2</th>\n",
       "      <th>test_mse</th>\n",
       "      <th>test_r2</th>\n",
       "    </tr>\n",
       "  </thead>\n",
       "  <tbody>\n",
       "    <tr>\n",
       "      <th>0</th>\n",
       "      <td>0</td>\n",
       "      <td>(0, 100)</td>\n",
       "      <td>6590282</td>\n",
       "      <td>0.030552</td>\n",
       "      <td>0.847544</td>\n",
       "      <td>0.073321</td>\n",
       "      <td>0.620698</td>\n",
       "    </tr>\n",
       "  </tbody>\n",
       "</table>\n",
       "</div>"
      ],
      "text/plain": [
       "   depth_bin depth_interval  num_observations  train_mse  train_r2  test_mse  \\\n",
       "0          0       (0, 100)           6590282   0.030552  0.847544  0.073321   \n",
       "\n",
       "    test_r2  \n",
       "0  0.620698  "
      ]
     },
     "execution_count": 40,
     "metadata": {},
     "output_type": "execute_result"
    }
   ],
   "source": [
    "results_df"
   ]
  },
  {
   "cell_type": "code",
   "execution_count": null,
   "id": "0cb949aa",
   "metadata": {},
   "outputs": [
    {
     "data": {
      "text/html": [
       "<div>\n",
       "<style scoped>\n",
       "    .dataframe tbody tr th:only-of-type {\n",
       "        vertical-align: middle;\n",
       "    }\n",
       "\n",
       "    .dataframe tbody tr th {\n",
       "        vertical-align: top;\n",
       "    }\n",
       "\n",
       "    .dataframe thead th {\n",
       "        text-align: right;\n",
       "    }\n",
       "</style>\n",
       "<table border=\"1\" class=\"dataframe\">\n",
       "  <thead>\n",
       "    <tr style=\"text-align: right;\">\n",
       "      <th></th>\n",
       "      <th>depth_bin</th>\n",
       "      <th>depth_interval</th>\n",
       "      <th>num_observations</th>\n",
       "      <th>train_mse</th>\n",
       "      <th>train_r2</th>\n",
       "      <th>test_mse</th>\n",
       "      <th>test_r2</th>\n",
       "    </tr>\n",
       "  </thead>\n",
       "  <tbody>\n",
       "    <tr>\n",
       "      <th>0</th>\n",
       "      <td>0</td>\n",
       "      <td>(0, 100)</td>\n",
       "      <td>6590282</td>\n",
       "      <td>0.082218</td>\n",
       "      <td>0.589726</td>\n",
       "      <td>0.084694</td>\n",
       "      <td>0.561862</td>\n",
       "    </tr>\n",
       "  </tbody>\n",
       "</table>\n",
       "</div>"
      ],
      "text/plain": [
       "   depth_bin depth_interval  num_observations  train_mse  train_r2  test_mse  \\\n",
       "0          0       (0, 100)           6590282   0.082218  0.589726  0.084694   \n",
       "\n",
       "    test_r2  \n",
       "0  0.561862  "
      ]
     },
     "execution_count": 84,
     "metadata": {},
     "output_type": "execute_result"
    }
   ],
   "source": [
    "results_df\n"
   ]
  },
  {
   "cell_type": "code",
   "execution_count": null,
   "id": "92da30ad",
   "metadata": {},
   "outputs": [],
   "source": []
  },
  {
   "cell_type": "code",
   "execution_count": null,
   "id": "c2147d95",
   "metadata": {},
   "outputs": [
    {
     "data": {
      "text/html": [
       "<div>\n",
       "<style scoped>\n",
       "    .dataframe tbody tr th:only-of-type {\n",
       "        vertical-align: middle;\n",
       "    }\n",
       "\n",
       "    .dataframe tbody tr th {\n",
       "        vertical-align: top;\n",
       "    }\n",
       "\n",
       "    .dataframe thead th {\n",
       "        text-align: right;\n",
       "    }\n",
       "</style>\n",
       "<table border=\"1\" class=\"dataframe\">\n",
       "  <thead>\n",
       "    <tr style=\"text-align: right;\">\n",
       "      <th></th>\n",
       "      <th>depth_bin</th>\n",
       "      <th>depth_interval</th>\n",
       "      <th>num_observations</th>\n",
       "      <th>train_mse</th>\n",
       "      <th>train_r2</th>\n",
       "      <th>test_mse</th>\n",
       "      <th>test_r2</th>\n",
       "    </tr>\n",
       "  </thead>\n",
       "  <tbody>\n",
       "    <tr>\n",
       "      <th>0</th>\n",
       "      <td>0</td>\n",
       "      <td>(0, 100)</td>\n",
       "      <td>6590282</td>\n",
       "      <td>0.082218</td>\n",
       "      <td>0.589726</td>\n",
       "      <td>0.084694</td>\n",
       "      <td>0.561862</td>\n",
       "    </tr>\n",
       "  </tbody>\n",
       "</table>\n",
       "</div>"
      ],
      "text/plain": [
       "   depth_bin depth_interval  num_observations  train_mse  train_r2  test_mse  \\\n",
       "0          0       (0, 100)           6590282   0.082218  0.589726  0.084694   \n",
       "\n",
       "    test_r2  \n",
       "0  0.561862  "
      ]
     },
     "execution_count": 85,
     "metadata": {},
     "output_type": "execute_result"
    }
   ],
   "source": [
    "# display the dataframe of results\n",
    "results_df\n"
   ]
  },
  {
   "cell_type": "code",
   "execution_count": 41,
   "id": "77fb47a1",
   "metadata": {},
   "outputs": [
    {
     "data": {
      "image/png": "[encoded data removed]",
      "text/plain": [
       "<Figure size 720x288 with 1 Axes>"
      ]
     },
     "metadata": {
      "needs_background": "light"
     },
     "output_type": "display_data"
    },
    {
     "data": {
      "image/png": "[encoded data removed]",
      "text/plain": [
       "<Figure size 720x288 with 1 Axes>"
      ]
     },
     "metadata": {
      "needs_background": "light"
     },
     "output_type": "display_data"
    },
    {
     "data": {
      "image/png": "[encoded data removed]",
      "text/plain": [
       "<Figure size 720x288 with 1 Axes>"
      ]
     },
     "metadata": {
      "needs_background": "light"
     },
     "output_type": "display_data"
    }
   ],
   "source": [
    "# display results for a few example float-cycles\n",
    "for f_c in random.choices(test_float_cycles, k=3):\n",
    "    f, c = f_c.split('_')\n",
    "    f, c = int(f), int(c)\n",
    "    tmp_df = test_predictions_df[(test_predictions_df['float'] == f) & (test_predictions_df['cycle'] == c)]\n",
    "    plt.figure(figsize=(10,4))\n",
    "    plt.scatter(tmp_df['normalized_depth'], tmp_df['true_CHLA'], alpha=0.7, marker='o', label='true CHLA')\n",
    "    plt.scatter(tmp_df['normalized_depth'], tmp_df['pred_CHLA'], alpha=0.7, marker='x', label='predicted CHLA')\n",
    "    plt.title(f'True and Predicted CHLA for Float-Cycle {f}-{c} by Normalized Depth (Neural Net Regressor)')\n",
    "    plt.xlabel('normalized depth')\n",
    "    plt.ylabel('CHLA')\n",
    "    plt.legend()\n",
    "    plt.show()\n",
    "    "
   ]
  },
  {
   "cell_type": "code",
   "execution_count": 42,
   "id": "b873b91f",
   "metadata": {},
   "outputs": [
    {
     "ename": "NameError",
     "evalue": "name 'result_path' is not defined",
     "output_type": "error",
     "traceback": [
      "\u001b[0;31m---------------------------------------------------------------------------\u001b[0m",
      "\u001b[0;31mNameError\u001b[0m                                 Traceback (most recent call last)",
      "\u001b[0;32m/var/folders/2s/dqvyr8r92_v2nfvgky0vvxbc0000gn/T/ipykernel_77627/4254716663.py\u001b[0m in \u001b[0;36m<module>\u001b[0;34m\u001b[0m\n\u001b[1;32m      1\u001b[0m \u001b[0;31m# save results and predictions\u001b[0m\u001b[0;34m\u001b[0m\u001b[0;34m\u001b[0m\u001b[0;34m\u001b[0m\u001b[0m\n\u001b[0;32m----> 2\u001b[0;31m \u001b[0mresults_df\u001b[0m\u001b[0;34m.\u001b[0m\u001b[0mto_csv\u001b[0m\u001b[0;34m(\u001b[0m\u001b[0mresult_path\u001b[0m \u001b[0;34m+\u001b[0m \u001b[0;34m'results_NN_single_model_feature_selection_normalized_yxj.csv'\u001b[0m\u001b[0;34m,\u001b[0m \u001b[0mindex\u001b[0m\u001b[0;34m=\u001b[0m\u001b[0;32mFalse\u001b[0m\u001b[0;34m)\u001b[0m\u001b[0;34m\u001b[0m\u001b[0;34m\u001b[0m\u001b[0m\n\u001b[0m\u001b[1;32m      3\u001b[0m \u001b[0mtrain_predictions_df\u001b[0m\u001b[0;34m.\u001b[0m\u001b[0mto_csv\u001b[0m\u001b[0;34m(\u001b[0m\u001b[0mresult_path\u001b[0m \u001b[0;34m+\u001b[0m \u001b[0;34m'NN_single_model_train_preds.csv'\u001b[0m\u001b[0;34m,\u001b[0m \u001b[0mindex\u001b[0m\u001b[0;34m=\u001b[0m\u001b[0;32mFalse\u001b[0m\u001b[0;34m)\u001b[0m\u001b[0;34m\u001b[0m\u001b[0;34m\u001b[0m\u001b[0m\n\u001b[1;32m      4\u001b[0m \u001b[0mtest_predictions_df\u001b[0m\u001b[0;34m.\u001b[0m\u001b[0mto_csv\u001b[0m\u001b[0;34m(\u001b[0m\u001b[0mresult_path\u001b[0m \u001b[0;34m+\u001b[0m \u001b[0;34m'NN_single_model_test_preds.csv'\u001b[0m\u001b[0;34m,\u001b[0m \u001b[0mindex\u001b[0m\u001b[0;34m=\u001b[0m\u001b[0;32mFalse\u001b[0m\u001b[0;34m)\u001b[0m\u001b[0;34m\u001b[0m\u001b[0;34m\u001b[0m\u001b[0m\n",
      "\u001b[0;31mNameError\u001b[0m: name 'result_path' is not defined"
     ]
    }
   ],
   "source": [
    "# save results and predictions\n",
    "results_df.to_csv(result_path + 'results_NN_single_model_feature_selection_normalized_yxj.csv', index=False)\n",
    "train_predictions_df.to_csv(result_path + 'NN_single_model_train_preds.csv', index=False)\n",
    "test_predictions_df.to_csv(result_path + 'NN_single_model_test_preds.csv', index=False)\n"
   ]
  },
  {
   "cell_type": "markdown",
   "id": "de422c09",
   "metadata": {},
   "source": [
    "## Inference: the process if given only unseen satellite data"
   ]
  },
  {
   "cell_type": "code",
   "execution_count": null,
   "id": "f550bb54",
   "metadata": {},
   "outputs": [
    {
     "name": "stderr",
     "output_type": "stream",
     "text": [
      "/Users/yojeremijenko-conel/miniforge3/envs/mlp/lib/python3.9/site-packages/sklearn/base.py:488: FutureWarning: The feature names should match those that were passed during fit. Starting version 1.2, an error will be raised.\n",
      "Feature names unseen at fit time:\n",
      "- raw_depth\n",
      "Feature names seen at fit time, yet now missing:\n",
      "- PRES\n",
      "\n",
      "  warnings.warn(message, FutureWarning)\n"
     ]
    },
    {
     "data": {
      "image/png": "[encoded data removed]",
      "text/plain": [
       "<Figure size 432x288 with 1 Axes>"
      ]
     },
     "metadata": {
      "needs_background": "light"
     },
     "output_type": "display_data"
    },
    {
     "name": "stderr",
     "output_type": "stream",
     "text": [
      "/Users/yojeremijenko-conel/miniforge3/envs/mlp/lib/python3.9/site-packages/sklearn/base.py:488: FutureWarning: The feature names should match those that were passed during fit. Starting version 1.2, an error will be raised.\n",
      "Feature names unseen at fit time:\n",
      "- raw_depth\n",
      "Feature names seen at fit time, yet now missing:\n",
      "- PRES\n",
      "\n",
      "  warnings.warn(message, FutureWarning)\n"
     ]
    },
    {
     "data": {
      "image/png": "[encoded data removed]",
      "text/plain": [
       "<Figure size 432x288 with 1 Axes>"
      ]
     },
     "metadata": {
      "needs_background": "light"
     },
     "output_type": "display_data"
    },
    {
     "name": "stderr",
     "output_type": "stream",
     "text": [
      "/Users/yojeremijenko-conel/miniforge3/envs/mlp/lib/python3.9/site-packages/sklearn/base.py:488: FutureWarning: The feature names should match those that were passed during fit. Starting version 1.2, an error will be raised.\n",
      "Feature names unseen at fit time:\n",
      "- raw_depth\n",
      "Feature names seen at fit time, yet now missing:\n",
      "- PRES\n",
      "\n",
      "  warnings.warn(message, FutureWarning)\n"
     ]
    },
    {
     "data": {
      "image/png": "[encoded data removed]",
      "text/plain": [
       "<Figure size 432x288 with 1 Axes>"
      ]
     },
     "metadata": {
      "needs_background": "light"
     },
     "output_type": "display_data"
    }
   ],
   "source": [
    "num = 3\n",
    "for i in range(num):\n",
    "    # choose a random float-cycle from the test data\n",
    "    f = random.choice(test_df['float'])\n",
    "    float_df = test_df[test_df['float']==f]\n",
    "    c = random.choice(np.unique(float_df['cycle']))\n",
    "    cycle_df = float_df[float_df['cycle']==c]\n",
    "    \n",
    "    # obtain just the features (without raw depth), as if using unseen satellite data\n",
    "    feats_df = cycle_df[train_features[:-2]].drop_duplicates()\n",
    "    \n",
    "    # perform a cross join to get predictions for every 20m of raw depth from the surface to 300m\n",
    "    depths_df = pd.DataFrame({'raw_depth': np.arange(0,320,20)})\n",
    "    feats_df = feats_df.merge(right=depths_df, how='cross')\n",
    "    \n",
    "    # standardize features\n",
    "    std_feats_df = feats_df.copy()\n",
    "    std_feats_df[std_feats_df.columns] = ss.transform(feats_df[feats_df.columns])\n",
    "    \n",
    "    # obtain predictions\n",
    "    preds = xgbr.predict(std_feats_df)\n",
    "\n",
    "    # plot true and predicted CHLA values\n",
    "    plt.figure(figsize=(6,4))\n",
    "    plt.scatter(cycle_df['PRES'], cycle_df['CHLA'], marker='o', alpha=0.7, label='true')\n",
    "    plt.scatter(feats_df['raw_depth'], preds, marker='x', label='pred_CHLA')\n",
    "    plt.title(f'CHLA Distribution for Float {f}, Cycle {c}\\nby Raw Depth (Neural Net Regressor)')\n",
    "    plt.xlabel('raw depth (PRES)')\n",
    "    plt.ylabel('CHLA')\n",
    "    plt.legend()\n",
    "    plt.show()\n"
   ]
  },
  {
   "cell_type": "code",
   "execution_count": null,
   "id": "b5b8d379",
   "metadata": {},
   "outputs": [
    {
     "data": {
      "image/png": "[encoded data removed]",
      "text/plain": [
       "<Figure size 432x288 with 1 Axes>"
      ]
     },
     "metadata": {
      "needs_background": "light"
     },
     "output_type": "display_data"
    },
    {
     "data": {
      "image/png": "[encoded data removed]",
      "text/plain": [
       "<Figure size 432x288 with 1 Axes>"
      ]
     },
     "metadata": {
      "needs_background": "light"
     },
     "output_type": "display_data"
    },
    {
     "data": {
      "image/png": "[encoded data removed]",
      "text/plain": [
       "<Figure size 432x288 with 1 Axes>"
      ]
     },
     "metadata": {
      "needs_background": "light"
     },
     "output_type": "display_data"
    }
   ],
   "source": [
    "num = 3\n",
    "for i in range(num):\n",
    "    # choose a random float-cycle from the test data\n",
    "    f = random.choice(test_df['float'])\n",
    "    float_df = test_df[test_df['float']==f]\n",
    "    c = random.choice(np.unique(float_df['cycle']))\n",
    "    cycle_df = float_df[float_df['cycle']==c]\n",
    "    \n",
    "    # obtain just the features (without raw depth), as if using unseen satellite data\n",
    "    feats_df = cycle_df[train_features[:-2]].drop_duplicates()\n",
    "    \n",
    "    # perform a cross join to get predictions for every 20m of raw depth from the surface to 300m\n",
    "    depths_df = pd.DataFrame({'raw_depth': np.arange(0,320,20)})\n",
    "    feats_df = feats_df.merge(right=depths_df, how='cross')\n",
    "    \n",
    "    # standardize features\n",
    "    std_feats_df = feats_df.copy()\n",
    "    std_feats_df[std_feats_df.columns] = ss.transform(feats_df[feats_df.columns])\n",
    "    \n",
    "    # obtain predictions\n",
    "    preds = xgbr.predict(std_feats_df)\n",
    "\n",
    "    # plot true and predicted CHLA values\n",
    "    plt.figure(figsize=(6,4))\n",
    "    plt.scatter(cycle_df['PRES'], cycle_df['CHLA'], marker='o', alpha=0.7, label='true')\n",
    "    plt.scatter(feats_df['raw_depth'], preds, marker='x', label='pred_CHLA')\n",
    "    plt.title(f'CHLA Distribution for Float {f}, Cycle {c}\\nby Raw Depth')\n",
    "    plt.xlabel('raw depth (PRES)')\n",
    "    plt.ylabel('CHLA')\n",
    "    plt.legend()\n",
    "    plt.show()\n"
   ]
  },
  {
   "cell_type": "code",
   "execution_count": null,
   "id": "8981bc27",
   "metadata": {},
   "outputs": [],
   "source": []
  },
  {
   "cell_type": "code",
   "execution_count": null,
   "id": "e089e052",
   "metadata": {},
   "outputs": [],
   "source": []
  }
 ],
 "metadata": {
  "kernelspec": {
   "display_name": "Python 3.9.2 ('mlp')",
   "language": "python",
   "name": "python3"
  },
  "language_info": {
   "codemirror_mode": {
    "name": "ipython",
    "version": 3
   },
   "file_extension": ".py",
   "mimetype": "text/x-python",
   "name": "python",
   "nbconvert_exporter": "python",
   "pygments_lexer": "ipython3",
   "version": "3.9.2"
  },
  "vscode": {
   "interpreter": {
    "hash": "c0211617c4af78096680cac96c9702e3cae249ae42e2a4bfbc724b5d3e6bf5be"
   }
  }
 },
 "nbformat": 4,
 "nbformat_minor": 5
}

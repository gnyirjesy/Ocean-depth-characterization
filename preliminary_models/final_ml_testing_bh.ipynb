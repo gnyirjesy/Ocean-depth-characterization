{
 "cells": [
  {
   "cell_type": "code",
   "execution_count": 82,
   "metadata": {},
   "outputs": [],
   "source": [
    "import os\n",
    "import pickle\n",
    "import numpy as np\n",
    "import pandas as pd\n",
    "import matplotlib.pyplot as plt\n",
    "import seaborn as sns\n",
    "from scipy.optimize import curve_fit\n",
    "from scipy.interpolate import interp1d\n",
    "\n",
    "import sklearn\n",
    "from sklearn.cluster import KMeans\n",
    "from sklearn.model_selection import train_test_split\n",
    "from sklearn.metrics import mean_squared_error, r2_score\n",
    "from sklearn.cluster import KMeans\n",
    "from sklearn.preprocessing import StandardScaler\n",
    "from sklearn.preprocessing import Normalizer\n",
    "\n",
    "import tensorflow as tf\n",
    "from keras.models import Sequential\n",
    "from keras.layers import Dense, Dropout\n",
    "from keras.models import load_model\n",
    "\n",
    "from xgboost import XGBRegressor\n",
    "\n",
    "import warnings\n",
    "warnings.filterwarnings('ignore')"
   ]
  },
  {
   "cell_type": "code",
   "execution_count": 83,
   "metadata": {},
   "outputs": [],
   "source": [
    "def build_normalized_cluster_centers(df_known_dist, n_points=25, plot_clusters=False, return_centers=True, return_center_dict=True):\n",
    "    out = pd.cut(df_known_dist.PRES, bins=25, labels=[i for i in range(25)])\n",
    "    df_known_dist['depth_bin'] = out\n",
    "    df_known_dist_binned = df_known_dist[['cluster', 'depth_bin', 'CHLA']] \\\n",
    "        .groupby(['cluster', 'depth_bin']).mean().reset_index().dropna()\n",
    "    xnew = np.linspace(0, 1, n_points)\n",
    "    raw_dists = list()\n",
    "    norm_cluster_depths = {\n",
    "        'AR': 14,\n",
    "        'EQ': 18,\n",
    "        'HCB': 23,\n",
    "        'LCB': 23,\n",
    "        'PDCM': 23,\n",
    "        'SDCM': 20\n",
    "    }\n",
    "    if plot_clusters:\n",
    "        fig, ax = plt.subplots(2, 3, figsize=(20, 10), sharey=True)\n",
    "    for i, c in enumerate(np.unique(df_known_dist_binned.cluster)):\n",
    "        ydata = df_known_dist_binned[df_known_dist_binned.cluster == c]['CHLA'].to_numpy()[:norm_cluster_depths[c]]\n",
    "        xdata = np.linspace(0, 1, len(ydata))\n",
    "        fc = interp1d(xdata, ydata, kind='slinear')\n",
    "        ynew = fc(xnew)\n",
    "        raw_dists.append(ynew)\n",
    "        if plot_clusters:\n",
    "            ax[i // 3, i % 3].plot(xnew, ynew, label=c)\n",
    "            ax[i //3, i % 3].legend()\n",
    "    if return_centers:\n",
    "        return np.array(raw_dists)\n",
    "\n",
    "\n",
    "def interpolate_predictions(preds, n_points=25):\n",
    "    '''\n",
    "    interpolate our predictions so we can be on the same\n",
    "    number line as our normalized clusters. this allows us to\n",
    "    do kmeans predictions to help our predictions!\n",
    "    '''\n",
    "    interp_preds = list()\n",
    "    xold = np.linspace(0, 1, preds.shape[1])\n",
    "    xnew = np.linspace(0, 1, n_points)\n",
    "    for p in preds:\n",
    "        fp = interp1d(xold, p, kind='quadratic')\n",
    "        pnew = fp(xnew)\n",
    "        for i, p_l in enumerate(pnew):\n",
    "            if p_l < p[-1]:\n",
    "                pnew[i] = p[-1]\n",
    "        interp_preds.append(pnew)\n",
    "    return pd.DataFrame(np.array(interp_preds), columns=['intpred_' + str(i) for i in range(n_points)])\n",
    "\n",
    "def mix_vals(x1, x2, perc_x1=0.5):\n",
    "    perc_x2 = 1-perc_x1\n",
    "    return (x1*perc_x1) + (x2*perc_x2)\n",
    "\n",
    "\n",
    "def build_final_predictions_kmeans(interpd_preds, kmeans, mixture=0.06, n_points=25):\n",
    "    kmeans_preds = kmeans.predict(interpd_preds)\n",
    "    centers = kmeans.cluster_centers_\n",
    "    final_predictions = list()\n",
    "    for i, int_p in interpd_preds.iterrows():\n",
    "        closest_center = centers[kmeans_preds[i], :]\n",
    "        prediction = mix_vals(closest_center, int_p, perc_x1=mixture)\n",
    "        final_predictions.append(prediction)\n",
    "    return pd.DataFrame(np.array(final_predictions), columns=['fin_pred_' + str(i) for i in range(n_points)])\n",
    "\n",
    "\n",
    "def build_final_predictions_knn(interpd_preds, knn_preds, centers, mapping, mixture=0.06, n_points=25):\n",
    "    final_predictions = list()\n",
    "    for i, int_p in interpd_preds.iterrows():\n",
    "        closest_center = centers[mapping[knn_preds[i]], :]\n",
    "        prediction = mix_vals(closest_center, int_p, perc_x1=mixture)\n",
    "        final_predictions.append(prediction)\n",
    "    return pd.DataFrame(np.array(final_predictions), columns=['fin_pred_' + str(i) for i in range(n_points)])\n",
    "\n",
    "\n",
    "def build_proper_length_distributions(full_test, n_points=25):\n",
    "    interp_dists = list()\n",
    "    xnew = np.linspace(0, 1, n_points)\n",
    "    for i, r in full_test.iterrows():\n",
    "        depths = r.iloc[10:(10 + r.max_bin)+1].to_numpy()\n",
    "        xold = np.linspace(0, 1, len(depths))\n",
    "        fa = interp1d(xold, depths, kind='quadratic')\n",
    "        interp_dist = fa(xnew)\n",
    "        for i, f in enumerate(interp_dist):\n",
    "            if f < depths[-1]:\n",
    "                interp_dist[i] = depths[-1]\n",
    "        interp_dists.append(interp_dist)\n",
    "    return pd.DataFrame(np.array(interp_dists), columns=['int_depth_' + str(i) for i in range(n_points)])"
   ]
  },
  {
   "cell_type": "code",
   "execution_count": 84,
   "metadata": {},
   "outputs": [],
   "source": [
    "# import dataframe\n",
    "df_norm_piv = pd.read_csv('../data/final_norm_set_11.csv')\n",
    "cluster_indeces = ['HCB', 'PDCM', 'EQ', 'LCB', 'AR', 'SDCM']\n",
    "\n",
    "# split data\n",
    "full_train = df_norm_piv[df_norm_piv.train == 1]\n",
    "full_test = df_norm_piv[df_norm_piv.train == 0]\n",
    "\n",
    "# narrow down the features we want\n",
    "X_train = full_train[['latitude', 'longitude', 'date_doy_rad', 'sat_chl_month', 'sat_sst_month', 'sat_pic_month', 'sat_aph_443_month']]\n",
    "X_test = full_test[['latitude', 'longitude', 'date_doy_rad', 'sat_chl_month', 'sat_sst_month', 'sat_pic_month', 'sat_aph_443_month']]\n",
    "# get labels\n",
    "label_bins = [0, 1, 2, 3, 4, 5, 6, 7, 8, 9, 10]\n",
    "Y_train = full_train[['norm_' + str(i) for i in label_bins]]\n",
    "Y_test = full_test[['norm_' + str(i) for i in label_bins]]\n",
    "input_dim = X_train.shape[1]\n",
    "output_dim = Y_train.shape[1]\n",
    "\n",
    "#scale the data\n",
    "scaler = StandardScaler()\n",
    "scaler.fit(X_train)\n",
    "X_train = scaler.transform(X_train)\n",
    "X_test = scaler.transform(X_test)"
   ]
  },
  {
   "cell_type": "code",
   "execution_count": 85,
   "metadata": {},
   "outputs": [
    {
     "name": "stdout",
     "output_type": "stream",
     "text": [
      "Epoch 1/6\n",
      "1418/1418 [==============================] - 7s 4ms/step - loss: 0.0344\n",
      "Epoch 2/6\n",
      "1418/1418 [==============================] - 5s 4ms/step - loss: 0.0250\n",
      "Epoch 3/6\n",
      "1418/1418 [==============================] - 5s 4ms/step - loss: 0.0235\n",
      "Epoch 4/6\n",
      "1418/1418 [==============================] - 6s 4ms/step - loss: 0.0231\n",
      "Epoch 5/6\n",
      "1418/1418 [==============================] - 5s 4ms/step - loss: 0.0221\n",
      "Epoch 6/6\n",
      "1418/1418 [==============================] - 5s 4ms/step - loss: 0.0217\n",
      "1064/1064 [==============================] - 1s 1ms/step\n",
      "260/260 [==============================] - 0s 1ms/step\n",
      "Test MSE: 0.0762\n",
      "Train MSE: 0.0211\n"
     ]
    }
   ],
   "source": [
    "'''\n",
    "# set up the model\n",
    "nn_model = Sequential()\n",
    "\n",
    "nn_model.add(Dense(256, input_dim=input_dim, activation='relu'))\n",
    "nn_model.add(Dropout(0.2))\n",
    "nn_model.add(Dense(144, activation='relu'))\n",
    "nn_model.add(Dropout(0.2))\n",
    "nn_model.add(Dense(64, activation='relu'))\n",
    "nn_model.add(Dropout(0.2))\n",
    "nn_model.add(Dense(output_dim))\n",
    "\n",
    "nn_model.compile(loss='mse', optimizer='adam')\n",
    "\n",
    "# fit the model\n",
    "nn_history = nn_model.fit(X_train, Y_train, epochs=10, batch_size=24, verbose=1)\n",
    "\n",
    "# check our MSE on the 4 prediction points\n",
    "preds = nn_model.predict(X_test)\n",
    "train_pred = nn_model.predict(X_train)\n",
    "'''\n",
    "'''\n",
    "# or try xgb\n",
    "xgb_preds_tr = list()\n",
    "xgb_preds_te = list()\n",
    "for i in range(Y_train.shape[1]):\n",
    "    xgb = XGBRegressor()\n",
    "    xgb.fit(X_train, Y_train['norm_' + str(i)].to_numpy())\n",
    "    xgb_preds_tr.append(xgb.predict(X_train))\n",
    "    xgb_preds_te.append(xgb.predict(X_test))\n",
    "\n",
    "# check our MSE on the 4 prediction points\n",
    "preds = np.array(xgb_preds_te).T\n",
    "train_pred = np.array(xgb_preds_tr).T\n",
    "'''\n",
    "# '''\n",
    "xgb_df = pd.read_csv('../data/xgb_std_inputs_11_preds.csv')\n",
    "train_pred = xgb_df.loc[xgb_df.train == 1, :].set_index(Y_train.index)[xgb_df.columns[xgb_df.columns.str.contains('pred_CHLA')]].to_numpy()\n",
    "preds = xgb_df.loc[xgb_df.train == 0, :].set_index(Y_test.index)[xgb_df.columns[xgb_df.columns.str.contains('pred_CHLA')]].to_numpy()\n",
    "'''\n",
    "'''\n",
    "# add a neural net after xgboost output\n",
    "nn_2 = Sequential()\n",
    "nn_2.add(Dense(144, input_dim=preds.shape[1], activation='relu'))\n",
    "nn_2.add(Dropout(0.2))\n",
    "nn_2.add(Dense(64, activation='relu'))\n",
    "nn_2.add(Dropout(0.2))\n",
    "nn_2.add(Dense(Y_test.shape[1]))\n",
    "nn_2.compile(loss='mse', optimizer='adam')\n",
    "\n",
    "nn_2_history = nn_2.fit(train_pred, Y_train.to_numpy(), epochs=6, batch_size=24, verbose=1)\n",
    "\n",
    "train_pred = nn_2.predict(train_pred)\n",
    "preds = nn_2.predict(preds)\n",
    "# '''\n",
    "actuals = Y_test.to_numpy()\n",
    "train_ac = Y_train.to_numpy()\n",
    "\n",
    "print(f'Test MSE: {mean_squared_error(actuals, preds):.4f}')\n",
    "\n",
    "print(f'Train MSE: {mean_squared_error(train_ac, train_pred):.4f}')\n",
    "\n",
    "# create knn predictions for mixing\n",
    "knn_simp = pickle.load(open('../model_files/knearestneighbors_cluster_classification_simple.pkl', 'rb'))\n",
    "\n",
    "knn_df_tr = full_train[['date_doy_rad', 'latitude', 'longitude']]\n",
    "knn_df_te = full_test[['date_doy_rad', 'latitude', 'longitude']]\n",
    "\n",
    "knn_preds_tr = knn_simp.predict(knn_df_tr.to_numpy())\n",
    "knn_preds_te = knn_simp.predict(knn_df_te.to_numpy())"
   ]
  },
  {
   "cell_type": "code",
   "execution_count": 86,
   "metadata": {},
   "outputs": [
    {
     "name": "stdout",
     "output_type": "stream",
     "text": [
      "WOW NORMALIZED CLUSTERS WOOHOO\n"
     ]
    }
   ],
   "source": [
    "# create our normalized cluster distributions\n",
    "df_known_dist = pd.read_csv('../data/cluster_chla_distribution.csv')\n",
    "print('WOW NORMALIZED CLUSTERS WOOHOO')\n",
    "centers = build_normalized_cluster_centers(df_known_dist, plot_clusters=False)\n",
    "# build mapping for knn model\n",
    "cluster_mapping = {\n",
    "        'AR': 0,\n",
    "        'EQ': 1,\n",
    "        'HCB': 2,\n",
    "        'LCB': 3,\n",
    "        'PDCM': 4,\n",
    "        'SDCM': 5\n",
    "    }\n",
    "# build kmeans for easy cluster prediction\n",
    "kmeans = KMeans(n_clusters=6)\n",
    "kmeans.fit(centers)\n",
    "\n",
    "# make prediction interpolations to match the input dimension in our kmeans algorithm\n",
    "interpd_preds = interpolate_predictions(preds)\n",
    "\n",
    "# using our interpolated predictions and closest kmeans cluster\n",
    "# we can make our final predictions\n",
    "final_predictions = build_final_predictions_knn(interpd_preds, knn_preds=knn_preds_te, centers=centers, mapping=cluster_mapping, mixture=0.05).set_index(full_test.index)\n",
    "\n",
    "# lets check out our actual distributions\n",
    "interp_test_dists = build_proper_length_distributions(full_test).set_index(full_test.index)"
   ]
  },
  {
   "cell_type": "code",
   "execution_count": 87,
   "metadata": {},
   "outputs": [
    {
     "data": {
      "text/plain": [
       "[<matplotlib.lines.Line2D at 0x218703487c0>]"
      ]
     },
     "execution_count": 87,
     "metadata": {},
     "output_type": "execute_result"
    },
    {
     "data": {
      "image/png": "[encoded data removed]",
      "text/plain": [
       "<Figure size 432x288 with 1 Axes>"
      ]
     },
     "metadata": {
      "needs_background": "light"
     },
     "output_type": "display_data"
    }
   ],
   "source": [
    "# now we can check out the mse on the test set\n",
    "interp_test_dists['cluster'] = full_test['cluster_val']\n",
    "mixtures = [i / 100 for i in np.linspace(0, 40, 21)]\n",
    "mixture_mse_tot = list()\n",
    "mixture_mse_perc = list()\n",
    "for mix in mixtures:\n",
    "    # create predictions with a given mixture\n",
    "    final_preds_mix = build_final_predictions_knn(interpd_preds, knn_preds=knn_preds_te, centers=centers, mapping=cluster_mapping, mixture=mix).set_index(full_test.index)\n",
    "    final_preds_mix['cluster'] = full_test['cluster_val']\n",
    "    # find total mse\n",
    "    mse = mean_squared_error(interp_test_dists.to_numpy(), final_preds_mix.to_numpy())\n",
    "    mixture_mse_tot.append(mse)\n",
    "    # find mse per cluster\n",
    "    mixture_mse_perc.append([mean_squared_error(interp_test_dists[interp_test_dists.cluster == i].to_numpy(), final_preds_mix[final_preds_mix.cluster == i].to_numpy()) for i in range(6)] + [mse])\n",
    "plt.plot(mixtures, mixture_mse_tot)"
   ]
  },
  {
   "cell_type": "code",
   "execution_count": 88,
   "metadata": {},
   "outputs": [
    {
     "data": {
      "text/plain": [
       "[<matplotlib.lines.Line2D at 0x2186ed3e850>]"
      ]
     },
     "execution_count": 88,
     "metadata": {},
     "output_type": "execute_result"
    },
    {
     "data": {
      "image/png": "[encoded data removed]",
      "text/plain": [
       "<Figure size 432x288 with 1 Axes>"
      ]
     },
     "metadata": {
      "needs_background": "light"
     },
     "output_type": "display_data"
    }
   ],
   "source": [
    "# now we can check out the mse on the test set\n",
    "interp_test_dists['cluster'] = full_test['cluster_val']\n",
    "mixtures = [i / 100 for i in np.linspace(0, 40, 21)]\n",
    "mixture_mse_tot = list()\n",
    "mixture_mse_perc = list()\n",
    "for mix in mixtures:\n",
    "    # create predictions with a given mixture\n",
    "    final_preds_mix = build_final_predictions_kmeans(interpd_preds, kmeans, mixture=mix).set_index(full_test.index)\n",
    "    final_preds_mix['cluster'] = full_test['cluster_val']\n",
    "    # find total mse\n",
    "    mse = mean_squared_error(interp_test_dists.to_numpy(), final_preds_mix.to_numpy())\n",
    "    mixture_mse_tot.append(mse)\n",
    "    # find mse per cluster\n",
    "    mixture_mse_perc.append([mean_squared_error(interp_test_dists[interp_test_dists.cluster == i].to_numpy(), final_preds_mix[final_preds_mix.cluster == i].to_numpy()) for i in range(6)] + [mse])\n",
    "plt.plot(mixtures, mixture_mse_tot)"
   ]
  },
  {
   "cell_type": "code",
   "execution_count": 89,
   "metadata": {},
   "outputs": [
    {
     "data": {
      "text/plain": [
       "[]"
      ]
     },
     "execution_count": 89,
     "metadata": {},
     "output_type": "execute_result"
    },
    {
     "data": {
      "image/png": "[encoded data removed]",
      "text/plain": [
       "<Figure size 504x360 with 1 Axes>"
      ]
     },
     "metadata": {
      "needs_background": "light"
     },
     "output_type": "display_data"
    }
   ],
   "source": [
    "df_mse = pd.DataFrame(mixture_mse_perc, columns=cluster_indeces + ['TOTAL'], index=mixtures)\n",
    "fig, ax = plt.subplots(1, 1, figsize=(7, 5))\n",
    "sns.barplot(data=df_mse, ax=ax)\n",
    "ax.set_xlabel('Distribution Cluster')\n",
    "ax.set_ylabel('MSE')\n",
    "plt.plot()"
   ]
  },
  {
   "cell_type": "code",
   "execution_count": 90,
   "metadata": {},
   "outputs": [
    {
     "data": {
      "image/png": "[encoded data removed]",
      "text/plain": [
       "<Figure size 360x360 with 1 Axes>"
      ]
     },
     "metadata": {
      "needs_background": "light"
     },
     "output_type": "display_data"
    }
   ],
   "source": [
    "# finally lets check r2 scores on test set\n",
    "fig, ax = plt.subplots(1, 1, figsize=(5, 5))\n",
    "depts = [i/9 for i in range(10)]\n",
    "te_scores = list()\n",
    "tr_scores = list()\n",
    "for i in range(10):\n",
    "    te_scores.append(r2_score(actuals[:, i], preds[:, i]))\n",
    "    tr_scores.append(r2_score(train_ac[:, i], train_pred[:, i]))\n",
    "\n",
    "ax.plot(depts, te_scores, 'y', label='test R2 score')\n",
    "ax.plot(depts, tr_scores, 'r', label='train R2 score')\n",
    "ax.set_xlabel('Fraction of Euphotic Zone Depth')\n",
    "ax.set_ylabel('R2 Score')\n",
    "ax.set_title('R2 Score at Depth in XGB')\n",
    "ax.legend()\n",
    "plt.show()"
   ]
  },
  {
   "cell_type": "code",
   "execution_count": 91,
   "metadata": {},
   "outputs": [
    {
     "data": {
      "text/plain": [
       "0.3131101375063921"
      ]
     },
     "execution_count": 91,
     "metadata": {},
     "output_type": "execute_result"
    }
   ],
   "source": [
    "r2_score(interp_test_dists.iloc[:, :25], final_predictions)"
   ]
  },
  {
   "cell_type": "code",
   "execution_count": 92,
   "metadata": {},
   "outputs": [
    {
     "data": {
      "text/plain": [
       "0.3266400403710618"
      ]
     },
     "execution_count": 92,
     "metadata": {},
     "output_type": "execute_result"
    }
   ],
   "source": [
    "np.mean(te_scores)"
   ]
  },
  {
   "cell_type": "code",
   "execution_count": 93,
   "metadata": {},
   "outputs": [
    {
     "data": {
      "text/plain": [
       "0.6971404074173408"
      ]
     },
     "execution_count": 93,
     "metadata": {},
     "output_type": "execute_result"
    }
   ],
   "source": [
    "np.mean(tr_scores)"
   ]
  }
 ],
 "metadata": {
  "kernelspec": {
   "display_name": "Python 3.9.12 ('tf-gpu')",
   "language": "python",
   "name": "python3"
  },
  "language_info": {
   "codemirror_mode": {
    "name": "ipython",
    "version": 3
   },
   "file_extension": ".py",
   "mimetype": "text/x-python",
   "name": "python",
   "nbconvert_exporter": "python",
   "pygments_lexer": "ipython3",
   "version": "3.9.12"
  },
  "orig_nbformat": 4,
  "vscode": {
   "interpreter": {
    "hash": "1c9ece6d5e3a61ef188a80f993fe2bc31561efaaa1bfc5da7794f01208afce4e"
   }
  }
 },
 "nbformat": 4,
 "nbformat_minor": 2
}

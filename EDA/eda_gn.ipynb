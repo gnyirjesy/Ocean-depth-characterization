{
 "cells": [
  {
   "cell_type": "markdown",
   "metadata": {},
   "source": [
    "# Exploratory Data Analysis - Gabrielle Nyirjesy\n",
    "## Data Import and Initial Analysis"
   ]
  },
  {
   "cell_type": "code",
   "execution_count": 1,
   "metadata": {},
   "outputs": [],
   "source": [
    "# Read in packages\n",
    "import pandas as pd\n",
    "import numpy as np\n",
    "import matplotlib.pyplot as plt\n",
    "from datetime import datetime\n",
    "\n",
    "from statsmodels.tsa.seasonal import seasonal_decompose"
   ]
  },
  {
   "cell_type": "code",
   "execution_count": 2,
   "metadata": {},
   "outputs": [
    {
     "data": {
      "text/html": [
       "<div>\n",
       "<style scoped>\n",
       "    .dataframe tbody tr th:only-of-type {\n",
       "        vertical-align: middle;\n",
       "    }\n",
       "\n",
       "    .dataframe tbody tr th {\n",
       "        vertical-align: top;\n",
       "    }\n",
       "\n",
       "    .dataframe thead th {\n",
       "        text-align: right;\n",
       "    }\n",
       "</style>\n",
       "<table border=\"1\" class=\"dataframe\">\n",
       "  <thead>\n",
       "    <tr style=\"text-align: right;\">\n",
       "      <th></th>\n",
       "      <th>float</th>\n",
       "      <th>cycleNumber</th>\n",
       "      <th>date</th>\n",
       "      <th>PRES</th>\n",
       "      <th>PSAL</th>\n",
       "      <th>TEMP</th>\n",
       "      <th>BBP700</th>\n",
       "      <th>CHLA</th>\n",
       "    </tr>\n",
       "  </thead>\n",
       "  <tbody>\n",
       "    <tr>\n",
       "      <th>0</th>\n",
       "      <td>1902303</td>\n",
       "      <td>1</td>\n",
       "      <td>2021-05-06 02:03:16</td>\n",
       "      <td>3</td>\n",
       "      <td>35.539001</td>\n",
       "      <td>12.378333</td>\n",
       "      <td>0.001788</td>\n",
       "      <td>0.695875</td>\n",
       "    </tr>\n",
       "    <tr>\n",
       "      <th>1</th>\n",
       "      <td>1902303</td>\n",
       "      <td>1</td>\n",
       "      <td>2021-05-06 02:03:16</td>\n",
       "      <td>4</td>\n",
       "      <td>35.539001</td>\n",
       "      <td>12.378333</td>\n",
       "      <td>0.001788</td>\n",
       "      <td>0.695875</td>\n",
       "    </tr>\n",
       "    <tr>\n",
       "      <th>2</th>\n",
       "      <td>1902303</td>\n",
       "      <td>1</td>\n",
       "      <td>2021-05-06 02:03:16</td>\n",
       "      <td>6</td>\n",
       "      <td>35.539001</td>\n",
       "      <td>12.378667</td>\n",
       "      <td>0.001788</td>\n",
       "      <td>0.696499</td>\n",
       "    </tr>\n",
       "    <tr>\n",
       "      <th>3</th>\n",
       "      <td>1902303</td>\n",
       "      <td>1</td>\n",
       "      <td>2021-05-06 02:03:16</td>\n",
       "      <td>8</td>\n",
       "      <td>35.539001</td>\n",
       "      <td>12.379000</td>\n",
       "      <td>0.001789</td>\n",
       "      <td>0.716489</td>\n",
       "    </tr>\n",
       "    <tr>\n",
       "      <th>4</th>\n",
       "      <td>1902303</td>\n",
       "      <td>1</td>\n",
       "      <td>2021-05-06 02:03:16</td>\n",
       "      <td>10</td>\n",
       "      <td>35.539001</td>\n",
       "      <td>12.379000</td>\n",
       "      <td>0.001790</td>\n",
       "      <td>0.715552</td>\n",
       "    </tr>\n",
       "  </tbody>\n",
       "</table>\n",
       "</div>"
      ],
      "text/plain": [
       "     float  cycleNumber                 date  PRES       PSAL       TEMP  \\\n",
       "0  1902303            1  2021-05-06 02:03:16     3  35.539001  12.378333   \n",
       "1  1902303            1  2021-05-06 02:03:16     4  35.539001  12.378333   \n",
       "2  1902303            1  2021-05-06 02:03:16     6  35.539001  12.378667   \n",
       "3  1902303            1  2021-05-06 02:03:16     8  35.539001  12.379000   \n",
       "4  1902303            1  2021-05-06 02:03:16    10  35.539001  12.379000   \n",
       "\n",
       "     BBP700      CHLA  \n",
       "0  0.001788  0.695875  \n",
       "1  0.001788  0.695875  \n",
       "2  0.001788  0.696499  \n",
       "3  0.001789  0.716489  \n",
       "4  0.001790  0.715552  "
      ]
     },
     "execution_count": 2,
     "metadata": {},
     "output_type": "execute_result"
    }
   ],
   "source": [
    "#Read in data\n",
    "profile = pd.read_csv(\"../../data/profileData.csv\")\n",
    "profile.head()"
   ]
  },
  {
   "cell_type": "code",
   "execution_count": 3,
   "metadata": {},
   "outputs": [
    {
     "data": {
      "text/html": [
       "<div>\n",
       "<style scoped>\n",
       "    .dataframe tbody tr th:only-of-type {\n",
       "        vertical-align: middle;\n",
       "    }\n",
       "\n",
       "    .dataframe tbody tr th {\n",
       "        vertical-align: top;\n",
       "    }\n",
       "\n",
       "    .dataframe thead th {\n",
       "        text-align: right;\n",
       "    }\n",
       "</style>\n",
       "<table border=\"1\" class=\"dataframe\">\n",
       "  <thead>\n",
       "    <tr style=\"text-align: right;\">\n",
       "      <th></th>\n",
       "      <th>float</th>\n",
       "      <th>cycleNumber</th>\n",
       "      <th>date</th>\n",
       "      <th>latitude</th>\n",
       "      <th>longitude</th>\n",
       "      <th>elevation</th>\n",
       "      <th>MO_SAT_SST</th>\n",
       "      <th>MO_SAT_CHL</th>\n",
       "      <th>MO_SAT_BBP</th>\n",
       "      <th>LT_SAT_SST_SD</th>\n",
       "      <th>LT_SAT_SST_MED</th>\n",
       "      <th>LT_SAT_CHL_SD</th>\n",
       "      <th>LT_SAT_CHL_MED</th>\n",
       "      <th>LT_SAT_BBP_SD</th>\n",
       "      <th>LT_SAT_BBP_MED</th>\n",
       "    </tr>\n",
       "  </thead>\n",
       "  <tbody>\n",
       "    <tr>\n",
       "      <th>0</th>\n",
       "      <td>1902303</td>\n",
       "      <td>1</td>\n",
       "      <td>2021-05-06 02:03:16</td>\n",
       "      <td>49.236</td>\n",
       "      <td>-14.742</td>\n",
       "      <td>-4539.0</td>\n",
       "      <td>12.451869</td>\n",
       "      <td>0.435093</td>\n",
       "      <td>0.003340</td>\n",
       "      <td>2.156995</td>\n",
       "      <td>12.796509</td>\n",
       "      <td>0.253809</td>\n",
       "      <td>0.401662</td>\n",
       "      <td>0.000819</td>\n",
       "      <td>0.002213</td>\n",
       "    </tr>\n",
       "    <tr>\n",
       "      <th>1</th>\n",
       "      <td>1902303</td>\n",
       "      <td>2</td>\n",
       "      <td>2021-05-06 19:32:57</td>\n",
       "      <td>49.096</td>\n",
       "      <td>-14.617</td>\n",
       "      <td>-4612.0</td>\n",
       "      <td>12.466026</td>\n",
       "      <td>0.782180</td>\n",
       "      <td>0.003081</td>\n",
       "      <td>2.214400</td>\n",
       "      <td>12.673785</td>\n",
       "      <td>0.222806</td>\n",
       "      <td>0.398969</td>\n",
       "      <td>0.000793</td>\n",
       "      <td>0.002114</td>\n",
       "    </tr>\n",
       "    <tr>\n",
       "      <th>2</th>\n",
       "      <td>1902303</td>\n",
       "      <td>3</td>\n",
       "      <td>2021-05-07 20:05:38</td>\n",
       "      <td>48.914</td>\n",
       "      <td>-14.606</td>\n",
       "      <td>-4700.0</td>\n",
       "      <td>12.424099</td>\n",
       "      <td>0.458020</td>\n",
       "      <td>0.003185</td>\n",
       "      <td>2.211703</td>\n",
       "      <td>12.808284</td>\n",
       "      <td>0.279028</td>\n",
       "      <td>0.428079</td>\n",
       "      <td>0.000752</td>\n",
       "      <td>0.002105</td>\n",
       "    </tr>\n",
       "    <tr>\n",
       "      <th>3</th>\n",
       "      <td>1902303</td>\n",
       "      <td>4</td>\n",
       "      <td>2021-05-08 22:42:52</td>\n",
       "      <td>48.794</td>\n",
       "      <td>-14.689</td>\n",
       "      <td>-4753.0</td>\n",
       "      <td>12.374519</td>\n",
       "      <td>0.378064</td>\n",
       "      <td>0.001767</td>\n",
       "      <td>2.200517</td>\n",
       "      <td>13.010804</td>\n",
       "      <td>0.278832</td>\n",
       "      <td>0.422287</td>\n",
       "      <td>0.000679</td>\n",
       "      <td>0.002087</td>\n",
       "    </tr>\n",
       "    <tr>\n",
       "      <th>4</th>\n",
       "      <td>1902303</td>\n",
       "      <td>5</td>\n",
       "      <td>2021-05-09 20:29:00</td>\n",
       "      <td>48.719</td>\n",
       "      <td>-14.795</td>\n",
       "      <td>-4765.0</td>\n",
       "      <td>12.204494</td>\n",
       "      <td>0.411479</td>\n",
       "      <td>0.001677</td>\n",
       "      <td>2.232417</td>\n",
       "      <td>12.931680</td>\n",
       "      <td>0.334429</td>\n",
       "      <td>0.419105</td>\n",
       "      <td>0.000776</td>\n",
       "      <td>0.002090</td>\n",
       "    </tr>\n",
       "  </tbody>\n",
       "</table>\n",
       "</div>"
      ],
      "text/plain": [
       "     float  cycleNumber                 date  latitude  longitude  elevation  \\\n",
       "0  1902303            1  2021-05-06 02:03:16    49.236    -14.742    -4539.0   \n",
       "1  1902303            2  2021-05-06 19:32:57    49.096    -14.617    -4612.0   \n",
       "2  1902303            3  2021-05-07 20:05:38    48.914    -14.606    -4700.0   \n",
       "3  1902303            4  2021-05-08 22:42:52    48.794    -14.689    -4753.0   \n",
       "4  1902303            5  2021-05-09 20:29:00    48.719    -14.795    -4765.0   \n",
       "\n",
       "   MO_SAT_SST  MO_SAT_CHL  MO_SAT_BBP  LT_SAT_SST_SD  LT_SAT_SST_MED  \\\n",
       "0   12.451869    0.435093    0.003340       2.156995       12.796509   \n",
       "1   12.466026    0.782180    0.003081       2.214400       12.673785   \n",
       "2   12.424099    0.458020    0.003185       2.211703       12.808284   \n",
       "3   12.374519    0.378064    0.001767       2.200517       13.010804   \n",
       "4   12.204494    0.411479    0.001677       2.232417       12.931680   \n",
       "\n",
       "   LT_SAT_CHL_SD  LT_SAT_CHL_MED  LT_SAT_BBP_SD  LT_SAT_BBP_MED  \n",
       "0       0.253809        0.401662       0.000819        0.002213  \n",
       "1       0.222806        0.398969       0.000793        0.002114  \n",
       "2       0.279028        0.428079       0.000752        0.002105  \n",
       "3       0.278832        0.422287       0.000679        0.002087  \n",
       "4       0.334429        0.419105       0.000776        0.002090  "
      ]
     },
     "execution_count": 3,
     "metadata": {},
     "output_type": "execute_result"
    }
   ],
   "source": [
    "satData = pd.read_csv(\"../../data/satData.csv\")\n",
    "satData.head()"
   ]
  },
  {
   "cell_type": "code",
   "execution_count": 4,
   "metadata": {},
   "outputs": [
    {
     "data": {
      "text/html": [
       "<div>\n",
       "<style scoped>\n",
       "    .dataframe tbody tr th:only-of-type {\n",
       "        vertical-align: middle;\n",
       "    }\n",
       "\n",
       "    .dataframe tbody tr th {\n",
       "        vertical-align: top;\n",
       "    }\n",
       "\n",
       "    .dataframe thead th {\n",
       "        text-align: right;\n",
       "    }\n",
       "</style>\n",
       "<table border=\"1\" class=\"dataframe\">\n",
       "  <thead>\n",
       "    <tr style=\"text-align: right;\">\n",
       "      <th></th>\n",
       "      <th>float</th>\n",
       "      <th>date</th>\n",
       "      <th>latitude</th>\n",
       "      <th>longitude</th>\n",
       "    </tr>\n",
       "  </thead>\n",
       "  <tbody>\n",
       "    <tr>\n",
       "      <th>0</th>\n",
       "      <td>1902303</td>\n",
       "      <td>2021-05-06 02:03:16</td>\n",
       "      <td>49.236</td>\n",
       "      <td>-14.742</td>\n",
       "    </tr>\n",
       "    <tr>\n",
       "      <th>1</th>\n",
       "      <td>1902303</td>\n",
       "      <td>2021-05-06 19:32:57</td>\n",
       "      <td>49.096</td>\n",
       "      <td>-14.617</td>\n",
       "    </tr>\n",
       "    <tr>\n",
       "      <th>2</th>\n",
       "      <td>1902303</td>\n",
       "      <td>2021-05-07 20:05:38</td>\n",
       "      <td>48.914</td>\n",
       "      <td>-14.606</td>\n",
       "    </tr>\n",
       "    <tr>\n",
       "      <th>3</th>\n",
       "      <td>1902303</td>\n",
       "      <td>2021-05-08 22:42:52</td>\n",
       "      <td>48.794</td>\n",
       "      <td>-14.689</td>\n",
       "    </tr>\n",
       "    <tr>\n",
       "      <th>4</th>\n",
       "      <td>1902303</td>\n",
       "      <td>2021-05-09 20:29:00</td>\n",
       "      <td>48.719</td>\n",
       "      <td>-14.795</td>\n",
       "    </tr>\n",
       "  </tbody>\n",
       "</table>\n",
       "</div>"
      ],
      "text/plain": [
       "     float                 date  latitude  longitude\n",
       "0  1902303  2021-05-06 02:03:16    49.236    -14.742\n",
       "1  1902303  2021-05-06 19:32:57    49.096    -14.617\n",
       "2  1902303  2021-05-07 20:05:38    48.914    -14.606\n",
       "3  1902303  2021-05-08 22:42:52    48.794    -14.689\n",
       "4  1902303  2021-05-09 20:29:00    48.719    -14.795"
      ]
     },
     "execution_count": 4,
     "metadata": {},
     "output_type": "execute_result"
    }
   ],
   "source": [
    "globalFloatData = pd.read_csv(\"../../data/globalFloatData.csv\")\n",
    "globalFloatData.head()"
   ]
  },
  {
   "cell_type": "code",
   "execution_count": 5,
   "metadata": {},
   "outputs": [
    {
     "data": {
      "text/html": [
       "<div>\n",
       "<style scoped>\n",
       "    .dataframe tbody tr th:only-of-type {\n",
       "        vertical-align: middle;\n",
       "    }\n",
       "\n",
       "    .dataframe tbody tr th {\n",
       "        vertical-align: top;\n",
       "    }\n",
       "\n",
       "    .dataframe thead th {\n",
       "        text-align: right;\n",
       "    }\n",
       "</style>\n",
       "<table border=\"1\" class=\"dataframe\">\n",
       "  <thead>\n",
       "    <tr style=\"text-align: right;\">\n",
       "      <th></th>\n",
       "      <th>date</th>\n",
       "      <th>date_adj</th>\n",
       "      <th>basin</th>\n",
       "      <th>float</th>\n",
       "      <th>cycleNumber</th>\n",
       "      <th>longitude</th>\n",
       "      <th>latitude</th>\n",
       "      <th>elevation</th>\n",
       "      <th>shift</th>\n",
       "      <th>PRES</th>\n",
       "      <th>...</th>\n",
       "      <th>DOXY</th>\n",
       "      <th>PSAL</th>\n",
       "      <th>TEMP</th>\n",
       "      <th>jDay</th>\n",
       "      <th>timeseries</th>\n",
       "      <th>floatID</th>\n",
       "      <th>minJday</th>\n",
       "      <th>maxJday</th>\n",
       "      <th>maxDiff</th>\n",
       "      <th>perCoastal</th>\n",
       "    </tr>\n",
       "  </thead>\n",
       "  <tbody>\n",
       "    <tr>\n",
       "      <th>0</th>\n",
       "      <td>2014-03-10 11:25:00</td>\n",
       "      <td>2014-03-10 11:25:00</td>\n",
       "      <td>Arabian</td>\n",
       "      <td>2902120</td>\n",
       "      <td>1</td>\n",
       "      <td>67.574073</td>\n",
       "      <td>14.979008</td>\n",
       "      <td>-3953</td>\n",
       "      <td>0</td>\n",
       "      <td>1</td>\n",
       "      <td>...</td>\n",
       "      <td>204.074387</td>\n",
       "      <td>36.477667</td>\n",
       "      <td>27.612666</td>\n",
       "      <td>69</td>\n",
       "      <td>1</td>\n",
       "      <td>2902120_1</td>\n",
       "      <td>69</td>\n",
       "      <td>359</td>\n",
       "      <td>10</td>\n",
       "      <td>0</td>\n",
       "    </tr>\n",
       "    <tr>\n",
       "      <th>1</th>\n",
       "      <td>2014-03-10 11:25:00</td>\n",
       "      <td>2014-03-10 11:25:00</td>\n",
       "      <td>Arabian</td>\n",
       "      <td>2902120</td>\n",
       "      <td>1</td>\n",
       "      <td>67.574073</td>\n",
       "      <td>14.979008</td>\n",
       "      <td>-3953</td>\n",
       "      <td>0</td>\n",
       "      <td>10</td>\n",
       "      <td>...</td>\n",
       "      <td>204.189794</td>\n",
       "      <td>36.485334</td>\n",
       "      <td>27.246667</td>\n",
       "      <td>69</td>\n",
       "      <td>1</td>\n",
       "      <td>2902120_1</td>\n",
       "      <td>69</td>\n",
       "      <td>359</td>\n",
       "      <td>10</td>\n",
       "      <td>0</td>\n",
       "    </tr>\n",
       "    <tr>\n",
       "      <th>2</th>\n",
       "      <td>2014-03-10 11:25:00</td>\n",
       "      <td>2014-03-10 11:25:00</td>\n",
       "      <td>Arabian</td>\n",
       "      <td>2902120</td>\n",
       "      <td>1</td>\n",
       "      <td>67.574073</td>\n",
       "      <td>14.979008</td>\n",
       "      <td>-3953</td>\n",
       "      <td>0</td>\n",
       "      <td>102</td>\n",
       "      <td>...</td>\n",
       "      <td>33.288569</td>\n",
       "      <td>35.854167</td>\n",
       "      <td>23.052499</td>\n",
       "      <td>69</td>\n",
       "      <td>1</td>\n",
       "      <td>2902120_1</td>\n",
       "      <td>69</td>\n",
       "      <td>359</td>\n",
       "      <td>10</td>\n",
       "      <td>0</td>\n",
       "    </tr>\n",
       "    <tr>\n",
       "      <th>3</th>\n",
       "      <td>2014-03-10 11:25:00</td>\n",
       "      <td>2014-03-10 11:25:00</td>\n",
       "      <td>Arabian</td>\n",
       "      <td>2902120</td>\n",
       "      <td>1</td>\n",
       "      <td>67.574073</td>\n",
       "      <td>14.979008</td>\n",
       "      <td>-3953</td>\n",
       "      <td>0</td>\n",
       "      <td>103</td>\n",
       "      <td>...</td>\n",
       "      <td>28.155571</td>\n",
       "      <td>35.837334</td>\n",
       "      <td>22.889666</td>\n",
       "      <td>69</td>\n",
       "      <td>1</td>\n",
       "      <td>2902120_1</td>\n",
       "      <td>69</td>\n",
       "      <td>359</td>\n",
       "      <td>10</td>\n",
       "      <td>0</td>\n",
       "    </tr>\n",
       "    <tr>\n",
       "      <th>4</th>\n",
       "      <td>2014-03-10 11:25:00</td>\n",
       "      <td>2014-03-10 11:25:00</td>\n",
       "      <td>Arabian</td>\n",
       "      <td>2902120</td>\n",
       "      <td>1</td>\n",
       "      <td>67.574073</td>\n",
       "      <td>14.979008</td>\n",
       "      <td>-3953</td>\n",
       "      <td>0</td>\n",
       "      <td>108</td>\n",
       "      <td>...</td>\n",
       "      <td>23.022574</td>\n",
       "      <td>35.773333</td>\n",
       "      <td>22.395333</td>\n",
       "      <td>69</td>\n",
       "      <td>1</td>\n",
       "      <td>2902120_1</td>\n",
       "      <td>69</td>\n",
       "      <td>359</td>\n",
       "      <td>10</td>\n",
       "      <td>0</td>\n",
       "    </tr>\n",
       "  </tbody>\n",
       "</table>\n",
       "<p>5 rows × 28 columns</p>\n",
       "</div>"
      ],
      "text/plain": [
       "                  date             date_adj    basin    float  cycleNumber  \\\n",
       "0  2014-03-10 11:25:00  2014-03-10 11:25:00  Arabian  2902120            1   \n",
       "1  2014-03-10 11:25:00  2014-03-10 11:25:00  Arabian  2902120            1   \n",
       "2  2014-03-10 11:25:00  2014-03-10 11:25:00  Arabian  2902120            1   \n",
       "3  2014-03-10 11:25:00  2014-03-10 11:25:00  Arabian  2902120            1   \n",
       "4  2014-03-10 11:25:00  2014-03-10 11:25:00  Arabian  2902120            1   \n",
       "\n",
       "   longitude   latitude  elevation  shift  PRES  ...        DOXY       PSAL  \\\n",
       "0  67.574073  14.979008      -3953      0     1  ...  204.074387  36.477667   \n",
       "1  67.574073  14.979008      -3953      0    10  ...  204.189794  36.485334   \n",
       "2  67.574073  14.979008      -3953      0   102  ...   33.288569  35.854167   \n",
       "3  67.574073  14.979008      -3953      0   103  ...   28.155571  35.837334   \n",
       "4  67.574073  14.979008      -3953      0   108  ...   23.022574  35.773333   \n",
       "\n",
       "        TEMP  jDay  timeseries    floatID  minJday  maxJday  maxDiff  \\\n",
       "0  27.612666    69           1  2902120_1       69      359       10   \n",
       "1  27.246667    69           1  2902120_1       69      359       10   \n",
       "2  23.052499    69           1  2902120_1       69      359       10   \n",
       "3  22.889666    69           1  2902120_1       69      359       10   \n",
       "4  22.395333    69           1  2902120_1       69      359       10   \n",
       "\n",
       "   perCoastal  \n",
       "0           0  \n",
       "1           0  \n",
       "2           0  \n",
       "3           0  \n",
       "4           0  \n",
       "\n",
       "[5 rows x 28 columns]"
      ]
     },
     "execution_count": 5,
     "metadata": {},
     "output_type": "execute_result"
    }
   ],
   "source": [
    "df_2902120 = pd.read_csv(\"../../data/2902120.csv\")\n",
    "df_2902120.head()\n"
   ]
  },
  {
   "cell_type": "code",
   "execution_count": 6,
   "metadata": {},
   "outputs": [
    {
     "data": {
      "text/html": [
       "<div>\n",
       "<style scoped>\n",
       "    .dataframe tbody tr th:only-of-type {\n",
       "        vertical-align: middle;\n",
       "    }\n",
       "\n",
       "    .dataframe tbody tr th {\n",
       "        vertical-align: top;\n",
       "    }\n",
       "\n",
       "    .dataframe thead th {\n",
       "        text-align: right;\n",
       "    }\n",
       "</style>\n",
       "<table border=\"1\" class=\"dataframe\">\n",
       "  <thead>\n",
       "    <tr style=\"text-align: right;\">\n",
       "      <th></th>\n",
       "      <th>jDay</th>\n",
       "      <th>PRES</th>\n",
       "      <th>CHLA</th>\n",
       "    </tr>\n",
       "  </thead>\n",
       "  <tbody>\n",
       "    <tr>\n",
       "      <th>0</th>\n",
       "      <td>1</td>\n",
       "      <td>0</td>\n",
       "      <td>0.546405</td>\n",
       "    </tr>\n",
       "    <tr>\n",
       "      <th>1</th>\n",
       "      <td>1</td>\n",
       "      <td>1</td>\n",
       "      <td>0.546405</td>\n",
       "    </tr>\n",
       "    <tr>\n",
       "      <th>2</th>\n",
       "      <td>1</td>\n",
       "      <td>2</td>\n",
       "      <td>0.546405</td>\n",
       "    </tr>\n",
       "    <tr>\n",
       "      <th>3</th>\n",
       "      <td>1</td>\n",
       "      <td>3</td>\n",
       "      <td>0.546405</td>\n",
       "    </tr>\n",
       "    <tr>\n",
       "      <th>4</th>\n",
       "      <td>1</td>\n",
       "      <td>4</td>\n",
       "      <td>0.546405</td>\n",
       "    </tr>\n",
       "  </tbody>\n",
       "</table>\n",
       "</div>"
      ],
      "text/plain": [
       "   jDay  PRES      CHLA\n",
       "0     1     0  0.546405\n",
       "1     1     1  0.546405\n",
       "2     1     2  0.546405\n",
       "3     1     3  0.546405\n",
       "4     1     4  0.546405"
      ]
     },
     "execution_count": 6,
     "metadata": {},
     "output_type": "execute_result"
    }
   ],
   "source": [
    "df_2902120_interp = pd.read_csv(\"../../data/2902120_interp.csv\")\n",
    "df_2902120_interp.head()"
   ]
  },
  {
   "cell_type": "markdown",
   "metadata": {},
   "source": [
    "### Connections"
   ]
  },
  {
   "cell_type": "code",
   "execution_count": 7,
   "metadata": {},
   "outputs": [
    {
     "data": {
      "text/plain": [
       "(29540, 28)"
      ]
     },
     "execution_count": 7,
     "metadata": {},
     "output_type": "execute_result"
    }
   ],
   "source": [
    "df_2902120.shape"
   ]
  },
  {
   "cell_type": "code",
   "execution_count": 8,
   "metadata": {},
   "outputs": [
    {
     "data": {
      "text/plain": [
       "(37469410, 8)"
      ]
     },
     "execution_count": 8,
     "metadata": {},
     "output_type": "execute_result"
    }
   ],
   "source": [
    "profile.shape"
   ]
  },
  {
   "cell_type": "code",
   "execution_count": 9,
   "metadata": {},
   "outputs": [
    {
     "data": {
      "text/plain": [
       "29540"
      ]
     },
     "execution_count": 9,
     "metadata": {},
     "output_type": "execute_result"
    }
   ],
   "source": [
    "profile['float'].value_counts()[2902120]\n",
    "#The 2902120 dataset is a subset of the float profiles dataset"
   ]
  },
  {
   "cell_type": "markdown",
   "metadata": {},
   "source": [
    "### Examine profiles data"
   ]
  },
  {
   "cell_type": "code",
   "execution_count": 10,
   "metadata": {},
   "outputs": [
    {
     "data": {
      "text/plain": [
       "569"
      ]
     },
     "execution_count": 10,
     "metadata": {},
     "output_type": "execute_result"
    }
   ],
   "source": [
    "#Find the number of floats\n",
    "profile['float'].nunique()"
   ]
  },
  {
   "cell_type": "code",
   "execution_count": 11,
   "metadata": {},
   "outputs": [
    {
     "name": "stdout",
     "output_type": "stream",
     "text": [
      "2010-06-01 16:28:06\n",
      "2022-05-23 11:34:00\n"
     ]
    }
   ],
   "source": [
    "# Does each float encompass the whole time period\n",
    "print(profile['date'].min())\n",
    "print(profile['date'].max())"
   ]
  },
  {
   "cell_type": "code",
   "execution_count": 12,
   "metadata": {},
   "outputs": [
    {
     "data": {
      "text/plain": [
       "65851.33567662566"
      ]
     },
     "execution_count": 12,
     "metadata": {},
     "output_type": "execute_result"
    }
   ],
   "source": [
    "profile['float'].value_counts().mean()\n",
    "#On average, there are 65851 measurements for each flot"
   ]
  },
  {
   "cell_type": "code",
   "execution_count": 13,
   "metadata": {},
   "outputs": [
    {
     "data": {
      "text/plain": [
       "float            int64\n",
       "cycleNumber      int64\n",
       "date            object\n",
       "PRES             int64\n",
       "PSAL           float64\n",
       "TEMP           float64\n",
       "BBP700         float64\n",
       "CHLA           float64\n",
       "dtype: object"
      ]
     },
     "execution_count": 13,
     "metadata": {},
     "output_type": "execute_result"
    }
   ],
   "source": [
    "profile.dtypes"
   ]
  },
  {
   "cell_type": "code",
   "execution_count": 14,
   "metadata": {},
   "outputs": [],
   "source": [
    "#convert date column to datetime object\n",
    "profile['date'] = pd.to_datetime(profile['date'])"
   ]
  },
  {
   "cell_type": "code",
   "execution_count": 15,
   "metadata": {},
   "outputs": [
    {
     "data": {
      "text/plain": [
       "float                   int64\n",
       "cycleNumber             int64\n",
       "date           datetime64[ns]\n",
       "PRES                    int64\n",
       "PSAL                  float64\n",
       "TEMP                  float64\n",
       "BBP700                float64\n",
       "CHLA                  float64\n",
       "dtype: object"
      ]
     },
     "execution_count": 15,
     "metadata": {},
     "output_type": "execute_result"
    }
   ],
   "source": [
    "profile.dtypes"
   ]
  },
  {
   "cell_type": "code",
   "execution_count": 16,
   "metadata": {},
   "outputs": [],
   "source": [
    "profile['year'] = pd.DatetimeIndex(profile['date']).year"
   ]
  },
  {
   "cell_type": "code",
   "execution_count": 17,
   "metadata": {},
   "outputs": [
    {
     "data": {
      "image/png": "[encoded data removed]",
      "text/plain": [
       "<Figure size 640x480 with 1 Axes>"
      ]
     },
     "metadata": {},
     "output_type": "display_data"
    }
   ],
   "source": [
    "#How many floats have measurements each year?\n",
    "year_count = profile[['year','float']].groupby('year').nunique()\n",
    "year_count.plot(kind='bar', legend=None)\n",
    "_ = plt.xlabel('Year')\n",
    "_ = plt.ylabel('Number of Floats')\n",
    "_ = plt.title('Number of Floats with Measurements each Year')\n",
    "plt.show()"
   ]
  },
  {
   "cell_type": "code",
   "execution_count": 18,
   "metadata": {},
   "outputs": [
    {
     "data": {
      "text/plain": [
       "3901498    329728\n",
       "6901183    328520\n",
       "6902735    323890\n",
       "6901492    323848\n",
       "3901531    311602\n",
       "            ...  \n",
       "5904764       508\n",
       "2902113       497\n",
       "5905074       488\n",
       "2902161       281\n",
       "6900877        51\n",
       "Name: float, Length: 569, dtype: int64"
      ]
     },
     "execution_count": 18,
     "metadata": {},
     "output_type": "execute_result"
    }
   ],
   "source": [
    "profile['float'].value_counts()"
   ]
  },
  {
   "cell_type": "code",
   "execution_count": 19,
   "metadata": {},
   "outputs": [
    {
     "data": {
      "text/plain": [
       "<matplotlib.collections.PathCollection at 0x159f628f0>"
      ]
     },
     "execution_count": 19,
     "metadata": {},
     "output_type": "execute_result"
    },
    {
     "data": {
      "image/png": "[encoded data removed]",
      "text/plain": [
       "<Figure size 640x480 with 1 Axes>"
      ]
     },
     "metadata": {},
     "output_type": "display_data"
    }
   ],
   "source": [
    "plt.scatter(profile['date'],profile['CHLA'])"
   ]
  },
  {
   "cell_type": "code",
   "execution_count": 20,
   "metadata": {},
   "outputs": [],
   "source": [
    "profile_subset = profile[profile['float'].isin(list(profile['float'].value_counts().reset_index()['index'][0:1]))]"
   ]
  },
  {
   "cell_type": "code",
   "execution_count": 21,
   "metadata": {},
   "outputs": [
    {
     "data": {
      "text/plain": [
       "[<matplotlib.lines.Line2D at 0x15b3dd420>]"
      ]
     },
     "execution_count": 21,
     "metadata": {},
     "output_type": "execute_result"
    },
    {
     "data": {
      "image/png": "[encoded data removed]",
      "text/plain": [
       "<Figure size 640x480 with 1 Axes>"
      ]
     },
     "metadata": {},
     "output_type": "display_data"
    }
   ],
   "source": [
    "plt.plot(profile_subset['date'],profile_subset['CHLA'])"
   ]
  },
  {
   "cell_type": "code",
   "execution_count": 22,
   "metadata": {},
   "outputs": [
    {
     "data": {
      "text/html": [
       "<div>\n",
       "<style scoped>\n",
       "    .dataframe tbody tr th:only-of-type {\n",
       "        vertical-align: middle;\n",
       "    }\n",
       "\n",
       "    .dataframe tbody tr th {\n",
       "        vertical-align: top;\n",
       "    }\n",
       "\n",
       "    .dataframe thead th {\n",
       "        text-align: right;\n",
       "    }\n",
       "</style>\n",
       "<table border=\"1\" class=\"dataframe\">\n",
       "  <thead>\n",
       "    <tr style=\"text-align: right;\">\n",
       "      <th></th>\n",
       "      <th>float</th>\n",
       "      <th>cycleNumber</th>\n",
       "      <th>date</th>\n",
       "      <th>PRES</th>\n",
       "      <th>PSAL</th>\n",
       "      <th>TEMP</th>\n",
       "      <th>BBP700</th>\n",
       "      <th>CHLA</th>\n",
       "      <th>year</th>\n",
       "    </tr>\n",
       "  </thead>\n",
       "  <tbody>\n",
       "    <tr>\n",
       "      <th>3059339</th>\n",
       "      <td>3901498</td>\n",
       "      <td>1</td>\n",
       "      <td>2014-10-26 11:31:00</td>\n",
       "      <td>1</td>\n",
       "      <td>35.217971</td>\n",
       "      <td>13.420418</td>\n",
       "      <td>0.001226</td>\n",
       "      <td>0.408</td>\n",
       "      <td>2014</td>\n",
       "    </tr>\n",
       "    <tr>\n",
       "      <th>3059340</th>\n",
       "      <td>3901498</td>\n",
       "      <td>1</td>\n",
       "      <td>2014-10-26 11:31:00</td>\n",
       "      <td>2</td>\n",
       "      <td>35.217971</td>\n",
       "      <td>13.420418</td>\n",
       "      <td>0.001226</td>\n",
       "      <td>0.408</td>\n",
       "      <td>2014</td>\n",
       "    </tr>\n",
       "    <tr>\n",
       "      <th>3059341</th>\n",
       "      <td>3901498</td>\n",
       "      <td>1</td>\n",
       "      <td>2014-10-26 11:31:00</td>\n",
       "      <td>3</td>\n",
       "      <td>35.217971</td>\n",
       "      <td>13.420418</td>\n",
       "      <td>0.001226</td>\n",
       "      <td>0.408</td>\n",
       "      <td>2014</td>\n",
       "    </tr>\n",
       "    <tr>\n",
       "      <th>3059342</th>\n",
       "      <td>3901498</td>\n",
       "      <td>1</td>\n",
       "      <td>2014-10-26 11:31:00</td>\n",
       "      <td>4</td>\n",
       "      <td>35.217971</td>\n",
       "      <td>13.417994</td>\n",
       "      <td>0.001229</td>\n",
       "      <td>0.408</td>\n",
       "      <td>2014</td>\n",
       "    </tr>\n",
       "    <tr>\n",
       "      <th>3059343</th>\n",
       "      <td>3901498</td>\n",
       "      <td>1</td>\n",
       "      <td>2014-10-26 11:31:00</td>\n",
       "      <td>5</td>\n",
       "      <td>35.217971</td>\n",
       "      <td>13.413690</td>\n",
       "      <td>0.001233</td>\n",
       "      <td>0.408</td>\n",
       "      <td>2014</td>\n",
       "    </tr>\n",
       "  </tbody>\n",
       "</table>\n",
       "</div>"
      ],
      "text/plain": [
       "           float  cycleNumber                date  PRES       PSAL       TEMP  \\\n",
       "3059339  3901498            1 2014-10-26 11:31:00     1  35.217971  13.420418   \n",
       "3059340  3901498            1 2014-10-26 11:31:00     2  35.217971  13.420418   \n",
       "3059341  3901498            1 2014-10-26 11:31:00     3  35.217971  13.420418   \n",
       "3059342  3901498            1 2014-10-26 11:31:00     4  35.217971  13.417994   \n",
       "3059343  3901498            1 2014-10-26 11:31:00     5  35.217971  13.413690   \n",
       "\n",
       "           BBP700   CHLA  year  \n",
       "3059339  0.001226  0.408  2014  \n",
       "3059340  0.001226  0.408  2014  \n",
       "3059341  0.001226  0.408  2014  \n",
       "3059342  0.001229  0.408  2014  \n",
       "3059343  0.001233  0.408  2014  "
      ]
     },
     "execution_count": 22,
     "metadata": {},
     "output_type": "execute_result"
    }
   ],
   "source": [
    "profile_subset.head()"
   ]
  },
  {
   "cell_type": "code",
   "execution_count": 23,
   "metadata": {},
   "outputs": [],
   "source": [
    "profile_subset_PRES = profile[profile['PRES'] == 1]"
   ]
  },
  {
   "cell_type": "code",
   "execution_count": 24,
   "metadata": {},
   "outputs": [
    {
     "data": {
      "text/plain": [
       "[<matplotlib.lines.Line2D at 0x15b69ceb0>]"
      ]
     },
     "execution_count": 24,
     "metadata": {},
     "output_type": "execute_result"
    },
    {
     "data": {
      "image/png": "[encoded data removed]",
      "text/plain": [
       "<Figure size 640x480 with 1 Axes>"
      ]
     },
     "metadata": {},
     "output_type": "display_data"
    }
   ],
   "source": [
    "profile_subset_PRES = profile_subset_PRES.sort_values('date')\n",
    "plt.plot(profile_subset_PRES['date'],profile_subset_PRES['CHLA'])"
   ]
  },
  {
   "cell_type": "code",
   "execution_count": 25,
   "metadata": {},
   "outputs": [
    {
     "data": {
      "text/html": [
       "<div>\n",
       "<style scoped>\n",
       "    .dataframe tbody tr th:only-of-type {\n",
       "        vertical-align: middle;\n",
       "    }\n",
       "\n",
       "    .dataframe tbody tr th {\n",
       "        vertical-align: top;\n",
       "    }\n",
       "\n",
       "    .dataframe thead th {\n",
       "        text-align: right;\n",
       "    }\n",
       "</style>\n",
       "<table border=\"1\" class=\"dataframe\">\n",
       "  <thead>\n",
       "    <tr style=\"text-align: right;\">\n",
       "      <th></th>\n",
       "      <th>float</th>\n",
       "      <th>cycleNumber</th>\n",
       "      <th>date</th>\n",
       "      <th>PRES</th>\n",
       "      <th>PSAL</th>\n",
       "      <th>TEMP</th>\n",
       "      <th>BBP700</th>\n",
       "      <th>CHLA</th>\n",
       "      <th>year</th>\n",
       "    </tr>\n",
       "  </thead>\n",
       "  <tbody>\n",
       "    <tr>\n",
       "      <th>16768570</th>\n",
       "      <td>6900796</td>\n",
       "      <td>10</td>\n",
       "      <td>2010-08-27 13:37:52</td>\n",
       "      <td>1</td>\n",
       "      <td>35.166335</td>\n",
       "      <td>10.717800</td>\n",
       "      <td>0.001488</td>\n",
       "      <td>0.33840</td>\n",
       "      <td>2010</td>\n",
       "    </tr>\n",
       "    <tr>\n",
       "      <th>16819836</th>\n",
       "      <td>6900797</td>\n",
       "      <td>16</td>\n",
       "      <td>2010-10-24 21:22:24</td>\n",
       "      <td>1</td>\n",
       "      <td>35.168500</td>\n",
       "      <td>8.523800</td>\n",
       "      <td>0.000965</td>\n",
       "      <td>0.18720</td>\n",
       "      <td>2010</td>\n",
       "    </tr>\n",
       "    <tr>\n",
       "      <th>16820041</th>\n",
       "      <td>6900797</td>\n",
       "      <td>23</td>\n",
       "      <td>2011-01-01 05:53:38</td>\n",
       "      <td>1</td>\n",
       "      <td>35.191601</td>\n",
       "      <td>5.728100</td>\n",
       "      <td>0.000452</td>\n",
       "      <td>0.00360</td>\n",
       "      <td>2011</td>\n",
       "    </tr>\n",
       "    <tr>\n",
       "      <th>16820109</th>\n",
       "      <td>6900797</td>\n",
       "      <td>24</td>\n",
       "      <td>2011-01-10 22:08:04</td>\n",
       "      <td>1</td>\n",
       "      <td>35.161334</td>\n",
       "      <td>5.358967</td>\n",
       "      <td>0.000420</td>\n",
       "      <td>0.01440</td>\n",
       "      <td>2011</td>\n",
       "    </tr>\n",
       "    <tr>\n",
       "      <th>16769394</th>\n",
       "      <td>6900796</td>\n",
       "      <td>31</td>\n",
       "      <td>2011-03-23 05:49:49</td>\n",
       "      <td>1</td>\n",
       "      <td>35.082334</td>\n",
       "      <td>3.253000</td>\n",
       "      <td>0.000370</td>\n",
       "      <td>0.02520</td>\n",
       "      <td>2011</td>\n",
       "    </tr>\n",
       "    <tr>\n",
       "      <th>19664710</th>\n",
       "      <td>6901473</td>\n",
       "      <td>1</td>\n",
       "      <td>2012-10-24 14:31:00</td>\n",
       "      <td>1</td>\n",
       "      <td>37.427966</td>\n",
       "      <td>26.955873</td>\n",
       "      <td>0.000583</td>\n",
       "      <td>0.02555</td>\n",
       "      <td>2012</td>\n",
       "    </tr>\n",
       "    <tr>\n",
       "      <th>19782525</th>\n",
       "      <td>6901474</td>\n",
       "      <td>1</td>\n",
       "      <td>2012-10-24 14:37:00</td>\n",
       "      <td>1</td>\n",
       "      <td>37.435958</td>\n",
       "      <td>26.947082</td>\n",
       "      <td>0.000548</td>\n",
       "      <td>0.03285</td>\n",
       "      <td>2012</td>\n",
       "    </tr>\n",
       "    <tr>\n",
       "      <th>19559562</th>\n",
       "      <td>6901472</td>\n",
       "      <td>1</td>\n",
       "      <td>2012-10-24 14:45:00</td>\n",
       "      <td>1</td>\n",
       "      <td>37.426029</td>\n",
       "      <td>26.960491</td>\n",
       "      <td>0.000549</td>\n",
       "      <td>0.03600</td>\n",
       "      <td>2012</td>\n",
       "    </tr>\n",
       "    <tr>\n",
       "      <th>19868068</th>\n",
       "      <td>6901475</td>\n",
       "      <td>1</td>\n",
       "      <td>2012-10-25 14:33:00</td>\n",
       "      <td>1</td>\n",
       "      <td>37.459102</td>\n",
       "      <td>26.988420</td>\n",
       "      <td>0.000486</td>\n",
       "      <td>0.03600</td>\n",
       "      <td>2012</td>\n",
       "    </tr>\n",
       "    <tr>\n",
       "      <th>19782956</th>\n",
       "      <td>6901474</td>\n",
       "      <td>2</td>\n",
       "      <td>2012-10-25 14:37:00</td>\n",
       "      <td>1</td>\n",
       "      <td>37.427368</td>\n",
       "      <td>26.946236</td>\n",
       "      <td>0.000537</td>\n",
       "      <td>0.03285</td>\n",
       "      <td>2012</td>\n",
       "    </tr>\n",
       "    <tr>\n",
       "      <th>19665101</th>\n",
       "      <td>6901473</td>\n",
       "      <td>2</td>\n",
       "      <td>2012-10-25 14:37:00</td>\n",
       "      <td>1</td>\n",
       "      <td>37.427676</td>\n",
       "      <td>26.949870</td>\n",
       "      <td>0.000578</td>\n",
       "      <td>0.02555</td>\n",
       "      <td>2012</td>\n",
       "    </tr>\n",
       "    <tr>\n",
       "      <th>19559997</th>\n",
       "      <td>6901472</td>\n",
       "      <td>2</td>\n",
       "      <td>2012-10-25 14:43:00</td>\n",
       "      <td>1</td>\n",
       "      <td>37.424000</td>\n",
       "      <td>26.957746</td>\n",
       "      <td>0.000567</td>\n",
       "      <td>0.03960</td>\n",
       "      <td>2012</td>\n",
       "    </tr>\n",
       "    <tr>\n",
       "      <th>19665492</th>\n",
       "      <td>6901473</td>\n",
       "      <td>6</td>\n",
       "      <td>2012-10-26 08:31:00</td>\n",
       "      <td>1</td>\n",
       "      <td>37.433998</td>\n",
       "      <td>26.904480</td>\n",
       "      <td>0.000553</td>\n",
       "      <td>0.04015</td>\n",
       "      <td>2012</td>\n",
       "    </tr>\n",
       "    <tr>\n",
       "      <th>19783376</th>\n",
       "      <td>6901474</td>\n",
       "      <td>6</td>\n",
       "      <td>2012-10-26 08:45:00</td>\n",
       "      <td>1</td>\n",
       "      <td>37.431975</td>\n",
       "      <td>26.893999</td>\n",
       "      <td>0.000577</td>\n",
       "      <td>0.03650</td>\n",
       "      <td>2012</td>\n",
       "    </tr>\n",
       "    <tr>\n",
       "      <th>19868462</th>\n",
       "      <td>6901475</td>\n",
       "      <td>2</td>\n",
       "      <td>2012-10-26 14:37:00</td>\n",
       "      <td>1</td>\n",
       "      <td>37.464869</td>\n",
       "      <td>27.103871</td>\n",
       "      <td>0.000566</td>\n",
       "      <td>0.01800</td>\n",
       "      <td>2012</td>\n",
       "    </tr>\n",
       "    <tr>\n",
       "      <th>19560432</th>\n",
       "      <td>6901472</td>\n",
       "      <td>3</td>\n",
       "      <td>2012-10-26 14:45:00</td>\n",
       "      <td>1</td>\n",
       "      <td>37.427437</td>\n",
       "      <td>27.140290</td>\n",
       "      <td>0.000561</td>\n",
       "      <td>0.01800</td>\n",
       "      <td>2012</td>\n",
       "    </tr>\n",
       "    <tr>\n",
       "      <th>19783811</th>\n",
       "      <td>6901474</td>\n",
       "      <td>7</td>\n",
       "      <td>2012-10-26 14:47:59</td>\n",
       "      <td>1</td>\n",
       "      <td>37.436038</td>\n",
       "      <td>27.232733</td>\n",
       "      <td>0.000528</td>\n",
       "      <td>0.00730</td>\n",
       "      <td>2012</td>\n",
       "    </tr>\n",
       "    <tr>\n",
       "      <th>19665894</th>\n",
       "      <td>6901473</td>\n",
       "      <td>7</td>\n",
       "      <td>2012-10-26 14:50:00</td>\n",
       "      <td>1</td>\n",
       "      <td>37.434664</td>\n",
       "      <td>27.029007</td>\n",
       "      <td>0.000565</td>\n",
       "      <td>0.01825</td>\n",
       "      <td>2012</td>\n",
       "    </tr>\n",
       "    <tr>\n",
       "      <th>19784098</th>\n",
       "      <td>6901474</td>\n",
       "      <td>8</td>\n",
       "      <td>2012-10-26 20:49:00</td>\n",
       "      <td>1</td>\n",
       "      <td>37.437082</td>\n",
       "      <td>27.185363</td>\n",
       "      <td>0.000530</td>\n",
       "      <td>0.03650</td>\n",
       "      <td>2012</td>\n",
       "    </tr>\n",
       "    <tr>\n",
       "      <th>19666178</th>\n",
       "      <td>6901473</td>\n",
       "      <td>8</td>\n",
       "      <td>2012-10-26 21:01:00</td>\n",
       "      <td>1</td>\n",
       "      <td>37.437467</td>\n",
       "      <td>27.134915</td>\n",
       "      <td>0.000556</td>\n",
       "      <td>0.03285</td>\n",
       "      <td>2012</td>\n",
       "    </tr>\n",
       "  </tbody>\n",
       "</table>\n",
       "</div>"
      ],
      "text/plain": [
       "            float  cycleNumber                date  PRES       PSAL  \\\n",
       "16768570  6900796           10 2010-08-27 13:37:52     1  35.166335   \n",
       "16819836  6900797           16 2010-10-24 21:22:24     1  35.168500   \n",
       "16820041  6900797           23 2011-01-01 05:53:38     1  35.191601   \n",
       "16820109  6900797           24 2011-01-10 22:08:04     1  35.161334   \n",
       "16769394  6900796           31 2011-03-23 05:49:49     1  35.082334   \n",
       "19664710  6901473            1 2012-10-24 14:31:00     1  37.427966   \n",
       "19782525  6901474            1 2012-10-24 14:37:00     1  37.435958   \n",
       "19559562  6901472            1 2012-10-24 14:45:00     1  37.426029   \n",
       "19868068  6901475            1 2012-10-25 14:33:00     1  37.459102   \n",
       "19782956  6901474            2 2012-10-25 14:37:00     1  37.427368   \n",
       "19665101  6901473            2 2012-10-25 14:37:00     1  37.427676   \n",
       "19559997  6901472            2 2012-10-25 14:43:00     1  37.424000   \n",
       "19665492  6901473            6 2012-10-26 08:31:00     1  37.433998   \n",
       "19783376  6901474            6 2012-10-26 08:45:00     1  37.431975   \n",
       "19868462  6901475            2 2012-10-26 14:37:00     1  37.464869   \n",
       "19560432  6901472            3 2012-10-26 14:45:00     1  37.427437   \n",
       "19783811  6901474            7 2012-10-26 14:47:59     1  37.436038   \n",
       "19665894  6901473            7 2012-10-26 14:50:00     1  37.434664   \n",
       "19784098  6901474            8 2012-10-26 20:49:00     1  37.437082   \n",
       "19666178  6901473            8 2012-10-26 21:01:00     1  37.437467   \n",
       "\n",
       "               TEMP    BBP700     CHLA  year  \n",
       "16768570  10.717800  0.001488  0.33840  2010  \n",
       "16819836   8.523800  0.000965  0.18720  2010  \n",
       "16820041   5.728100  0.000452  0.00360  2011  \n",
       "16820109   5.358967  0.000420  0.01440  2011  \n",
       "16769394   3.253000  0.000370  0.02520  2011  \n",
       "19664710  26.955873  0.000583  0.02555  2012  \n",
       "19782525  26.947082  0.000548  0.03285  2012  \n",
       "19559562  26.960491  0.000549  0.03600  2012  \n",
       "19868068  26.988420  0.000486  0.03600  2012  \n",
       "19782956  26.946236  0.000537  0.03285  2012  \n",
       "19665101  26.949870  0.000578  0.02555  2012  \n",
       "19559997  26.957746  0.000567  0.03960  2012  \n",
       "19665492  26.904480  0.000553  0.04015  2012  \n",
       "19783376  26.893999  0.000577  0.03650  2012  \n",
       "19868462  27.103871  0.000566  0.01800  2012  \n",
       "19560432  27.140290  0.000561  0.01800  2012  \n",
       "19783811  27.232733  0.000528  0.00730  2012  \n",
       "19665894  27.029007  0.000565  0.01825  2012  \n",
       "19784098  27.185363  0.000530  0.03650  2012  \n",
       "19666178  27.134915  0.000556  0.03285  2012  "
      ]
     },
     "execution_count": 25,
     "metadata": {},
     "output_type": "execute_result"
    }
   ],
   "source": [
    "profile_subset_PRES.head(20)"
   ]
  },
  {
   "cell_type": "markdown",
   "metadata": {},
   "source": [
    "### Satellite Data"
   ]
  },
  {
   "cell_type": "code",
   "execution_count": 26,
   "metadata": {},
   "outputs": [
    {
     "data": {
      "text/plain": [
       "6901181    436\n",
       "6901654    411\n",
       "6901516    399\n",
       "6901492    397\n",
       "3901498    385\n",
       "          ... \n",
       "5904764      1\n",
       "5906499      1\n",
       "6902546      1\n",
       "5906493      1\n",
       "5905074      1\n",
       "Name: float, Length: 569, dtype: int64"
      ]
     },
     "execution_count": 26,
     "metadata": {},
     "output_type": "execute_result"
    }
   ],
   "source": [
    "satData['float'].value_counts()"
   ]
  },
  {
   "cell_type": "code",
   "execution_count": 27,
   "metadata": {},
   "outputs": [
    {
     "name": "stdout",
     "output_type": "stream",
     "text": [
      "float               int64\n",
      "cycleNumber         int64\n",
      "date               object\n",
      "latitude          float64\n",
      "longitude         float64\n",
      "elevation         float64\n",
      "MO_SAT_SST        float64\n",
      "MO_SAT_CHL        float64\n",
      "MO_SAT_BBP        float64\n",
      "LT_SAT_SST_SD     float64\n",
      "LT_SAT_SST_MED    float64\n",
      "LT_SAT_CHL_SD     float64\n",
      "LT_SAT_CHL_MED    float64\n",
      "LT_SAT_BBP_SD     float64\n",
      "LT_SAT_BBP_MED    float64\n",
      "dtype: object\n"
     ]
    }
   ],
   "source": [
    "print(satData.dtypes)"
   ]
  },
  {
   "cell_type": "code",
   "execution_count": 28,
   "metadata": {},
   "outputs": [],
   "source": [
    "#convert date column to datetime object\n",
    "satData['date'] = pd.to_datetime(satData['date'])"
   ]
  },
  {
   "cell_type": "code",
   "execution_count": 29,
   "metadata": {},
   "outputs": [],
   "source": [
    "#Look at float with most data points\n",
    "satData_subset = satData[satData['float'] == 6901181]\n",
    "#Look at float with 2nd most data points\n",
    "satData_subset2 = satData[satData['float'] == 6901654]\n",
    "satData_subset3 = satData[satData['float'] == 6901516]"
   ]
  },
  {
   "cell_type": "code",
   "execution_count": 30,
   "metadata": {},
   "outputs": [],
   "source": [
    "satData_subset = satData_subset.sort_values('date')\n",
    "satData_subset2 = satData_subset2.sort_values('date')\n",
    "satData_subset3 = satData_subset3.sort_values('date')"
   ]
  },
  {
   "cell_type": "code",
   "execution_count": 31,
   "metadata": {},
   "outputs": [
    {
     "data": {
      "text/plain": [
       "[<matplotlib.lines.Line2D at 0x15b777670>]"
      ]
     },
     "execution_count": 31,
     "metadata": {},
     "output_type": "execute_result"
    },
    {
     "data": {
      "image/png": "[encoded data removed]",
      "text/plain": [
       "<Figure size 640x480 with 1 Axes>"
      ]
     },
     "metadata": {},
     "output_type": "display_data"
    }
   ],
   "source": [
    "plt.plot(satData_subset['date'], satData_subset['MO_SAT_CHL'])\n",
    "plt.plot(satData_subset2['date'], satData_subset2['MO_SAT_CHL'])\n",
    "plt.plot(satData_subset3['date'], satData_subset3['MO_SAT_CHL'])"
   ]
  },
  {
   "cell_type": "code",
   "execution_count": 32,
   "metadata": {},
   "outputs": [
    {
     "data": {
      "text/plain": [
       "<matplotlib.collections.PathCollection at 0x15b7e6e60>"
      ]
     },
     "execution_count": 32,
     "metadata": {},
     "output_type": "execute_result"
    },
    {
     "data": {
      "image/png": "[encoded data removed]",
      "text/plain": [
       "<Figure size 640x480 with 1 Axes>"
      ]
     },
     "metadata": {},
     "output_type": "display_data"
    }
   ],
   "source": [
    "plt.scatter(satData['date'], satData['MO_SAT_CHL'])"
   ]
  },
  {
   "cell_type": "code",
   "execution_count": 33,
   "metadata": {},
   "outputs": [
    {
     "data": {
      "text/html": [
       "<div>\n",
       "<style scoped>\n",
       "    .dataframe tbody tr th:only-of-type {\n",
       "        vertical-align: middle;\n",
       "    }\n",
       "\n",
       "    .dataframe tbody tr th {\n",
       "        vertical-align: top;\n",
       "    }\n",
       "\n",
       "    .dataframe thead th {\n",
       "        text-align: right;\n",
       "    }\n",
       "</style>\n",
       "<table border=\"1\" class=\"dataframe\">\n",
       "  <thead>\n",
       "    <tr style=\"text-align: right;\">\n",
       "      <th></th>\n",
       "      <th>float</th>\n",
       "      <th>cycleNumber</th>\n",
       "      <th>date</th>\n",
       "      <th>latitude</th>\n",
       "      <th>longitude</th>\n",
       "      <th>elevation</th>\n",
       "      <th>MO_SAT_SST</th>\n",
       "      <th>MO_SAT_CHL</th>\n",
       "      <th>MO_SAT_BBP</th>\n",
       "      <th>LT_SAT_SST_SD</th>\n",
       "      <th>LT_SAT_SST_MED</th>\n",
       "      <th>LT_SAT_CHL_SD</th>\n",
       "      <th>LT_SAT_CHL_MED</th>\n",
       "      <th>LT_SAT_BBP_SD</th>\n",
       "      <th>LT_SAT_BBP_MED</th>\n",
       "    </tr>\n",
       "  </thead>\n",
       "  <tbody>\n",
       "    <tr>\n",
       "      <th>36049</th>\n",
       "      <td>6901181</td>\n",
       "      <td>2</td>\n",
       "      <td>2015-11-13 11:37:00</td>\n",
       "      <td>51.116337</td>\n",
       "      <td>-43.539548</td>\n",
       "      <td>-4237.0</td>\n",
       "      <td>11.481727</td>\n",
       "      <td>NaN</td>\n",
       "      <td>NaN</td>\n",
       "      <td>2.689946</td>\n",
       "      <td>11.194081</td>\n",
       "      <td>0.414229</td>\n",
       "      <td>0.468797</td>\n",
       "      <td>0.001251</td>\n",
       "      <td>0.002106</td>\n",
       "    </tr>\n",
       "    <tr>\n",
       "      <th>36050</th>\n",
       "      <td>6901181</td>\n",
       "      <td>3</td>\n",
       "      <td>2015-11-14 10:54:00</td>\n",
       "      <td>51.142575</td>\n",
       "      <td>-43.319909</td>\n",
       "      <td>-4329.0</td>\n",
       "      <td>NaN</td>\n",
       "      <td>NaN</td>\n",
       "      <td>NaN</td>\n",
       "      <td>2.703983</td>\n",
       "      <td>11.316002</td>\n",
       "      <td>0.391052</td>\n",
       "      <td>0.481335</td>\n",
       "      <td>0.001098</td>\n",
       "      <td>0.002193</td>\n",
       "    </tr>\n",
       "    <tr>\n",
       "      <th>36051</th>\n",
       "      <td>6901181</td>\n",
       "      <td>5</td>\n",
       "      <td>2015-11-15 10:50:00</td>\n",
       "      <td>51.074151</td>\n",
       "      <td>-43.055175</td>\n",
       "      <td>-4386.0</td>\n",
       "      <td>10.315758</td>\n",
       "      <td>NaN</td>\n",
       "      <td>NaN</td>\n",
       "      <td>2.821953</td>\n",
       "      <td>11.212473</td>\n",
       "      <td>0.730957</td>\n",
       "      <td>0.468856</td>\n",
       "      <td>0.001082</td>\n",
       "      <td>0.002041</td>\n",
       "    </tr>\n",
       "    <tr>\n",
       "      <th>36052</th>\n",
       "      <td>6901181</td>\n",
       "      <td>7</td>\n",
       "      <td>2015-11-16 10:58:00</td>\n",
       "      <td>50.938443</td>\n",
       "      <td>-42.853655</td>\n",
       "      <td>-4369.0</td>\n",
       "      <td>NaN</td>\n",
       "      <td>NaN</td>\n",
       "      <td>NaN</td>\n",
       "      <td>2.790219</td>\n",
       "      <td>11.430513</td>\n",
       "      <td>0.951431</td>\n",
       "      <td>0.447406</td>\n",
       "      <td>0.001145</td>\n",
       "      <td>0.002049</td>\n",
       "    </tr>\n",
       "    <tr>\n",
       "      <th>36053</th>\n",
       "      <td>6901181</td>\n",
       "      <td>9</td>\n",
       "      <td>2015-11-17 10:44:00</td>\n",
       "      <td>50.727299</td>\n",
       "      <td>-42.732193</td>\n",
       "      <td>-4298.5</td>\n",
       "      <td>9.693849</td>\n",
       "      <td>NaN</td>\n",
       "      <td>NaN</td>\n",
       "      <td>2.884290</td>\n",
       "      <td>11.467892</td>\n",
       "      <td>1.324115</td>\n",
       "      <td>0.457983</td>\n",
       "      <td>0.001061</td>\n",
       "      <td>0.002113</td>\n",
       "    </tr>\n",
       "  </tbody>\n",
       "</table>\n",
       "</div>"
      ],
      "text/plain": [
       "         float  cycleNumber                date   latitude  longitude  \\\n",
       "36049  6901181            2 2015-11-13 11:37:00  51.116337 -43.539548   \n",
       "36050  6901181            3 2015-11-14 10:54:00  51.142575 -43.319909   \n",
       "36051  6901181            5 2015-11-15 10:50:00  51.074151 -43.055175   \n",
       "36052  6901181            7 2015-11-16 10:58:00  50.938443 -42.853655   \n",
       "36053  6901181            9 2015-11-17 10:44:00  50.727299 -42.732193   \n",
       "\n",
       "       elevation  MO_SAT_SST  MO_SAT_CHL  MO_SAT_BBP  LT_SAT_SST_SD  \\\n",
       "36049    -4237.0   11.481727         NaN         NaN       2.689946   \n",
       "36050    -4329.0         NaN         NaN         NaN       2.703983   \n",
       "36051    -4386.0   10.315758         NaN         NaN       2.821953   \n",
       "36052    -4369.0         NaN         NaN         NaN       2.790219   \n",
       "36053    -4298.5    9.693849         NaN         NaN       2.884290   \n",
       "\n",
       "       LT_SAT_SST_MED  LT_SAT_CHL_SD  LT_SAT_CHL_MED  LT_SAT_BBP_SD  \\\n",
       "36049       11.194081       0.414229        0.468797       0.001251   \n",
       "36050       11.316002       0.391052        0.481335       0.001098   \n",
       "36051       11.212473       0.730957        0.468856       0.001082   \n",
       "36052       11.430513       0.951431        0.447406       0.001145   \n",
       "36053       11.467892       1.324115        0.457983       0.001061   \n",
       "\n",
       "       LT_SAT_BBP_MED  \n",
       "36049        0.002106  \n",
       "36050        0.002193  \n",
       "36051        0.002041  \n",
       "36052        0.002049  \n",
       "36053        0.002113  "
      ]
     },
     "execution_count": 33,
     "metadata": {},
     "output_type": "execute_result"
    }
   ],
   "source": [
    "satData_subset.head()"
   ]
  },
  {
   "cell_type": "code",
   "execution_count": 34,
   "metadata": {},
   "outputs": [],
   "source": [
    "#Fill N/A with zeros\n",
    "satData_subset = satData_subset.fillna(0)"
   ]
  },
  {
   "cell_type": "code",
   "execution_count": 35,
   "metadata": {},
   "outputs": [
    {
     "data": {
      "text/plain": [
       "[<matplotlib.lines.Line2D at 0x15b7cff10>]"
      ]
     },
     "execution_count": 35,
     "metadata": {},
     "output_type": "execute_result"
    },
    {
     "data": {
      "image/png": "[encoded data removed]",
      "text/plain": [
       "<Figure size 640x480 with 1 Axes>"
      ]
     },
     "metadata": {},
     "output_type": "display_data"
    }
   ],
   "source": [
    "plt.plot(satData_subset['date'], satData_subset['MO_SAT_CHL'])"
   ]
  },
  {
   "cell_type": "code",
   "execution_count": 36,
   "metadata": {},
   "outputs": [
    {
     "data": {
      "image/png": "[encoded data removed]",
      "text/plain": [
       "<Figure size 640x480 with 4 Axes>"
      ]
     },
     "metadata": {},
     "output_type": "display_data"
    }
   ],
   "source": [
    "results = seasonal_decompose(satData_subset['MO_SAT_CHL'], period = 12)\n",
    "_ = results.plot()\n",
    "plt.show()"
   ]
  },
  {
   "cell_type": "code",
   "execution_count": 37,
   "metadata": {},
   "outputs": [],
   "source": [
    "satData['month'] = pd.DatetimeIndex(satData['date']).month"
   ]
  },
  {
   "cell_type": "code",
   "execution_count": 38,
   "metadata": {},
   "outputs": [
    {
     "data": {
      "text/plain": [
       "<matplotlib.collections.PathCollection at 0x15bac0640>"
      ]
     },
     "execution_count": 38,
     "metadata": {},
     "output_type": "execute_result"
    },
    {
     "data": {
      "image/png": "[encoded data removed]",
      "text/plain": [
       "<Figure size 640x480 with 1 Axes>"
      ]
     },
     "metadata": {},
     "output_type": "display_data"
    }
   ],
   "source": [
    "satData = satData.sort_values('month')\n",
    "plt.scatter(satData['month'], satData['MO_SAT_CHL'])"
   ]
  },
  {
   "cell_type": "code",
   "execution_count": 39,
   "metadata": {},
   "outputs": [
    {
     "data": {
      "text/plain": [
       "<AxesSubplot: xlabel='month'>"
      ]
     },
     "execution_count": 39,
     "metadata": {},
     "output_type": "execute_result"
    },
    {
     "data": {
      "image/png": "[encoded data removed]",
      "text/plain": [
       "<Figure size 640x480 with 1 Axes>"
      ]
     },
     "metadata": {},
     "output_type": "display_data"
    }
   ],
   "source": [
    "satData[['month','MO_SAT_CHL']].groupby('month').sum().plot(kind='bar', legend=None)"
   ]
  },
  {
   "cell_type": "code",
   "execution_count": 40,
   "metadata": {},
   "outputs": [
    {
     "data": {
      "text/plain": [
       "<AxesSubplot: xlabel='month'>"
      ]
     },
     "execution_count": 40,
     "metadata": {},
     "output_type": "execute_result"
    },
    {
     "data": {
      "image/png": "[encoded data removed]",
      "text/plain": [
       "<Figure size 640x480 with 1 Axes>"
      ]
     },
     "metadata": {},
     "output_type": "display_data"
    }
   ],
   "source": [
    "satData[['month','MO_SAT_CHL']].groupby('month').mean().plot(kind='bar', legend=None)"
   ]
  },
  {
   "cell_type": "code",
   "execution_count": null,
   "metadata": {},
   "outputs": [],
   "source": []
  }
 ],
 "metadata": {
  "interpreter": {
   "hash": "f82d4ec2f4e1a7949fc551b5039d8b80c5fc6c2b366144cfac1fa6211cdc80ab"
  },
  "kernelspec": {
   "display_name": "Python 3.10.6 ('capstone')",
   "language": "python",
   "name": "python3"
  },
  "language_info": {
   "codemirror_mode": {
    "name": "ipython",
    "version": 3
   },
   "file_extension": ".py",
   "mimetype": "text/x-python",
   "name": "python",
   "nbconvert_exporter": "python",
   "pygments_lexer": "ipython3",
   "version": "3.10.6"
  },
  "orig_nbformat": 4
 },
 "nbformat": 4,
 "nbformat_minor": 2
}

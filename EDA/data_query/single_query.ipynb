{
 "cells": [
  {
   "cell_type": "code",
   "execution_count": 1,
   "metadata": {},
   "outputs": [],
   "source": [
    "import numpy as np\n",
    "import pandas as pd\n",
    "from datetime import datetime, timedelta\n",
    "import xarray as xr\n",
    "import os\n",
    "import bisect\n",
    "import calendar\n",
    "import sys\n",
    "sys.path.append('../../')\n",
    "from utils.sat_data import *"
   ]
  },
  {
   "cell_type": "code",
   "execution_count": 2,
   "metadata": {},
   "outputs": [],
   "source": [
    "#Define Appkey for oceandata query\n",
    "#   An appkey can be obtained from:\n",
    "#    https://oceandata.sci.gsfc.nasa.gov/appkey/\n",
    "#Must sign up for Earthdata account first (free)\n",
    "\n",
    "# appkey_val = \"<ENTER APPKEY HERE>\"\n",
    "with open('../../../data/appkey.txt') as f:\n",
    "    lines = f.readlines()\n",
    "appkey_val = lines[0]\n",
    "# appkey_val"
   ]
  },
  {
   "cell_type": "code",
   "execution_count": 3,
   "metadata": {},
   "outputs": [],
   "source": [
    "latitude = 40\n",
    "longitude = -60\n",
    "lookup_date = datetime(2022, 2, 4)"
   ]
  },
  {
   "cell_type": "code",
   "execution_count": 4,
   "metadata": {},
   "outputs": [
    {
     "data": {
      "text/plain": [
       "[Timestamp('2010-01-01 00:00:00', freq='8D'),\n",
       " Timestamp('2010-01-09 00:00:00', freq='8D'),\n",
       " Timestamp('2010-01-17 00:00:00', freq='8D'),\n",
       " Timestamp('2010-01-25 00:00:00', freq='8D')]"
      ]
     },
     "execution_count": 4,
     "metadata": {},
     "output_type": "execute_result"
    }
   ],
   "source": [
    "# Code to compile list of 8-day filenames\n",
    "#Find the file locs for the 8 day measurements\n",
    "# import datetime\n",
    "# 8 day measurements always exist on January 1st for each year then appear again in 8 day increments \n",
    "date_values = []\n",
    "for i in range(2010,2023):\n",
    "    # if i == 2010:  \n",
    "    #     date_values_new = pd.date_range(start = datetime(i,1,2), end = datetime(i,12,31), freq='8D')\n",
    "    # else:\n",
    "    date_values_new = pd.date_range(start = datetime(i,1,1), end = datetime(i,12,31), freq='8D')\n",
    "    date_values.extend(date_values_new)\n",
    "#Sort so the bisect works when used later\n",
    "date_values.sort()\n",
    "date_values[0:4]"
   ]
  },
  {
   "cell_type": "code",
   "execution_count": 11,
   "metadata": {},
   "outputs": [],
   "source": [
    "dates = pd.date_range(start = datetime(2011,7,28), end=datetime(2022,11,20), freq='7D').date\n"
   ]
  },
  {
   "cell_type": "code",
   "execution_count": 18,
   "metadata": {},
   "outputs": [],
   "source": [
    "day_8d_month_impute(latitude, longitude, lookup_date, 'CHL.chlor_a', date_values, appkey_val)"
   ]
  },
  {
   "cell_type": "code",
   "execution_count": 12,
   "metadata": {},
   "outputs": [
    {
     "name": "stdout",
     "output_type": "stream",
     "text": [
      "There was a problem retrieving AQUA_MODIS.20220415_20220422.L3m.8D.CHL.chlor_a.4km.nc (received status 404)\n",
      "There was a problem retrieving AQUA_MODIS.20220704_20220711.L3m.8D.CHL.chlor_a.4km.nc (received status 404)\n",
      "There was a problem retrieving AQUA_MODIS.20220712_20220719.L3m.8D.CHL.chlor_a.4km.nc (received status 404)\n",
      "There was a problem retrieving AQUA_MODIS.20220720_20220727.L3m.8D.CHL.chlor_a.4km.nc (received status 404)\n",
      "There was a problem retrieving AQUA_MODIS.20220728_20220804.L3m.8D.CHL.chlor_a.4km.nc (received status 404)\n",
      "There was a problem retrieving AQUA_MODIS.20220728_20220804.L3m.8D.CHL.chlor_a.4km.nc (received status 404)\n",
      "There was a problem retrieving AQUA_MODIS.20220813_20220820.L3m.8D.CHL.chlor_a.4km.nc (received status 404)\n",
      "There was a problem retrieving AQUA_MODIS.20220821_20220828.L3m.8D.CHL.chlor_a.4km.nc (received status 404)\n",
      "There was a problem retrieving AQUA_MODIS.20220930_20221007.L3m.8D.CHL.chlor_a.4km.nc (received status 404)\n",
      "There was a problem retrieving AQUA_MODIS.20221008_20221015.L3m.8D.CHL.chlor_a.4km.nc (received status 404)\n",
      "There was a problem retrieving AQUA_MODIS.20221016_20221023.L3m.8D.CHL.chlor_a.4km.nc (received status 404)\n",
      "There was a problem retrieving AQUA_MODIS.20221024_20221031.L3m.8D.CHL.chlor_a.4km.nc (received status 404)\n",
      "There was a problem retrieving AQUA_MODIS.20221101_20221108.L3m.8D.CHL.chlor_a.4km.nc (received status 404)\n",
      "There was a problem retrieving AQUA_MODIS.20221109_20221116.L3m.8D.CHL.chlor_a.4km.nc (received status 404)\n",
      "There was a problem retrieving AQUA_MODIS.20221117_20221124.L3m.8D.CHL.chlor_a.4km.nc (received status 404)\n"
     ]
    }
   ],
   "source": [
    "#Figure out which 8-day periods are off:\n",
    "for item in dates:  \n",
    "    get_sat_val(latitude, longitude, item, 'CHL.chlor_a', '8d', date_values, appkey_val)\n",
    "    # test = day_8d_month_impute(latitude, longitude, lookup_date, 'CHL.chlor_a', date_values, appkey_val)"
   ]
  },
  {
   "cell_type": "code",
   "execution_count": null,
   "metadata": {},
   "outputs": [],
   "source": []
  }
 ],
 "metadata": {
  "kernelspec": {
   "display_name": "Python 3.10.6 ('capstone')",
   "language": "python",
   "name": "python3"
  },
  "language_info": {
   "codemirror_mode": {
    "name": "ipython",
    "version": 3
   },
   "file_extension": ".py",
   "mimetype": "text/x-python",
   "name": "python",
   "nbconvert_exporter": "python",
   "pygments_lexer": "ipython3",
   "version": "3.10.6"
  },
  "orig_nbformat": 4,
  "vscode": {
   "interpreter": {
    "hash": "f82d4ec2f4e1a7949fc551b5039d8b80c5fc6c2b366144cfac1fa6211cdc80ab"
   }
  }
 },
 "nbformat": 4,
 "nbformat_minor": 2
}

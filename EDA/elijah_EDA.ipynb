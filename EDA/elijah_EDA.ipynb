{
 "cells": [
  {
   "cell_type": "code",
   "execution_count": 2,
   "metadata": {},
   "outputs": [],
   "source": [
    "import pandas as pd\n",
    "import seaborn as sns\n",
    "import matplotlib.pyplot as plt\n",
    "import numpy as np\n",
    "import datetime"
   ]
  },
  {
   "cell_type": "code",
   "execution_count": 3,
   "metadata": {},
   "outputs": [],
   "source": [
    "sat_df = pd.read_csv('/Users/elijahflomen/Desktop/Capstone/data/satData.csv')\n",
    "prof_df = pd.read_csv('/Users/elijahflomen/Desktop/Capstone/data/profileData.csv')"
   ]
  },
  {
   "cell_type": "code",
   "execution_count": 4,
   "metadata": {},
   "outputs": [
    {
     "name": "stdout",
     "output_type": "stream",
     "text": [
      "sat_df shape:  (66271, 15)\n",
      "prof_df shape:  (37469410, 8)\n"
     ]
    }
   ],
   "source": [
    "print(\"sat_df shape: \", sat_df.shape)\n",
    "print(\"prof_df shape: \", prof_df.shape)"
   ]
  },
  {
   "cell_type": "code",
   "execution_count": 5,
   "metadata": {},
   "outputs": [
    {
     "name": "stdout",
     "output_type": "stream",
     "text": [
      "The sat_df has columns:  ['float', 'cycleNumber', 'date', 'latitude', 'longitude', 'elevation', 'MO_SAT_SST', 'MO_SAT_CHL', 'MO_SAT_BBP', 'LT_SAT_SST_SD', 'LT_SAT_SST_MED', 'LT_SAT_CHL_SD', 'LT_SAT_CHL_MED', 'LT_SAT_BBP_SD', 'LT_SAT_BBP_MED'] \n",
      "\n",
      "The prof_df has columns:  ['float', 'cycleNumber', 'date', 'PRES', 'PSAL', 'TEMP', 'BBP700', 'CHLA']\n"
     ]
    }
   ],
   "source": [
    "print(\"The sat_df has columns: \", sat_df.columns.to_list(), '\\n')\n",
    "print(\"The prof_df has columns: \", prof_df.columns.to_list())"
   ]
  },
  {
   "cell_type": "code",
   "execution_count": 6,
   "metadata": {},
   "outputs": [
    {
     "name": "stdout",
     "output_type": "stream",
     "text": [
      "sat_df summary:\n"
     ]
    },
    {
     "data": {
      "text/html": [
       "<div>\n",
       "<style scoped>\n",
       "    .dataframe tbody tr th:only-of-type {\n",
       "        vertical-align: middle;\n",
       "    }\n",
       "\n",
       "    .dataframe tbody tr th {\n",
       "        vertical-align: top;\n",
       "    }\n",
       "\n",
       "    .dataframe thead th {\n",
       "        text-align: right;\n",
       "    }\n",
       "</style>\n",
       "<table border=\"1\" class=\"dataframe\">\n",
       "  <thead>\n",
       "    <tr style=\"text-align: right;\">\n",
       "      <th></th>\n",
       "      <th>latitude</th>\n",
       "      <th>longitude</th>\n",
       "      <th>elevation</th>\n",
       "      <th>MO_SAT_SST</th>\n",
       "      <th>MO_SAT_CHL</th>\n",
       "      <th>MO_SAT_BBP</th>\n",
       "      <th>LT_SAT_SST_SD</th>\n",
       "      <th>LT_SAT_SST_MED</th>\n",
       "      <th>LT_SAT_CHL_SD</th>\n",
       "      <th>LT_SAT_CHL_MED</th>\n",
       "      <th>LT_SAT_BBP_SD</th>\n",
       "      <th>LT_SAT_BBP_MED</th>\n",
       "    </tr>\n",
       "  </thead>\n",
       "  <tbody>\n",
       "    <tr>\n",
       "      <th>count</th>\n",
       "      <td>66271.000000</td>\n",
       "      <td>66271.000000</td>\n",
       "      <td>66271.000000</td>\n",
       "      <td>62358.000000</td>\n",
       "      <td>52921.000000</td>\n",
       "      <td>52760.000000</td>\n",
       "      <td>62993.000000</td>\n",
       "      <td>62994.000000</td>\n",
       "      <td>66267.000000</td>\n",
       "      <td>62991.000000</td>\n",
       "      <td>62990.000000</td>\n",
       "      <td>62991.000000</td>\n",
       "    </tr>\n",
       "    <tr>\n",
       "      <th>mean</th>\n",
       "      <td>-0.981837</td>\n",
       "      <td>-7.592350</td>\n",
       "      <td>-3665.266738</td>\n",
       "      <td>15.288537</td>\n",
       "      <td>0.281664</td>\n",
       "      <td>0.002158</td>\n",
       "      <td>1.953527</td>\n",
       "      <td>14.493915</td>\n",
       "      <td>0.235511</td>\n",
       "      <td>0.224843</td>\n",
       "      <td>0.000734</td>\n",
       "      <td>0.002111</td>\n",
       "    </tr>\n",
       "    <tr>\n",
       "      <th>std</th>\n",
       "      <td>44.806916</td>\n",
       "      <td>87.992165</td>\n",
       "      <td>1228.480262</td>\n",
       "      <td>9.859002</td>\n",
       "      <td>0.476795</td>\n",
       "      <td>0.001084</td>\n",
       "      <td>1.086169</td>\n",
       "      <td>9.936941</td>\n",
       "      <td>0.421947</td>\n",
       "      <td>0.163730</td>\n",
       "      <td>0.000525</td>\n",
       "      <td>0.000548</td>\n",
       "    </tr>\n",
       "    <tr>\n",
       "      <th>min</th>\n",
       "      <td>-75.647000</td>\n",
       "      <td>-179.985000</td>\n",
       "      <td>-9614.000000</td>\n",
       "      <td>-1.795000</td>\n",
       "      <td>0.013924</td>\n",
       "      <td>0.000025</td>\n",
       "      <td>0.050174</td>\n",
       "      <td>-1.437765</td>\n",
       "      <td>0.005115</td>\n",
       "      <td>0.023332</td>\n",
       "      <td>0.000143</td>\n",
       "      <td>0.001001</td>\n",
       "    </tr>\n",
       "    <tr>\n",
       "      <th>25%</th>\n",
       "      <td>-46.785919</td>\n",
       "      <td>-58.094193</td>\n",
       "      <td>-4599.500000</td>\n",
       "      <td>5.990036</td>\n",
       "      <td>0.098681</td>\n",
       "      <td>0.001567</td>\n",
       "      <td>1.128703</td>\n",
       "      <td>5.122558</td>\n",
       "      <td>0.043225</td>\n",
       "      <td>0.115741</td>\n",
       "      <td>0.000300</td>\n",
       "      <td>0.001666</td>\n",
       "    </tr>\n",
       "    <tr>\n",
       "      <th>50%</th>\n",
       "      <td>2.052000</td>\n",
       "      <td>-0.267000</td>\n",
       "      <td>-3718.000000</td>\n",
       "      <td>15.065931</td>\n",
       "      <td>0.164445</td>\n",
       "      <td>0.001853</td>\n",
       "      <td>1.636134</td>\n",
       "      <td>14.610808</td>\n",
       "      <td>0.094509</td>\n",
       "      <td>0.167172</td>\n",
       "      <td>0.000634</td>\n",
       "      <td>0.002059</td>\n",
       "    </tr>\n",
       "    <tr>\n",
       "      <th>75%</th>\n",
       "      <td>37.963248</td>\n",
       "      <td>62.413668</td>\n",
       "      <td>-2824.000000</td>\n",
       "      <td>25.303648</td>\n",
       "      <td>0.303834</td>\n",
       "      <td>0.002435</td>\n",
       "      <td>2.359440</td>\n",
       "      <td>24.605392</td>\n",
       "      <td>0.261495</td>\n",
       "      <td>0.291491</td>\n",
       "      <td>0.001003</td>\n",
       "      <td>0.002466</td>\n",
       "    </tr>\n",
       "    <tr>\n",
       "      <th>max</th>\n",
       "      <td>78.759000</td>\n",
       "      <td>179.991000</td>\n",
       "      <td>-54.000000</td>\n",
       "      <td>32.682278</td>\n",
       "      <td>22.891980</td>\n",
       "      <td>0.025816</td>\n",
       "      <td>6.178847</td>\n",
       "      <td>30.563904</td>\n",
       "      <td>10.075015</td>\n",
       "      <td>1.497630</td>\n",
       "      <td>0.010815</td>\n",
       "      <td>0.005746</td>\n",
       "    </tr>\n",
       "  </tbody>\n",
       "</table>\n",
       "</div>"
      ],
      "text/plain": [
       "           latitude     longitude     elevation    MO_SAT_SST    MO_SAT_CHL  \\\n",
       "count  66271.000000  66271.000000  66271.000000  62358.000000  52921.000000   \n",
       "mean      -0.981837     -7.592350  -3665.266738     15.288537      0.281664   \n",
       "std       44.806916     87.992165   1228.480262      9.859002      0.476795   \n",
       "min      -75.647000   -179.985000  -9614.000000     -1.795000      0.013924   \n",
       "25%      -46.785919    -58.094193  -4599.500000      5.990036      0.098681   \n",
       "50%        2.052000     -0.267000  -3718.000000     15.065931      0.164445   \n",
       "75%       37.963248     62.413668  -2824.000000     25.303648      0.303834   \n",
       "max       78.759000    179.991000    -54.000000     32.682278     22.891980   \n",
       "\n",
       "         MO_SAT_BBP  LT_SAT_SST_SD  LT_SAT_SST_MED  LT_SAT_CHL_SD  \\\n",
       "count  52760.000000   62993.000000    62994.000000   66267.000000   \n",
       "mean       0.002158       1.953527       14.493915       0.235511   \n",
       "std        0.001084       1.086169        9.936941       0.421947   \n",
       "min        0.000025       0.050174       -1.437765       0.005115   \n",
       "25%        0.001567       1.128703        5.122558       0.043225   \n",
       "50%        0.001853       1.636134       14.610808       0.094509   \n",
       "75%        0.002435       2.359440       24.605392       0.261495   \n",
       "max        0.025816       6.178847       30.563904      10.075015   \n",
       "\n",
       "       LT_SAT_CHL_MED  LT_SAT_BBP_SD  LT_SAT_BBP_MED  \n",
       "count    62991.000000   62990.000000    62991.000000  \n",
       "mean         0.224843       0.000734        0.002111  \n",
       "std          0.163730       0.000525        0.000548  \n",
       "min          0.023332       0.000143        0.001001  \n",
       "25%          0.115741       0.000300        0.001666  \n",
       "50%          0.167172       0.000634        0.002059  \n",
       "75%          0.291491       0.001003        0.002466  \n",
       "max          1.497630       0.010815        0.005746  "
      ]
     },
     "execution_count": 6,
     "metadata": {},
     "output_type": "execute_result"
    }
   ],
   "source": [
    "print(\"sat_df summary:\")\n",
    "sat_df[[\"latitude\", \"longitude\", \"elevation\", \"MO_SAT_SST\", \"MO_SAT_CHL\", \"MO_SAT_BBP\", \"LT_SAT_SST_SD\", \"LT_SAT_SST_MED\", \"LT_SAT_CHL_SD\", \"LT_SAT_CHL_MED\", \"LT_SAT_BBP_SD\", \"LT_SAT_BBP_MED\"]].describe()"
   ]
  },
  {
   "cell_type": "code",
   "execution_count": 7,
   "metadata": {},
   "outputs": [
    {
     "name": "stdout",
     "output_type": "stream",
     "text": [
      "prof_df summary:\n"
     ]
    },
    {
     "data": {
      "text/html": [
       "<div>\n",
       "<style scoped>\n",
       "    .dataframe tbody tr th:only-of-type {\n",
       "        vertical-align: middle;\n",
       "    }\n",
       "\n",
       "    .dataframe tbody tr th {\n",
       "        vertical-align: top;\n",
       "    }\n",
       "\n",
       "    .dataframe thead th {\n",
       "        text-align: right;\n",
       "    }\n",
       "</style>\n",
       "<table border=\"1\" class=\"dataframe\">\n",
       "  <thead>\n",
       "    <tr style=\"text-align: right;\">\n",
       "      <th></th>\n",
       "      <th>PRES</th>\n",
       "      <th>PSAL</th>\n",
       "      <th>TEMP</th>\n",
       "      <th>BBP700</th>\n",
       "      <th>CHLA</th>\n",
       "    </tr>\n",
       "  </thead>\n",
       "  <tbody>\n",
       "    <tr>\n",
       "      <th>count</th>\n",
       "      <td>3.746941e+07</td>\n",
       "      <td>3.660242e+07</td>\n",
       "      <td>3.745701e+07</td>\n",
       "      <td>3.721008e+07</td>\n",
       "      <td>3.723590e+07</td>\n",
       "    </tr>\n",
       "    <tr>\n",
       "      <th>mean</th>\n",
       "      <td>4.312198e+02</td>\n",
       "      <td>3.526833e+01</td>\n",
       "      <td>8.318618e+00</td>\n",
       "      <td>6.421931e-04</td>\n",
       "      <td>6.600038e-02</td>\n",
       "    </tr>\n",
       "    <tr>\n",
       "      <th>std</th>\n",
       "      <td>2.898204e+02</td>\n",
       "      <td>1.505313e+00</td>\n",
       "      <td>6.720189e+00</td>\n",
       "      <td>3.473924e-03</td>\n",
       "      <td>2.394648e-01</td>\n",
       "    </tr>\n",
       "    <tr>\n",
       "      <th>min</th>\n",
       "      <td>0.000000e+00</td>\n",
       "      <td>1.628877e+01</td>\n",
       "      <td>-1.860345e+00</td>\n",
       "      <td>-7.762093e-04</td>\n",
       "      <td>-1.569500e-01</td>\n",
       "    </tr>\n",
       "    <tr>\n",
       "      <th>25%</th>\n",
       "      <td>1.760000e+02</td>\n",
       "      <td>3.439201e+01</td>\n",
       "      <td>2.825333e+00</td>\n",
       "      <td>2.632409e-04</td>\n",
       "      <td>3.671831e-17</td>\n",
       "    </tr>\n",
       "    <tr>\n",
       "      <th>50%</th>\n",
       "      <td>3.850000e+02</td>\n",
       "      <td>3.473279e+01</td>\n",
       "      <td>6.232000e+00</td>\n",
       "      <td>3.382371e-04</td>\n",
       "      <td>4.800000e-03</td>\n",
       "    </tr>\n",
       "    <tr>\n",
       "      <th>75%</th>\n",
       "      <td>6.800000e+02</td>\n",
       "      <td>3.525596e+01</td>\n",
       "      <td>1.343230e+01</td>\n",
       "      <td>4.639434e-04</td>\n",
       "      <td>3.240000e-02</td>\n",
       "    </tr>\n",
       "    <tr>\n",
       "      <th>max</th>\n",
       "      <td>1.119000e+03</td>\n",
       "      <td>4.072763e+01</td>\n",
       "      <td>3.204117e+01</td>\n",
       "      <td>8.411027e-02</td>\n",
       "      <td>2.136333e+01</td>\n",
       "    </tr>\n",
       "  </tbody>\n",
       "</table>\n",
       "</div>"
      ],
      "text/plain": [
       "               PRES          PSAL          TEMP        BBP700          CHLA\n",
       "count  3.746941e+07  3.660242e+07  3.745701e+07  3.721008e+07  3.723590e+07\n",
       "mean   4.312198e+02  3.526833e+01  8.318618e+00  6.421931e-04  6.600038e-02\n",
       "std    2.898204e+02  1.505313e+00  6.720189e+00  3.473924e-03  2.394648e-01\n",
       "min    0.000000e+00  1.628877e+01 -1.860345e+00 -7.762093e-04 -1.569500e-01\n",
       "25%    1.760000e+02  3.439201e+01  2.825333e+00  2.632409e-04  3.671831e-17\n",
       "50%    3.850000e+02  3.473279e+01  6.232000e+00  3.382371e-04  4.800000e-03\n",
       "75%    6.800000e+02  3.525596e+01  1.343230e+01  4.639434e-04  3.240000e-02\n",
       "max    1.119000e+03  4.072763e+01  3.204117e+01  8.411027e-02  2.136333e+01"
      ]
     },
     "execution_count": 7,
     "metadata": {},
     "output_type": "execute_result"
    }
   ],
   "source": [
    "print(\"prof_df summary:\")\n",
    "prof_df[[\"PRES\", \"PSAL\", \"TEMP\", \"BBP700\", \"CHLA\"]].describe()"
   ]
  },
  {
   "cell_type": "code",
   "execution_count": 8,
   "metadata": {},
   "outputs": [
    {
     "name": "stdout",
     "output_type": "stream",
     "text": [
      "The prof_df has 569 unique floats, yet sattelite has 66271 records\n",
      "Mapping these one to one implies a large deal of interpolation\n"
     ]
    }
   ],
   "source": [
    "print(f\"The prof_df has {len(prof_df['float'].unique())} unique floats, yet sattelite has {sat_df.shape[0]} records\")\n",
    "print(\"Mapping these one to one implies a large deal of interpolation\")"
   ]
  },
  {
   "cell_type": "markdown",
   "metadata": {},
   "source": [
    "Mapping satteliate data to float data on a one to one basis implies a large deal of interpolation. Lets see how far off we are on avg. distance wise between sattelite and float measurement (using euclidean dist between long. and lat)"
   ]
  },
  {
   "cell_type": "code",
   "execution_count": 9,
   "metadata": {},
   "outputs": [],
   "source": [
    "# shortest_dists = []\n",
    "# for s in sat_df.index:\n",
    "#     curr_shortest_dist = np.inf\n",
    "#     sat_dists = []\n",
    "#     for p in prof_df.index:\n",
    "#         s_lat = sat_df.loc[s, \"latitude\"]\n",
    "#         s_long = sat_df.loc[s, \"longitude\"]\n",
    "#         p_lat = prof_df.loc[p, 'latitude']\n",
    "#         p_long = prof_df.loc[p, 'longitude']\n",
    "#         sat_coord = np.array((s_lat, s_long))\n",
    "#         prof_coord = np.array((p_lat, p_long))\n",
    "#         euc_dist = np.linalg.norm(sat_coord-prof_coord)\n",
    "#         np.append(sat_dists, euc_dist)\n",
    "#     sat_dists.append(np.min(sat_dists))\n",
    "\n",
    "# shortest_dists"
   ]
  },
  {
   "cell_type": "code",
   "execution_count": 10,
   "metadata": {},
   "outputs": [],
   "source": [
    "sat_df = sat_df.rename(columns={'date': 'SAT_date'})\n",
    "prof_df = prof_df.rename(columns={'date': 'PROF_date'})"
   ]
  },
  {
   "cell_type": "code",
   "execution_count": 11,
   "metadata": {},
   "outputs": [
    {
     "data": {
      "image/png": "[encoded data removed]",
      "text/plain": [
       "<Figure size 720x360 with 2 Axes>"
      ]
     },
     "metadata": {
      "needs_background": "light"
     },
     "output_type": "display_data"
    }
   ],
   "source": [
    "sat_df_vars = sat_df[[\n",
    "    \"MO_SAT_SST\",\n",
    "    \"MO_SAT_CHL\",\n",
    "    \"MO_SAT_BBP\",\n",
    "    \"LT_SAT_SST_SD\",\n",
    "    \"LT_SAT_SST_MED\",\n",
    "    \"LT_SAT_CHL_MED\",\n",
    "    \"LT_SAT_BBP_MED\"\n",
    "]]\n",
    "fig, ax  = plt.subplots(1,1, figsize=(10,5))\n",
    "satCorrMatrix = sat_df_vars.corr()\n",
    "ax.set_title(\"Sattelite Data Correlation Matrix\")\n",
    "sns.heatmap(satCorrMatrix, annot=True)\n",
    "plt.show()\n"
   ]
  },
  {
   "cell_type": "markdown",
   "metadata": {},
   "source": [
    "Lets merge the two dfs based on float number and cycle and then see the connection between the variables\n"
   ]
  },
  {
   "cell_type": "code",
   "execution_count": 12,
   "metadata": {},
   "outputs": [],
   "source": [
    "merged_df = sat_df.merge(prof_df, on=[\"float\", \"cycleNumber\"], how='inner')"
   ]
  },
  {
   "cell_type": "code",
   "execution_count": 13,
   "metadata": {},
   "outputs": [
    {
     "data": {
      "text/html": [
       "<div>\n",
       "<style scoped>\n",
       "    .dataframe tbody tr th:only-of-type {\n",
       "        vertical-align: middle;\n",
       "    }\n",
       "\n",
       "    .dataframe tbody tr th {\n",
       "        vertical-align: top;\n",
       "    }\n",
       "\n",
       "    .dataframe thead th {\n",
       "        text-align: right;\n",
       "    }\n",
       "</style>\n",
       "<table border=\"1\" class=\"dataframe\">\n",
       "  <thead>\n",
       "    <tr style=\"text-align: right;\">\n",
       "      <th></th>\n",
       "      <th>float</th>\n",
       "      <th>cycleNumber</th>\n",
       "      <th>SAT_date</th>\n",
       "      <th>latitude</th>\n",
       "      <th>longitude</th>\n",
       "      <th>elevation</th>\n",
       "      <th>MO_SAT_SST</th>\n",
       "      <th>MO_SAT_CHL</th>\n",
       "      <th>MO_SAT_BBP</th>\n",
       "      <th>LT_SAT_SST_SD</th>\n",
       "      <th>...</th>\n",
       "      <th>LT_SAT_CHL_SD</th>\n",
       "      <th>LT_SAT_CHL_MED</th>\n",
       "      <th>LT_SAT_BBP_SD</th>\n",
       "      <th>LT_SAT_BBP_MED</th>\n",
       "      <th>PROF_date</th>\n",
       "      <th>PRES</th>\n",
       "      <th>PSAL</th>\n",
       "      <th>TEMP</th>\n",
       "      <th>BBP700</th>\n",
       "      <th>CHLA</th>\n",
       "    </tr>\n",
       "  </thead>\n",
       "  <tbody>\n",
       "    <tr>\n",
       "      <th>0</th>\n",
       "      <td>1902303</td>\n",
       "      <td>1</td>\n",
       "      <td>2021-05-06 02:03:16</td>\n",
       "      <td>49.236</td>\n",
       "      <td>-14.742</td>\n",
       "      <td>-4539.0</td>\n",
       "      <td>12.451869</td>\n",
       "      <td>0.435093</td>\n",
       "      <td>0.00334</td>\n",
       "      <td>2.156995</td>\n",
       "      <td>...</td>\n",
       "      <td>0.253809</td>\n",
       "      <td>0.401662</td>\n",
       "      <td>0.000819</td>\n",
       "      <td>0.002213</td>\n",
       "      <td>2021-05-06 02:03:16</td>\n",
       "      <td>3</td>\n",
       "      <td>35.539001</td>\n",
       "      <td>12.378333</td>\n",
       "      <td>0.001788</td>\n",
       "      <td>0.695875</td>\n",
       "    </tr>\n",
       "    <tr>\n",
       "      <th>1</th>\n",
       "      <td>1902303</td>\n",
       "      <td>1</td>\n",
       "      <td>2021-05-06 02:03:16</td>\n",
       "      <td>49.236</td>\n",
       "      <td>-14.742</td>\n",
       "      <td>-4539.0</td>\n",
       "      <td>12.451869</td>\n",
       "      <td>0.435093</td>\n",
       "      <td>0.00334</td>\n",
       "      <td>2.156995</td>\n",
       "      <td>...</td>\n",
       "      <td>0.253809</td>\n",
       "      <td>0.401662</td>\n",
       "      <td>0.000819</td>\n",
       "      <td>0.002213</td>\n",
       "      <td>2021-05-06 02:03:16</td>\n",
       "      <td>4</td>\n",
       "      <td>35.539001</td>\n",
       "      <td>12.378333</td>\n",
       "      <td>0.001788</td>\n",
       "      <td>0.695875</td>\n",
       "    </tr>\n",
       "    <tr>\n",
       "      <th>2</th>\n",
       "      <td>1902303</td>\n",
       "      <td>1</td>\n",
       "      <td>2021-05-06 02:03:16</td>\n",
       "      <td>49.236</td>\n",
       "      <td>-14.742</td>\n",
       "      <td>-4539.0</td>\n",
       "      <td>12.451869</td>\n",
       "      <td>0.435093</td>\n",
       "      <td>0.00334</td>\n",
       "      <td>2.156995</td>\n",
       "      <td>...</td>\n",
       "      <td>0.253809</td>\n",
       "      <td>0.401662</td>\n",
       "      <td>0.000819</td>\n",
       "      <td>0.002213</td>\n",
       "      <td>2021-05-06 02:03:16</td>\n",
       "      <td>6</td>\n",
       "      <td>35.539001</td>\n",
       "      <td>12.378667</td>\n",
       "      <td>0.001788</td>\n",
       "      <td>0.696499</td>\n",
       "    </tr>\n",
       "    <tr>\n",
       "      <th>3</th>\n",
       "      <td>1902303</td>\n",
       "      <td>1</td>\n",
       "      <td>2021-05-06 02:03:16</td>\n",
       "      <td>49.236</td>\n",
       "      <td>-14.742</td>\n",
       "      <td>-4539.0</td>\n",
       "      <td>12.451869</td>\n",
       "      <td>0.435093</td>\n",
       "      <td>0.00334</td>\n",
       "      <td>2.156995</td>\n",
       "      <td>...</td>\n",
       "      <td>0.253809</td>\n",
       "      <td>0.401662</td>\n",
       "      <td>0.000819</td>\n",
       "      <td>0.002213</td>\n",
       "      <td>2021-05-06 02:03:16</td>\n",
       "      <td>8</td>\n",
       "      <td>35.539001</td>\n",
       "      <td>12.379000</td>\n",
       "      <td>0.001789</td>\n",
       "      <td>0.716489</td>\n",
       "    </tr>\n",
       "    <tr>\n",
       "      <th>4</th>\n",
       "      <td>1902303</td>\n",
       "      <td>1</td>\n",
       "      <td>2021-05-06 02:03:16</td>\n",
       "      <td>49.236</td>\n",
       "      <td>-14.742</td>\n",
       "      <td>-4539.0</td>\n",
       "      <td>12.451869</td>\n",
       "      <td>0.435093</td>\n",
       "      <td>0.00334</td>\n",
       "      <td>2.156995</td>\n",
       "      <td>...</td>\n",
       "      <td>0.253809</td>\n",
       "      <td>0.401662</td>\n",
       "      <td>0.000819</td>\n",
       "      <td>0.002213</td>\n",
       "      <td>2021-05-06 02:03:16</td>\n",
       "      <td>10</td>\n",
       "      <td>35.539001</td>\n",
       "      <td>12.379000</td>\n",
       "      <td>0.001790</td>\n",
       "      <td>0.715552</td>\n",
       "    </tr>\n",
       "  </tbody>\n",
       "</table>\n",
       "<p>5 rows × 21 columns</p>\n",
       "</div>"
      ],
      "text/plain": [
       "     float  cycleNumber             SAT_date  latitude  longitude  elevation  \\\n",
       "0  1902303            1  2021-05-06 02:03:16    49.236    -14.742    -4539.0   \n",
       "1  1902303            1  2021-05-06 02:03:16    49.236    -14.742    -4539.0   \n",
       "2  1902303            1  2021-05-06 02:03:16    49.236    -14.742    -4539.0   \n",
       "3  1902303            1  2021-05-06 02:03:16    49.236    -14.742    -4539.0   \n",
       "4  1902303            1  2021-05-06 02:03:16    49.236    -14.742    -4539.0   \n",
       "\n",
       "   MO_SAT_SST  MO_SAT_CHL  MO_SAT_BBP  LT_SAT_SST_SD  ...  LT_SAT_CHL_SD  \\\n",
       "0   12.451869    0.435093     0.00334       2.156995  ...       0.253809   \n",
       "1   12.451869    0.435093     0.00334       2.156995  ...       0.253809   \n",
       "2   12.451869    0.435093     0.00334       2.156995  ...       0.253809   \n",
       "3   12.451869    0.435093     0.00334       2.156995  ...       0.253809   \n",
       "4   12.451869    0.435093     0.00334       2.156995  ...       0.253809   \n",
       "\n",
       "   LT_SAT_CHL_MED  LT_SAT_BBP_SD  LT_SAT_BBP_MED            PROF_date PRES  \\\n",
       "0        0.401662       0.000819        0.002213  2021-05-06 02:03:16    3   \n",
       "1        0.401662       0.000819        0.002213  2021-05-06 02:03:16    4   \n",
       "2        0.401662       0.000819        0.002213  2021-05-06 02:03:16    6   \n",
       "3        0.401662       0.000819        0.002213  2021-05-06 02:03:16    8   \n",
       "4        0.401662       0.000819        0.002213  2021-05-06 02:03:16   10   \n",
       "\n",
       "        PSAL       TEMP    BBP700      CHLA  \n",
       "0  35.539001  12.378333  0.001788  0.695875  \n",
       "1  35.539001  12.378333  0.001788  0.695875  \n",
       "2  35.539001  12.378667  0.001788  0.696499  \n",
       "3  35.539001  12.379000  0.001789  0.716489  \n",
       "4  35.539001  12.379000  0.001790  0.715552  \n",
       "\n",
       "[5 rows x 21 columns]"
      ]
     },
     "execution_count": 13,
     "metadata": {},
     "output_type": "execute_result"
    }
   ],
   "source": [
    "merged_df.head()"
   ]
  },
  {
   "cell_type": "code",
   "execution_count": 14,
   "metadata": {},
   "outputs": [
    {
     "name": "stdout",
     "output_type": "stream",
     "text": [
      "The merged_df has columns ['float', 'cycleNumber', 'SAT_date', 'latitude', 'longitude', 'elevation', 'MO_SAT_SST', 'MO_SAT_CHL', 'MO_SAT_BBP', 'LT_SAT_SST_SD', 'LT_SAT_SST_MED', 'LT_SAT_CHL_SD', 'LT_SAT_CHL_MED', 'LT_SAT_BBP_SD', 'LT_SAT_BBP_MED', 'PROF_date', 'PRES', 'PSAL', 'TEMP', 'BBP700', 'CHLA']\n"
     ]
    }
   ],
   "source": [
    "print(\"The merged_df has columns\", merged_df.columns.to_list())"
   ]
  },
  {
   "cell_type": "markdown",
   "metadata": {},
   "source": [
    "Lets see the correlations between the CHLA measurement from the float (specific moment in time) as well as the monthly and LT average measurements of CHLA from sattelate"
   ]
  },
  {
   "cell_type": "code",
   "execution_count": 15,
   "metadata": {},
   "outputs": [
    {
     "data": {
      "image/png": "[encoded data removed]",
      "text/plain": [
       "<Figure size 864x576 with 2 Axes>"
      ]
     },
     "metadata": {
      "needs_background": "light"
     },
     "output_type": "display_data"
    }
   ],
   "source": [
    "chla_Matrix = merged_df[[\n",
    "    \"MO_SAT_CHL\",\n",
    "    \"LT_SAT_CHL_MED\",\n",
    "    \"CHLA\",\n",
    "    \"TEMP\",\n",
    "    \"BBP700\",\n",
    "    \"MO_SAT_SST\",\n",
    "]]\n",
    "\n",
    "fig, ax  = plt.subplots(1,1, figsize=(12,8))\n",
    "chlaCorrMatrix = chla_Matrix.corr()\n",
    "ax.set_title(\"Correlation Matrix (merged DF)\")\n",
    "sns.heatmap(chlaCorrMatrix, annot=True)\n",
    "plt.show()"
   ]
  },
  {
   "cell_type": "code",
   "execution_count": 16,
   "metadata": {},
   "outputs": [],
   "source": [
    "month_dict = {\n",
    "    '01': 'Jan',\n",
    "    '02': 'Feb',\n",
    "    '03': 'March',\n",
    "    '04': 'April',\n",
    "    '05': 'May',\n",
    "    '06': 'June',\n",
    "    '07': 'July',\n",
    "    '08': 'Aug',\n",
    "    '09': 'Sep',\n",
    "    '10': 'Oct',\n",
    "    '11': 'Nov',\n",
    "    '12': 'Dec' \n",
    "}"
   ]
  },
  {
   "cell_type": "code",
   "execution_count": 17,
   "metadata": {},
   "outputs": [],
   "source": [
    "for i in sat_df.index:\n",
    "    date = sat_df.loc[i, 'SAT_date']\n",
    "    month = date[5:7]\n",
    "    sat_df.at[i, \"month\"] = month_dict.get(month)\n",
    "    \n"
   ]
  },
  {
   "cell_type": "markdown",
   "metadata": {},
   "source": [
    "Lets look at the correlation between CHLA and seasonality, meaured by month (split by north and south hemispheres)"
   ]
  },
  {
   "cell_type": "code",
   "execution_count": 18,
   "metadata": {},
   "outputs": [
    {
     "name": "stdout",
     "output_type": "stream",
     "text": [
      "North has 34220 measurements and south has 32050\n"
     ]
    }
   ],
   "source": [
    "north = sat_df[sat_df[\"latitude\"]>0]\n",
    "south =  sat_df[sat_df[\"latitude\"]<0]\n",
    "print(f\"North has {north.shape[0]} measurements and south has {south.shape[0]}\")"
   ]
  },
  {
   "cell_type": "code",
   "execution_count": 19,
   "metadata": {},
   "outputs": [
    {
     "data": {
      "image/png": "[encoded data removed]",
      "text/plain": [
       "<Figure size 720x360 with 1 Axes>"
      ]
     },
     "metadata": {
      "needs_background": "light"
     },
     "output_type": "display_data"
    }
   ],
   "source": [
    "fig, ax = plt.subplots(figsize=(10,5))\n",
    "plt.scatter(x=north[\"month\"], y=north[\"MO_SAT_CHL\"])\n",
    "plt.title(\"Monthly Avg. CHL Sattelite Data (split by month in Northern Hem.\")\n",
    "plt.xlabel(\"Monthly Av. CHL\")\n",
    "plt.show()\n",
    "\n"
   ]
  },
  {
   "cell_type": "code",
   "execution_count": 20,
   "metadata": {},
   "outputs": [
    {
     "data": {
      "image/png": "[encoded data removed]",
      "text/plain": [
       "<Figure size 720x360 with 1 Axes>"
      ]
     },
     "metadata": {
      "needs_background": "light"
     },
     "output_type": "display_data"
    }
   ],
   "source": [
    "fig, ax = plt.subplots(figsize=(10,5))\n",
    "plt.scatter(x=south[\"month\"], y=south[\"MO_SAT_CHL\"])\n",
    "plt.title(\"Monthly Avg. CHL Sattelite Data (split by month in South Hem.\")\n",
    "plt.xlabel(\"Monthly Av. CHL\")\n",
    "plt.show()\n"
   ]
  },
  {
   "cell_type": "code",
   "execution_count": 21,
   "metadata": {},
   "outputs": [],
   "source": [
    "float_loc_data = pd.read_csv('/Users/elijahflomen/Desktop/Capstone/data/floatLocData.csv')"
   ]
  },
  {
   "cell_type": "code",
   "execution_count": 22,
   "metadata": {},
   "outputs": [
    {
     "data": {
      "text/html": [
       "<div>\n",
       "<style scoped>\n",
       "    .dataframe tbody tr th:only-of-type {\n",
       "        vertical-align: middle;\n",
       "    }\n",
       "\n",
       "    .dataframe tbody tr th {\n",
       "        vertical-align: top;\n",
       "    }\n",
       "\n",
       "    .dataframe thead th {\n",
       "        text-align: right;\n",
       "    }\n",
       "</style>\n",
       "<table border=\"1\" class=\"dataframe\">\n",
       "  <thead>\n",
       "    <tr style=\"text-align: right;\">\n",
       "      <th></th>\n",
       "      <th>float</th>\n",
       "      <th>latitude</th>\n",
       "      <th>longitude</th>\n",
       "      <th>cycleNumber</th>\n",
       "      <th>date</th>\n",
       "      <th>date_str</th>\n",
       "      <th>PRES</th>\n",
       "      <th>PSAL</th>\n",
       "      <th>TEMP</th>\n",
       "      <th>BBP700</th>\n",
       "      <th>CHLA</th>\n",
       "    </tr>\n",
       "  </thead>\n",
       "  <tbody>\n",
       "    <tr>\n",
       "      <th>0</th>\n",
       "      <td>1902303</td>\n",
       "      <td>49.236</td>\n",
       "      <td>-14.742</td>\n",
       "      <td>1</td>\n",
       "      <td>2021-05-06 02:03:16</td>\n",
       "      <td>2021-05-06 02:03:16</td>\n",
       "      <td>3</td>\n",
       "      <td>35.539001</td>\n",
       "      <td>12.378333</td>\n",
       "      <td>0.001788</td>\n",
       "      <td>0.695875</td>\n",
       "    </tr>\n",
       "    <tr>\n",
       "      <th>1</th>\n",
       "      <td>1902303</td>\n",
       "      <td>49.236</td>\n",
       "      <td>-14.742</td>\n",
       "      <td>1</td>\n",
       "      <td>2021-05-06 02:03:16</td>\n",
       "      <td>2021-05-06 02:03:16</td>\n",
       "      <td>4</td>\n",
       "      <td>35.539001</td>\n",
       "      <td>12.378333</td>\n",
       "      <td>0.001788</td>\n",
       "      <td>0.695875</td>\n",
       "    </tr>\n",
       "    <tr>\n",
       "      <th>2</th>\n",
       "      <td>1902303</td>\n",
       "      <td>49.236</td>\n",
       "      <td>-14.742</td>\n",
       "      <td>1</td>\n",
       "      <td>2021-05-06 02:03:16</td>\n",
       "      <td>2021-05-06 02:03:16</td>\n",
       "      <td>6</td>\n",
       "      <td>35.539001</td>\n",
       "      <td>12.378667</td>\n",
       "      <td>0.001788</td>\n",
       "      <td>0.696499</td>\n",
       "    </tr>\n",
       "    <tr>\n",
       "      <th>3</th>\n",
       "      <td>1902303</td>\n",
       "      <td>49.236</td>\n",
       "      <td>-14.742</td>\n",
       "      <td>1</td>\n",
       "      <td>2021-05-06 02:03:16</td>\n",
       "      <td>2021-05-06 02:03:16</td>\n",
       "      <td>8</td>\n",
       "      <td>35.539001</td>\n",
       "      <td>12.379000</td>\n",
       "      <td>0.001789</td>\n",
       "      <td>0.716489</td>\n",
       "    </tr>\n",
       "    <tr>\n",
       "      <th>4</th>\n",
       "      <td>1902303</td>\n",
       "      <td>49.236</td>\n",
       "      <td>-14.742</td>\n",
       "      <td>1</td>\n",
       "      <td>2021-05-06 02:03:16</td>\n",
       "      <td>2021-05-06 02:03:16</td>\n",
       "      <td>10</td>\n",
       "      <td>35.539001</td>\n",
       "      <td>12.379000</td>\n",
       "      <td>0.001790</td>\n",
       "      <td>0.715552</td>\n",
       "    </tr>\n",
       "  </tbody>\n",
       "</table>\n",
       "</div>"
      ],
      "text/plain": [
       "     float  latitude  longitude  cycleNumber                 date  \\\n",
       "0  1902303    49.236    -14.742            1  2021-05-06 02:03:16   \n",
       "1  1902303    49.236    -14.742            1  2021-05-06 02:03:16   \n",
       "2  1902303    49.236    -14.742            1  2021-05-06 02:03:16   \n",
       "3  1902303    49.236    -14.742            1  2021-05-06 02:03:16   \n",
       "4  1902303    49.236    -14.742            1  2021-05-06 02:03:16   \n",
       "\n",
       "              date_str  PRES       PSAL       TEMP    BBP700      CHLA  \n",
       "0  2021-05-06 02:03:16     3  35.539001  12.378333  0.001788  0.695875  \n",
       "1  2021-05-06 02:03:16     4  35.539001  12.378333  0.001788  0.695875  \n",
       "2  2021-05-06 02:03:16     6  35.539001  12.378667  0.001788  0.696499  \n",
       "3  2021-05-06 02:03:16     8  35.539001  12.379000  0.001789  0.716489  \n",
       "4  2021-05-06 02:03:16    10  35.539001  12.379000  0.001790  0.715552  "
      ]
     },
     "execution_count": 22,
     "metadata": {},
     "output_type": "execute_result"
    }
   ],
   "source": [
    "float_loc_data.head()"
   ]
  },
  {
   "cell_type": "code",
   "execution_count": 23,
   "metadata": {},
   "outputs": [
    {
     "data": {
      "text/plain": [
       "(33210617, 11)"
      ]
     },
     "execution_count": 23,
     "metadata": {},
     "output_type": "execute_result"
    }
   ],
   "source": [
    "float_loc_data.shape"
   ]
  },
  {
   "cell_type": "code",
   "execution_count": 26,
   "metadata": {},
   "outputs": [
    {
     "data": {
      "text/html": [
       "<div>\n",
       "<style scoped>\n",
       "    .dataframe tbody tr th:only-of-type {\n",
       "        vertical-align: middle;\n",
       "    }\n",
       "\n",
       "    .dataframe tbody tr th {\n",
       "        vertical-align: top;\n",
       "    }\n",
       "\n",
       "    .dataframe thead th {\n",
       "        text-align: right;\n",
       "    }\n",
       "</style>\n",
       "<table border=\"1\" class=\"dataframe\">\n",
       "  <thead>\n",
       "    <tr style=\"text-align: right;\">\n",
       "      <th></th>\n",
       "      <th>float</th>\n",
       "      <th>latitude</th>\n",
       "      <th>longitude</th>\n",
       "      <th>cycleNumber</th>\n",
       "      <th>date</th>\n",
       "      <th>date_str</th>\n",
       "      <th>PRES</th>\n",
       "      <th>PSAL</th>\n",
       "      <th>TEMP</th>\n",
       "      <th>BBP700</th>\n",
       "      <th>CHLA</th>\n",
       "    </tr>\n",
       "  </thead>\n",
       "  <tbody>\n",
       "    <tr>\n",
       "      <th>0</th>\n",
       "      <td>1902303</td>\n",
       "      <td>49.236</td>\n",
       "      <td>-14.742</td>\n",
       "      <td>1</td>\n",
       "      <td>2021-05-06 02:03:16</td>\n",
       "      <td>2021-05-06 02:03:16</td>\n",
       "      <td>3</td>\n",
       "      <td>35.539001</td>\n",
       "      <td>12.378333</td>\n",
       "      <td>0.001788</td>\n",
       "      <td>0.695875</td>\n",
       "    </tr>\n",
       "    <tr>\n",
       "      <th>523</th>\n",
       "      <td>1902303</td>\n",
       "      <td>49.096</td>\n",
       "      <td>-14.617</td>\n",
       "      <td>2</td>\n",
       "      <td>2021-05-06 19:32:57</td>\n",
       "      <td>2021-05-06 19:32:57</td>\n",
       "      <td>3</td>\n",
       "      <td>35.518668</td>\n",
       "      <td>12.663667</td>\n",
       "      <td>0.002031</td>\n",
       "      <td>0.729919</td>\n",
       "    </tr>\n",
       "    <tr>\n",
       "      <th>935</th>\n",
       "      <td>1902303</td>\n",
       "      <td>48.914</td>\n",
       "      <td>-14.606</td>\n",
       "      <td>3</td>\n",
       "      <td>2021-05-07 20:05:38</td>\n",
       "      <td>2021-05-07 20:05:38</td>\n",
       "      <td>3</td>\n",
       "      <td>35.544000</td>\n",
       "      <td>12.695333</td>\n",
       "      <td>0.002148</td>\n",
       "      <td>1.063491</td>\n",
       "    </tr>\n",
       "    <tr>\n",
       "      <th>1411</th>\n",
       "      <td>1902303</td>\n",
       "      <td>48.794</td>\n",
       "      <td>-14.689</td>\n",
       "      <td>4</td>\n",
       "      <td>2021-05-08 22:42:52</td>\n",
       "      <td>2021-05-08 22:42:52</td>\n",
       "      <td>3</td>\n",
       "      <td>35.537998</td>\n",
       "      <td>12.451333</td>\n",
       "      <td>0.002261</td>\n",
       "      <td>1.445162</td>\n",
       "    </tr>\n",
       "    <tr>\n",
       "      <th>1923</th>\n",
       "      <td>1902303</td>\n",
       "      <td>48.719</td>\n",
       "      <td>-14.795</td>\n",
       "      <td>5</td>\n",
       "      <td>2021-05-09 20:29:00</td>\n",
       "      <td>2021-05-09 20:29:00</td>\n",
       "      <td>3</td>\n",
       "      <td>35.543999</td>\n",
       "      <td>12.435000</td>\n",
       "      <td>0.001951</td>\n",
       "      <td>1.020077</td>\n",
       "    </tr>\n",
       "  </tbody>\n",
       "</table>\n",
       "</div>"
      ],
      "text/plain": [
       "        float  latitude  longitude  cycleNumber                 date  \\\n",
       "0     1902303    49.236    -14.742            1  2021-05-06 02:03:16   \n",
       "523   1902303    49.096    -14.617            2  2021-05-06 19:32:57   \n",
       "935   1902303    48.914    -14.606            3  2021-05-07 20:05:38   \n",
       "1411  1902303    48.794    -14.689            4  2021-05-08 22:42:52   \n",
       "1923  1902303    48.719    -14.795            5  2021-05-09 20:29:00   \n",
       "\n",
       "                 date_str  PRES       PSAL       TEMP    BBP700      CHLA  \n",
       "0     2021-05-06 02:03:16     3  35.539001  12.378333  0.001788  0.695875  \n",
       "523   2021-05-06 19:32:57     3  35.518668  12.663667  0.002031  0.729919  \n",
       "935   2021-05-07 20:05:38     3  35.544000  12.695333  0.002148  1.063491  \n",
       "1411  2021-05-08 22:42:52     3  35.537998  12.451333  0.002261  1.445162  \n",
       "1923  2021-05-09 20:29:00     3  35.543999  12.435000  0.001951  1.020077  "
      ]
     },
     "execution_count": 26,
     "metadata": {},
     "output_type": "execute_result"
    }
   ],
   "source": [
    "# only keep 1 float per date \n",
    "float_loc_data = float_loc_data.drop_duplicates(subset=[\"float\", \"date\"])\n",
    "float_loc_data.head()\n"
   ]
  },
  {
   "cell_type": "code",
   "execution_count": 28,
   "metadata": {},
   "outputs": [
    {
     "ename": "KeyboardInterrupt",
     "evalue": "",
     "output_type": "error",
     "traceback": [
      "\u001b[0;31m---------------------------------------------------------------------------\u001b[0m",
      "\u001b[0;31mKeyboardInterrupt\u001b[0m                         Traceback (most recent call last)",
      "\u001b[1;32m/Users/elijahflomen/Desktop/Capstone/ocean-depth-characterization/EDA/elijah_EDA.ipynb Cell 28\u001b[0m in \u001b[0;36m<cell line: 2>\u001b[0;34m()\u001b[0m\n\u001b[1;32m      <a href='vscode-notebook-cell:/Users/elijahflomen/Desktop/Capstone/ocean-depth-characterization/EDA/elijah_EDA.ipynb#X36sZmlsZQ%3D%3D?line=5'>6</a>\u001b[0m s_long \u001b[39m=\u001b[39m sat_df\u001b[39m.\u001b[39mloc[s, \u001b[39m\"\u001b[39m\u001b[39mlongitude\u001b[39m\u001b[39m\"\u001b[39m]\n\u001b[1;32m      <a href='vscode-notebook-cell:/Users/elijahflomen/Desktop/Capstone/ocean-depth-characterization/EDA/elijah_EDA.ipynb#X36sZmlsZQ%3D%3D?line=6'>7</a>\u001b[0m f_lat \u001b[39m=\u001b[39m float_loc_data\u001b[39m.\u001b[39mloc[f, \u001b[39m'\u001b[39m\u001b[39mlatitude\u001b[39m\u001b[39m'\u001b[39m]\n\u001b[0;32m----> <a href='vscode-notebook-cell:/Users/elijahflomen/Desktop/Capstone/ocean-depth-characterization/EDA/elijah_EDA.ipynb#X36sZmlsZQ%3D%3D?line=7'>8</a>\u001b[0m f_long \u001b[39m=\u001b[39m float_loc_data\u001b[39m.\u001b[39;49mloc[f, \u001b[39m'\u001b[39;49m\u001b[39mlongitude\u001b[39;49m\u001b[39m'\u001b[39;49m]\n\u001b[1;32m      <a href='vscode-notebook-cell:/Users/elijahflomen/Desktop/Capstone/ocean-depth-characterization/EDA/elijah_EDA.ipynb#X36sZmlsZQ%3D%3D?line=8'>9</a>\u001b[0m s_coord \u001b[39m=\u001b[39m np\u001b[39m.\u001b[39marray((s_lat, s_long))\n\u001b[1;32m     <a href='vscode-notebook-cell:/Users/elijahflomen/Desktop/Capstone/ocean-depth-characterization/EDA/elijah_EDA.ipynb#X36sZmlsZQ%3D%3D?line=9'>10</a>\u001b[0m f_coord \u001b[39m=\u001b[39m np\u001b[39m.\u001b[39marray((f_long, f_lat))\n",
      "File \u001b[0;32m~/miniforge3/lib/python3.9/site-packages/pandas/core/indexing.py:960\u001b[0m, in \u001b[0;36m_LocationIndexer.__getitem__\u001b[0;34m(self, key)\u001b[0m\n\u001b[1;32m    958\u001b[0m     key \u001b[39m=\u001b[39m \u001b[39mtuple\u001b[39m(com\u001b[39m.\u001b[39mapply_if_callable(x, \u001b[39mself\u001b[39m\u001b[39m.\u001b[39mobj) \u001b[39mfor\u001b[39;00m x \u001b[39min\u001b[39;00m key)\n\u001b[1;32m    959\u001b[0m     \u001b[39mif\u001b[39;00m \u001b[39mself\u001b[39m\u001b[39m.\u001b[39m_is_scalar_access(key):\n\u001b[0;32m--> 960\u001b[0m         \u001b[39mreturn\u001b[39;00m \u001b[39mself\u001b[39;49m\u001b[39m.\u001b[39;49mobj\u001b[39m.\u001b[39;49m_get_value(\u001b[39m*\u001b[39;49mkey, takeable\u001b[39m=\u001b[39;49m\u001b[39mself\u001b[39;49m\u001b[39m.\u001b[39;49m_takeable)\n\u001b[1;32m    961\u001b[0m     \u001b[39mreturn\u001b[39;00m \u001b[39mself\u001b[39m\u001b[39m.\u001b[39m_getitem_tuple(key)\n\u001b[1;32m    962\u001b[0m \u001b[39melse\u001b[39;00m:\n\u001b[1;32m    963\u001b[0m     \u001b[39m# we by definition only have the 0th axis\u001b[39;00m\n",
      "File \u001b[0;32m~/miniforge3/lib/python3.9/site-packages/pandas/core/frame.py:3623\u001b[0m, in \u001b[0;36mDataFrame._get_value\u001b[0;34m(self, index, col, takeable)\u001b[0m\n\u001b[1;32m   3618\u001b[0m \u001b[39mif\u001b[39;00m \u001b[39mnot\u001b[39;00m \u001b[39misinstance\u001b[39m(\u001b[39mself\u001b[39m\u001b[39m.\u001b[39mindex, MultiIndex):\n\u001b[1;32m   3619\u001b[0m     \u001b[39m# CategoricalIndex: Trying to use the engine fastpath may give incorrect\u001b[39;00m\n\u001b[1;32m   3620\u001b[0m     \u001b[39m#  results if our categories are integers that dont match our codes\u001b[39;00m\n\u001b[1;32m   3621\u001b[0m     \u001b[39m# IntervalIndex: IntervalTree has no get_loc\u001b[39;00m\n\u001b[1;32m   3622\u001b[0m     row \u001b[39m=\u001b[39m \u001b[39mself\u001b[39m\u001b[39m.\u001b[39mindex\u001b[39m.\u001b[39mget_loc(index)\n\u001b[0;32m-> 3623\u001b[0m     \u001b[39mreturn\u001b[39;00m series\u001b[39m.\u001b[39;49m_values[row]\n\u001b[1;32m   3625\u001b[0m \u001b[39m# For MultiIndex going through engine effectively restricts us to\u001b[39;00m\n\u001b[1;32m   3626\u001b[0m \u001b[39m#  same-length tuples; see test_get_set_value_no_partial_indexing\u001b[39;00m\n\u001b[1;32m   3627\u001b[0m loc \u001b[39m=\u001b[39m engine\u001b[39m.\u001b[39mget_loc(index)\n",
      "File \u001b[0;32m~/miniforge3/lib/python3.9/site-packages/pandas/core/series.py:719\u001b[0m, in \u001b[0;36mSeries._values\u001b[0;34m(self)\u001b[0m\n\u001b[1;32m    687\u001b[0m \u001b[39m@property\u001b[39m\n\u001b[1;32m    688\u001b[0m \u001b[39mdef\u001b[39;00m \u001b[39m_values\u001b[39m(\u001b[39mself\u001b[39m):\n\u001b[1;32m    689\u001b[0m     \u001b[39m\"\"\"\u001b[39;00m\n\u001b[1;32m    690\u001b[0m \u001b[39m    Return the internal repr of this data (defined by Block.interval_values).\u001b[39;00m\n\u001b[1;32m    691\u001b[0m \u001b[39m    This are the values as stored in the Block (ndarray or ExtensionArray\u001b[39;00m\n\u001b[0;32m   (...)\u001b[0m\n\u001b[1;32m    717\u001b[0m \n\u001b[1;32m    718\u001b[0m \u001b[39m    \"\"\"\u001b[39;00m\n\u001b[0;32m--> 719\u001b[0m     \u001b[39mreturn\u001b[39;00m \u001b[39mself\u001b[39;49m\u001b[39m.\u001b[39;49m_mgr\u001b[39m.\u001b[39;49minternal_values()\n",
      "\u001b[0;31mKeyboardInterrupt\u001b[0m: "
     ]
    }
   ],
   "source": [
    "distance_errors = []\n",
    "for f in float_loc_data.index:\n",
    "    all_dist = []\n",
    "    for s in sat_df.index:\n",
    "        s_lat = sat_df.loc[s, \"latitude\"]\n",
    "        s_long = sat_df.loc[s, \"longitude\"]\n",
    "        f_lat = float_loc_data.loc[f, 'latitude']\n",
    "        f_long = float_loc_data.loc[f, 'longitude']\n",
    "        s_coord = np.array((s_lat, s_long))\n",
    "        f_coord = np.array((f_long, f_lat))\n",
    "        all_dist.append(np.linalg.norm(s_coord - f_coord))\n",
    "    distance_errors.append(np.min(all_dist))\n",
    "\n"
   ]
  },
  {
   "cell_type": "code",
   "execution_count": null,
   "metadata": {},
   "outputs": [],
   "source": []
  }
 ],
 "metadata": {
  "kernelspec": {
   "display_name": "Python 3.9.10 ('base')",
   "language": "python",
   "name": "python3"
  },
  "language_info": {
   "codemirror_mode": {
    "name": "ipython",
    "version": 3
   },
   "file_extension": ".py",
   "mimetype": "text/x-python",
   "name": "python",
   "nbconvert_exporter": "python",
   "pygments_lexer": "ipython3",
   "version": "3.9.10"
  },
  "orig_nbformat": 4,
  "vscode": {
   "interpreter": {
    "hash": "bb871e0b5334f500d34f4d3716e40a649311c85337edcccbd805ccf8425dd597"
   }
  }
 },
 "nbformat": 4,
 "nbformat_minor": 2
}
